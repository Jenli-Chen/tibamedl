{
 "cells": [
  {
   "cell_type": "markdown",
   "metadata": {},
   "source": [
    "## ARIMA\n",
    "- http://ucanalytics.com/blogs/time-series-decomposition-manufacturing-case-study-example-part-2/\n",
    "- https://rpubs.com/zkajdan/316135"
   ]
  },
  {
   "cell_type": "code",
   "execution_count": 15,
   "metadata": {},
   "outputs": [],
   "source": [
    "import pandas\n",
    "df = pandas.read_csv('https://raw.githubusercontent.com/ywchiu/tibamedl/master/Data/2330.TW.csv')\n",
    "#df"
   ]
  },
  {
   "cell_type": "code",
   "execution_count": 17,
   "metadata": {},
   "outputs": [],
   "source": [
    "df = df[~ df['Close'].isna()]"
   ]
  },
  {
   "cell_type": "code",
   "execution_count": 18,
   "metadata": {
    "scrolled": true
   },
   "outputs": [
    {
     "name": "stdout",
     "output_type": "stream",
     "text": [
      "Populating the interactive namespace from numpy and matplotlib\n"
     ]
    },
    {
     "data": {
      "text/plain": [
       "<matplotlib.axes._subplots.AxesSubplot at 0x8b1d898>"
      ]
     },
     "execution_count": 18,
     "metadata": {},
     "output_type": "execute_result"
    },
    {
     "data": {
      "image/png": "[encoded data removed]",
      "text/plain": [
       "<Figure size 432x288 with 1 Axes>"
      ]
     },
     "metadata": {},
     "output_type": "display_data"
    }
   ],
   "source": [
    "%pylab inline\n",
    "df['Close'].plot(kind = 'line')"
   ]
  },
  {
   "cell_type": "code",
   "execution_count": 19,
   "metadata": {},
   "outputs": [
    {
     "data": {
      "text/plain": [
       "Date         1851\n",
       "Open         1851\n",
       "High         1851\n",
       "Low          1851\n",
       "Close        1851\n",
       "Adj Close    1851\n",
       "Volume       1851\n",
       "dtype: int64"
      ]
     },
     "execution_count": 19,
     "metadata": {},
     "output_type": "execute_result"
    }
   ],
   "source": [
    "df.count()"
   ]
  },
  {
   "cell_type": "code",
   "execution_count": 20,
   "metadata": {},
   "outputs": [],
   "source": [
    "trainset = df.iloc[0:1551,:]\n",
    "testset  = df.iloc[1551: ,:]"
   ]
  },
  {
   "cell_type": "code",
   "execution_count": 21,
   "metadata": {},
   "outputs": [
    {
     "data": {
      "text/plain": [
       "(1551, 7)"
      ]
     },
     "execution_count": 21,
     "metadata": {},
     "output_type": "execute_result"
    }
   ],
   "source": [
    "trainset.shape"
   ]
  },
  {
   "cell_type": "code",
   "execution_count": 22,
   "metadata": {},
   "outputs": [
    {
     "data": {
      "text/plain": [
       "(300, 7)"
      ]
     },
     "execution_count": 22,
     "metadata": {},
     "output_type": "execute_result"
    }
   ],
   "source": [
    "testset.shape"
   ]
  },
  {
   "cell_type": "code",
   "execution_count": 23,
   "metadata": {},
   "outputs": [
    {
     "data": {
      "text/html": [
       "<div>\n",
       "<style scoped>\n",
       "    .dataframe tbody tr th:only-of-type {\n",
       "        vertical-align: middle;\n",
       "    }\n",
       "\n",
       "    .dataframe tbody tr th {\n",
       "        vertical-align: top;\n",
       "    }\n",
       "\n",
       "    .dataframe thead th {\n",
       "        text-align: right;\n",
       "    }\n",
       "</style>\n",
       "<table border=\"1\" class=\"dataframe\">\n",
       "  <thead>\n",
       "    <tr style=\"text-align: right;\">\n",
       "      <th></th>\n",
       "      <th>Date</th>\n",
       "      <th>Open</th>\n",
       "      <th>High</th>\n",
       "      <th>Low</th>\n",
       "      <th>Close</th>\n",
       "      <th>Adj Close</th>\n",
       "      <th>Volume</th>\n",
       "    </tr>\n",
       "  </thead>\n",
       "  <tbody>\n",
       "    <tr>\n",
       "      <th>1551</th>\n",
       "      <td>2017-04-25</td>\n",
       "      <td>190.5</td>\n",
       "      <td>192.0</td>\n",
       "      <td>189.5</td>\n",
       "      <td>192.0</td>\n",
       "      <td>179.272598</td>\n",
       "      <td>31932000.0</td>\n",
       "    </tr>\n",
       "    <tr>\n",
       "      <th>1552</th>\n",
       "      <td>2017-04-26</td>\n",
       "      <td>192.0</td>\n",
       "      <td>192.0</td>\n",
       "      <td>190.5</td>\n",
       "      <td>191.0</td>\n",
       "      <td>178.338898</td>\n",
       "      <td>29909000.0</td>\n",
       "    </tr>\n",
       "    <tr>\n",
       "      <th>1553</th>\n",
       "      <td>2017-04-27</td>\n",
       "      <td>192.0</td>\n",
       "      <td>193.0</td>\n",
       "      <td>190.5</td>\n",
       "      <td>193.0</td>\n",
       "      <td>180.206314</td>\n",
       "      <td>27940000.0</td>\n",
       "    </tr>\n",
       "    <tr>\n",
       "      <th>1554</th>\n",
       "      <td>2017-04-28</td>\n",
       "      <td>193.5</td>\n",
       "      <td>194.5</td>\n",
       "      <td>193.0</td>\n",
       "      <td>194.5</td>\n",
       "      <td>181.606888</td>\n",
       "      <td>34852000.0</td>\n",
       "    </tr>\n",
       "    <tr>\n",
       "      <th>1555</th>\n",
       "      <td>2017-05-02</td>\n",
       "      <td>198.5</td>\n",
       "      <td>199.0</td>\n",
       "      <td>195.5</td>\n",
       "      <td>196.5</td>\n",
       "      <td>183.474304</td>\n",
       "      <td>44119000.0</td>\n",
       "    </tr>\n",
       "  </tbody>\n",
       "</table>\n",
       "</div>"
      ],
      "text/plain": [
       "            Date   Open   High    Low  Close   Adj Close      Volume\n",
       "1551  2017-04-25  190.5  192.0  189.5  192.0  179.272598  31932000.0\n",
       "1552  2017-04-26  192.0  192.0  190.5  191.0  178.338898  29909000.0\n",
       "1553  2017-04-27  192.0  193.0  190.5  193.0  180.206314  27940000.0\n",
       "1554  2017-04-28  193.5  194.5  193.0  194.5  181.606888  34852000.0\n",
       "1555  2017-05-02  198.5  199.0  195.5  196.5  183.474304  44119000.0"
      ]
     },
     "execution_count": 23,
     "metadata": {},
     "output_type": "execute_result"
    }
   ],
   "source": [
    "trainset.tail()"
   ]
  },
  {
   "cell_type": "code",
   "execution_count": 24,
   "metadata": {},
   "outputs": [
    {
     "data": {
      "text/html": [
       "<div>\n",
       "<style scoped>\n",
       "    .dataframe tbody tr th:only-of-type {\n",
       "        vertical-align: middle;\n",
       "    }\n",
       "\n",
       "    .dataframe tbody tr th {\n",
       "        vertical-align: top;\n",
       "    }\n",
       "\n",
       "    .dataframe thead th {\n",
       "        text-align: right;\n",
       "    }\n",
       "</style>\n",
       "<table border=\"1\" class=\"dataframe\">\n",
       "  <thead>\n",
       "    <tr style=\"text-align: right;\">\n",
       "      <th></th>\n",
       "      <th>Date</th>\n",
       "      <th>Open</th>\n",
       "      <th>High</th>\n",
       "      <th>Low</th>\n",
       "      <th>Close</th>\n",
       "      <th>Adj Close</th>\n",
       "      <th>Volume</th>\n",
       "    </tr>\n",
       "  </thead>\n",
       "  <tbody>\n",
       "    <tr>\n",
       "      <th>1556</th>\n",
       "      <td>2017-05-03</td>\n",
       "      <td>198.0</td>\n",
       "      <td>198.5</td>\n",
       "      <td>197.0</td>\n",
       "      <td>198.0</td>\n",
       "      <td>184.874878</td>\n",
       "      <td>25723000.0</td>\n",
       "    </tr>\n",
       "    <tr>\n",
       "      <th>1557</th>\n",
       "      <td>2017-05-04</td>\n",
       "      <td>198.5</td>\n",
       "      <td>199.0</td>\n",
       "      <td>197.0</td>\n",
       "      <td>198.0</td>\n",
       "      <td>184.874878</td>\n",
       "      <td>22088000.0</td>\n",
       "    </tr>\n",
       "    <tr>\n",
       "      <th>1558</th>\n",
       "      <td>2017-05-05</td>\n",
       "      <td>197.0</td>\n",
       "      <td>198.5</td>\n",
       "      <td>197.0</td>\n",
       "      <td>197.5</td>\n",
       "      <td>184.408020</td>\n",
       "      <td>17036000.0</td>\n",
       "    </tr>\n",
       "    <tr>\n",
       "      <th>1559</th>\n",
       "      <td>2017-05-08</td>\n",
       "      <td>199.0</td>\n",
       "      <td>202.5</td>\n",
       "      <td>199.0</td>\n",
       "      <td>202.5</td>\n",
       "      <td>189.076569</td>\n",
       "      <td>36538000.0</td>\n",
       "    </tr>\n",
       "    <tr>\n",
       "      <th>1560</th>\n",
       "      <td>2017-05-09</td>\n",
       "      <td>205.5</td>\n",
       "      <td>207.0</td>\n",
       "      <td>203.5</td>\n",
       "      <td>203.5</td>\n",
       "      <td>190.010284</td>\n",
       "      <td>48077000.0</td>\n",
       "    </tr>\n",
       "  </tbody>\n",
       "</table>\n",
       "</div>"
      ],
      "text/plain": [
       "            Date   Open   High    Low  Close   Adj Close      Volume\n",
       "1556  2017-05-03  198.0  198.5  197.0  198.0  184.874878  25723000.0\n",
       "1557  2017-05-04  198.5  199.0  197.0  198.0  184.874878  22088000.0\n",
       "1558  2017-05-05  197.0  198.5  197.0  197.5  184.408020  17036000.0\n",
       "1559  2017-05-08  199.0  202.5  199.0  202.5  189.076569  36538000.0\n",
       "1560  2017-05-09  205.5  207.0  203.5  203.5  190.010284  48077000.0"
      ]
     },
     "execution_count": 24,
     "metadata": {},
     "output_type": "execute_result"
    }
   ],
   "source": [
    "testset.head()"
   ]
  },
  {
   "cell_type": "code",
   "execution_count": 25,
   "metadata": {},
   "outputs": [],
   "source": [
    "from pandas import Series\n",
    "from statsmodels.tsa.arima_model import ARIMA\n",
    "import numpy\n",
    "\n",
    "# create a differenced series\n",
    "def difference(dataset, interval=1):\n",
    "\tdiff = list()\n",
    "\tfor i in range(interval, len(dataset)):\n",
    "\t\tvalue = dataset[i] - dataset[i - interval]\n",
    "\t\tdiff.append(value)\n",
    "\treturn numpy.array(diff)\n",
    "\n",
    "# invert differenced value\n",
    "def inverse_difference(history, yhat, interval=1):\n",
    "\treturn yhat + history[-interval]"
   ]
  },
  {
   "cell_type": "code",
   "execution_count": 37,
   "metadata": {},
   "outputs": [],
   "source": [
    "X = trainset.Close.values\n",
    "differenced = difference(X, 365)"
   ]
  },
  {
   "cell_type": "code",
   "execution_count": 39,
   "metadata": {},
   "outputs": [
    {
     "data": {
      "text/plain": [
       "array([10.200005, 12.100006, 14.399994, ..., 53.      , 54.5     ,\n",
       "       57.5     ])"
      ]
     },
     "execution_count": 39,
     "metadata": {},
     "output_type": "execute_result"
    }
   ],
   "source": [
    "differenced"
   ]
  },
  {
   "cell_type": "code",
   "execution_count": 45,
   "metadata": {},
   "outputs": [],
   "source": [
    "# fit model\n",
    "model = ARIMA(differenced, order=(7,0,1))\n",
    "model_fit = model.fit(disp=0)"
   ]
  },
  {
   "cell_type": "code",
   "execution_count": 46,
   "metadata": {},
   "outputs": [],
   "source": [
    "# multi-step out-of-sample forecast\n",
    "start_index = len(differenced)\n",
    "end_index = start_index + 6\n",
    "forecast = model_fit.predict(start=start_index, end=end_index)"
   ]
  },
  {
   "cell_type": "code",
   "execution_count": 47,
   "metadata": {},
   "outputs": [
    {
     "name": "stdout",
     "output_type": "stream",
     "text": [
      "Day 1: 194.959280\n",
      "Day 2: 192.553089\n",
      "Day 3: 192.380521\n",
      "Day 4: 192.642703\n",
      "Day 5: 194.489287\n",
      "Day 6: 199.143919\n",
      "Day 7: 197.213715\n"
     ]
    }
   ],
   "source": [
    "# invert the differenced forecast to something usable\n",
    "history = [x for x in X]\n",
    "day = 1\n",
    "for yhat in forecast:\n",
    "\tinverted = inverse_difference(history, yhat, days_in_year)\n",
    "\tprint('Day %d: %f' % (day, inverted))\n",
    "\thistory.append(inverted)\n",
    "\tday += 1"
   ]
  },
  {
   "cell_type": "code",
   "execution_count": 49,
   "metadata": {},
   "outputs": [
    {
     "data": {
      "text/html": [
       "<div>\n",
       "<style scoped>\n",
       "    .dataframe tbody tr th:only-of-type {\n",
       "        vertical-align: middle;\n",
       "    }\n",
       "\n",
       "    .dataframe tbody tr th {\n",
       "        vertical-align: top;\n",
       "    }\n",
       "\n",
       "    .dataframe thead th {\n",
       "        text-align: right;\n",
       "    }\n",
       "</style>\n",
       "<table border=\"1\" class=\"dataframe\">\n",
       "  <thead>\n",
       "    <tr style=\"text-align: right;\">\n",
       "      <th></th>\n",
       "      <th>Date</th>\n",
       "      <th>Open</th>\n",
       "      <th>High</th>\n",
       "      <th>Low</th>\n",
       "      <th>Close</th>\n",
       "      <th>Adj Close</th>\n",
       "      <th>Volume</th>\n",
       "    </tr>\n",
       "  </thead>\n",
       "  <tbody>\n",
       "    <tr>\n",
       "      <th>1556</th>\n",
       "      <td>2017-05-03</td>\n",
       "      <td>198.0</td>\n",
       "      <td>198.5</td>\n",
       "      <td>197.0</td>\n",
       "      <td>198.0</td>\n",
       "      <td>184.874878</td>\n",
       "      <td>25723000.0</td>\n",
       "    </tr>\n",
       "    <tr>\n",
       "      <th>1557</th>\n",
       "      <td>2017-05-04</td>\n",
       "      <td>198.5</td>\n",
       "      <td>199.0</td>\n",
       "      <td>197.0</td>\n",
       "      <td>198.0</td>\n",
       "      <td>184.874878</td>\n",
       "      <td>22088000.0</td>\n",
       "    </tr>\n",
       "    <tr>\n",
       "      <th>1558</th>\n",
       "      <td>2017-05-05</td>\n",
       "      <td>197.0</td>\n",
       "      <td>198.5</td>\n",
       "      <td>197.0</td>\n",
       "      <td>197.5</td>\n",
       "      <td>184.408020</td>\n",
       "      <td>17036000.0</td>\n",
       "    </tr>\n",
       "    <tr>\n",
       "      <th>1559</th>\n",
       "      <td>2017-05-08</td>\n",
       "      <td>199.0</td>\n",
       "      <td>202.5</td>\n",
       "      <td>199.0</td>\n",
       "      <td>202.5</td>\n",
       "      <td>189.076569</td>\n",
       "      <td>36538000.0</td>\n",
       "    </tr>\n",
       "    <tr>\n",
       "      <th>1560</th>\n",
       "      <td>2017-05-09</td>\n",
       "      <td>205.5</td>\n",
       "      <td>207.0</td>\n",
       "      <td>203.5</td>\n",
       "      <td>203.5</td>\n",
       "      <td>190.010284</td>\n",
       "      <td>48077000.0</td>\n",
       "    </tr>\n",
       "    <tr>\n",
       "      <th>1561</th>\n",
       "      <td>2017-05-10</td>\n",
       "      <td>204.0</td>\n",
       "      <td>206.0</td>\n",
       "      <td>204.0</td>\n",
       "      <td>205.5</td>\n",
       "      <td>191.877701</td>\n",
       "      <td>28312000.0</td>\n",
       "    </tr>\n",
       "  </tbody>\n",
       "</table>\n",
       "</div>"
      ],
      "text/plain": [
       "            Date   Open   High    Low  Close   Adj Close      Volume\n",
       "1556  2017-05-03  198.0  198.5  197.0  198.0  184.874878  25723000.0\n",
       "1557  2017-05-04  198.5  199.0  197.0  198.0  184.874878  22088000.0\n",
       "1558  2017-05-05  197.0  198.5  197.0  197.5  184.408020  17036000.0\n",
       "1559  2017-05-08  199.0  202.5  199.0  202.5  189.076569  36538000.0\n",
       "1560  2017-05-09  205.5  207.0  203.5  203.5  190.010284  48077000.0\n",
       "1561  2017-05-10  204.0  206.0  204.0  205.5  191.877701  28312000.0"
      ]
     },
     "execution_count": 49,
     "metadata": {},
     "output_type": "execute_result"
    }
   ],
   "source": [
    "testset[0 : 6]"
   ]
  },
  {
   "cell_type": "code",
   "execution_count": 54,
   "metadata": {},
   "outputs": [],
   "source": [
    "training_set = trainset[~ trainset['Close'].isna()].iloc[:, 4:5].values"
   ]
  },
  {
   "cell_type": "code",
   "execution_count": 55,
   "metadata": {},
   "outputs": [],
   "source": [
    "from sklearn.preprocessing import MinMaxScaler\n",
    "sc = MinMaxScaler(feature_range = (0, 1))\n",
    "training_set_scaled = sc.fit_transform(training_set)"
   ]
  },
  {
   "cell_type": "code",
   "execution_count": 56,
   "metadata": {},
   "outputs": [],
   "source": [
    "import numpy as np\n",
    "X_train = []\n",
    "y_train = []\n",
    "for i in range(60, len(training_set)):\n",
    "    X_train.append(training_set_scaled[i-60:i, 0])\n",
    "    y_train.append(training_set_scaled[i,0])\n",
    "X_train, y_train = np.array(X_train), np.array(y_train)"
   ]
  },
  {
   "cell_type": "code",
   "execution_count": 63,
   "metadata": {},
   "outputs": [],
   "source": [
    "import numpy as np\n",
    "X_train = np.reshape(X_train, (X_train.shape[0], X_train.shape[1], 1))"
   ]
  },
  {
   "cell_type": "code",
   "execution_count": 64,
   "metadata": {},
   "outputs": [
    {
     "data": {
      "text/plain": [
       "(1491, 60, 1)"
      ]
     },
     "execution_count": 64,
     "metadata": {},
     "output_type": "execute_result"
    }
   ],
   "source": [
    "X_train.shape"
   ]
  },
  {
   "cell_type": "code",
   "execution_count": 65,
   "metadata": {},
   "outputs": [
    {
     "data": {
      "text/plain": [
       "(1491,)"
      ]
     },
     "execution_count": 65,
     "metadata": {},
     "output_type": "execute_result"
    }
   ],
   "source": [
    "y_train.shape"
   ]
  },
  {
   "cell_type": "markdown",
   "metadata": {},
   "source": [
    "## LSTM"
   ]
  },
  {
   "cell_type": "code",
   "execution_count": 66,
   "metadata": {},
   "outputs": [],
   "source": [
    "# Importing the Keras libraries and packages\n",
    "from keras.models import Sequential \n",
    "from keras.layers import Dense\n",
    "from keras.layers import LSTM\n",
    "from keras.layers import Dropout\n",
    "\n",
    "# Initialising the RNN\n",
    "regressor = Sequential()\n",
    "\n",
    "regressor.add(LSTM(units = 50, return_sequences = True, input_shape = (X_train.shape[1], 1)))\n",
    "regressor.add(Dropout(0.2))\n",
    "\n",
    "regressor.add(LSTM(units = 50, return_sequences = True)) \n",
    "regressor.add(Dropout(0.2))\n",
    "\n",
    "regressor.add(LSTM(units = 50, return_sequences = True)) \n",
    "regressor.add(Dropout(0.2))\n",
    "\n",
    "regressor.add(LSTM(units = 50))\n",
    "regressor.add(Dropout(0.2))\n",
    "\n",
    "regressor.add(Dense(units = 1))"
   ]
  },
  {
   "cell_type": "code",
   "execution_count": 67,
   "metadata": {},
   "outputs": [
    {
     "name": "stdout",
     "output_type": "stream",
     "text": [
      "Epoch 1/100\n",
      "1491/1491 [==============================] - 7s 4ms/step - loss: 0.0378\n",
      "Epoch 2/100\n",
      "1491/1491 [==============================] - 4s 3ms/step - loss: 0.0038\n",
      "Epoch 3/100\n",
      "1491/1491 [==============================] - 4s 2ms/step - loss: 0.0036\n",
      "Epoch 4/100\n",
      "1491/1491 [==============================] - 4s 2ms/step - loss: 0.0036\n",
      "Epoch 5/100\n",
      "1491/1491 [==============================] - 4s 2ms/step - loss: 0.0036\n",
      "Epoch 6/100\n",
      "1491/1491 [==============================] - 4s 3ms/step - loss: 0.0036\n",
      "Epoch 7/100\n",
      "1491/1491 [==============================] - 4s 3ms/step - loss: 0.0034\n",
      "Epoch 8/100\n",
      "1491/1491 [==============================] - 4s 3ms/step - loss: 0.0031\n",
      "Epoch 9/100\n",
      "1491/1491 [==============================] - 4s 3ms/step - loss: 0.0030\n",
      "Epoch 10/100\n",
      "1491/1491 [==============================] - 4s 3ms/step - loss: 0.0029\n",
      "Epoch 11/100\n",
      "1491/1491 [==============================] - 4s 3ms/step - loss: 0.0031\n",
      "Epoch 12/100\n",
      "1491/1491 [==============================] - 4s 2ms/step - loss: 0.0029\n",
      "Epoch 13/100\n",
      "1491/1491 [==============================] - 4s 2ms/step - loss: 0.0027\n",
      "Epoch 14/100\n",
      "1491/1491 [==============================] - 4s 3ms/step - loss: 0.0026\n",
      "Epoch 15/100\n",
      "1491/1491 [==============================] - 4s 3ms/step - loss: 0.0025A: 0s - l\n",
      "Epoch 16/100\n",
      "1491/1491 [==============================] - 4s 3ms/step - loss: 0.0029\n",
      "Epoch 17/100\n",
      "1491/1491 [==============================] - 4s 2ms/step - loss: 0.0032\n",
      "Epoch 18/100\n",
      "1491/1491 [==============================] - 4s 3ms/step - loss: 0.0024\n",
      "Epoch 19/100\n",
      "1491/1491 [==============================] - 4s 3ms/step - loss: 0.0026\n",
      "Epoch 20/100\n",
      "1491/1491 [==============================] - 4s 3ms/step - loss: 0.0025\n",
      "Epoch 21/100\n",
      "1491/1491 [==============================] - 4s 3ms/step - loss: 0.0025\n",
      "Epoch 22/100\n",
      "1491/1491 [==============================] - 4s 3ms/step - loss: 0.0024\n",
      "Epoch 23/100\n",
      "1491/1491 [==============================] - 4s 3ms/step - loss: 0.0022\n",
      "Epoch 24/100\n",
      "1491/1491 [==============================] - 4s 2ms/step - loss: 0.0023\n",
      "Epoch 25/100\n",
      "1491/1491 [==============================] - 4s 2ms/step - loss: 0.0020\n",
      "Epoch 26/100\n",
      "1491/1491 [==============================] - 4s 3ms/step - loss: 0.0022\n",
      "Epoch 27/100\n",
      "1491/1491 [==============================] - 4s 3ms/step - loss: 0.0021\n",
      "Epoch 28/100\n",
      "1491/1491 [==============================] - 4s 3ms/step - loss: 0.0022\n",
      "Epoch 29/100\n",
      "1491/1491 [==============================] - 4s 2ms/step - loss: 0.0021\n",
      "Epoch 30/100\n",
      "1491/1491 [==============================] - 4s 3ms/step - loss: 0.0023\n",
      "Epoch 31/100\n",
      "1491/1491 [==============================] - 4s 2ms/step - loss: 0.0020\n",
      "Epoch 32/100\n",
      "1491/1491 [==============================] - 4s 3ms/step - loss: 0.0019\n",
      "Epoch 33/100\n",
      "1491/1491 [==============================] - 4s 3ms/step - loss: 0.0024\n",
      "Epoch 34/100\n",
      "1491/1491 [==============================] - 4s 3ms/step - loss: 0.0020\n",
      "Epoch 35/100\n",
      "1491/1491 [==============================] - 4s 3ms/step - loss: 0.0017\n",
      "Epoch 36/100\n",
      "1491/1491 [==============================] - 4s 3ms/step - loss: 0.0017\n",
      "Epoch 37/100\n",
      "1491/1491 [==============================] - 4s 2ms/step - loss: 0.0017\n",
      "Epoch 38/100\n",
      "1491/1491 [==============================] - 4s 3ms/step - loss: 0.0018\n",
      "Epoch 39/100\n",
      "1491/1491 [==============================] - 4s 3ms/step - loss: 0.0018\n",
      "Epoch 40/100\n",
      "1491/1491 [==============================] - 4s 3ms/step - loss: 0.0018\n",
      "Epoch 41/100\n",
      "1491/1491 [==============================] - 4s 3ms/step - loss: 0.0018\n",
      "Epoch 42/100\n",
      "1491/1491 [==============================] - 4s 3ms/step - loss: 0.0017\n",
      "Epoch 43/100\n",
      "1491/1491 [==============================] - 4s 3ms/step - loss: 0.0019\n",
      "Epoch 44/100\n",
      "1491/1491 [==============================] - 4s 3ms/step - loss: 0.0016\n",
      "Epoch 45/100\n",
      "1491/1491 [==============================] - 4s 3ms/step - loss: 0.0018\n",
      "Epoch 46/100\n",
      "1491/1491 [==============================] - 4s 3ms/step - loss: 0.0015\n",
      "Epoch 47/100\n",
      "1491/1491 [==============================] - 4s 3ms/step - loss: 0.0017\n",
      "Epoch 48/100\n",
      "1491/1491 [==============================] - 4s 2ms/step - loss: 0.0017\n",
      "Epoch 49/100\n",
      "1491/1491 [==============================] - 4s 2ms/step - loss: 0.0018\n",
      "Epoch 50/100\n",
      "1491/1491 [==============================] - 4s 2ms/step - loss: 0.0015\n",
      "Epoch 51/100\n",
      "1491/1491 [==============================] - 4s 2ms/step - loss: 0.0017\n",
      "Epoch 52/100\n",
      "1491/1491 [==============================] - 4s 2ms/step - loss: 0.0016\n",
      "Epoch 53/100\n",
      "1491/1491 [==============================] - 4s 2ms/step - loss: 0.0016\n",
      "Epoch 54/100\n",
      "1491/1491 [==============================] - 4s 2ms/step - loss: 0.0015\n",
      "Epoch 55/100\n",
      "1491/1491 [==============================] - 4s 2ms/step - loss: 0.0015\n",
      "Epoch 56/100\n",
      "1491/1491 [==============================] - 4s 2ms/step - loss: 0.0014\n",
      "Epoch 57/100\n",
      "1491/1491 [==============================] - 4s 2ms/step - loss: 0.0014\n",
      "Epoch 58/100\n",
      "1491/1491 [==============================] - 4s 2ms/step - loss: 0.0016\n",
      "Epoch 59/100\n",
      "1491/1491 [==============================] - 4s 3ms/step - loss: 0.0014\n",
      "Epoch 60/100\n",
      "1491/1491 [==============================] - 4s 2ms/step - loss: 0.0014\n",
      "Epoch 61/100\n",
      "1491/1491 [==============================] - 4s 2ms/step - loss: 0.0016\n",
      "Epoch 62/100\n",
      "1491/1491 [==============================] - 4s 2ms/step - loss: 0.0014\n",
      "Epoch 63/100\n",
      "1491/1491 [==============================] - 4s 2ms/step - loss: 0.0015\n",
      "Epoch 64/100\n",
      "1491/1491 [==============================] - 3s 2ms/step - loss: 0.0015\n",
      "Epoch 65/100\n",
      "1491/1491 [==============================] - 3s 2ms/step - loss: 0.0014\n",
      "Epoch 66/100\n",
      "1491/1491 [==============================] - 3s 2ms/step - loss: 0.0013\n",
      "Epoch 67/100\n",
      "1491/1491 [==============================] - 3s 2ms/step - loss: 0.0014\n",
      "Epoch 68/100\n",
      "1491/1491 [==============================] - 4s 2ms/step - loss: 0.0012\n",
      "Epoch 69/100\n",
      "1491/1491 [==============================] - 3s 2ms/step - loss: 0.0011\n",
      "Epoch 70/100\n",
      "1491/1491 [==============================] - 4s 2ms/step - loss: 0.0013\n",
      "Epoch 71/100\n",
      "1491/1491 [==============================] - 4s 3ms/step - loss: 0.0014\n",
      "Epoch 72/100\n",
      "1491/1491 [==============================] - 4s 3ms/step - loss: 0.0013\n",
      "Epoch 73/100\n",
      "1491/1491 [==============================] - 4s 3ms/step - loss: 0.0013\n",
      "Epoch 74/100\n",
      "1491/1491 [==============================] - 4s 2ms/step - loss: 0.0014\n",
      "Epoch 75/100\n",
      "1491/1491 [==============================] - 4s 3ms/step - loss: 0.0014\n",
      "Epoch 76/100\n",
      "1491/1491 [==============================] - 4s 3ms/step - loss: 0.0014\n",
      "Epoch 77/100\n",
      "1491/1491 [==============================] - 4s 2ms/step - loss: 0.0012\n",
      "Epoch 78/100\n",
      "1491/1491 [==============================] - 4s 2ms/step - loss: 0.0011\n",
      "Epoch 79/100\n",
      "1491/1491 [==============================] - 4s 2ms/step - loss: 0.0013\n",
      "Epoch 80/100\n",
      "1491/1491 [==============================] - 3s 2ms/step - loss: 0.0013\n",
      "Epoch 81/100\n",
      "1491/1491 [==============================] - 4s 2ms/step - loss: 0.0012\n",
      "Epoch 82/100\n",
      "1491/1491 [==============================] - 3s 2ms/step - loss: 0.0013\n",
      "Epoch 83/100\n",
      "1491/1491 [==============================] - 3s 2ms/step - loss: 0.0011\n",
      "Epoch 84/100\n",
      "1491/1491 [==============================] - 3s 2ms/step - loss: 0.0014\n",
      "Epoch 85/100\n",
      "1491/1491 [==============================] - 3s 2ms/step - loss: 0.0011\n",
      "Epoch 86/100\n",
      "1491/1491 [==============================] - 3s 2ms/step - loss: 0.0011\n",
      "Epoch 87/100\n",
      "1491/1491 [==============================] - 3s 2ms/step - loss: 0.0011\n",
      "Epoch 88/100\n",
      "1491/1491 [==============================] - 4s 2ms/step - loss: 0.0011\n",
      "Epoch 89/100\n",
      "1491/1491 [==============================] - 4s 2ms/step - loss: 0.0011\n",
      "Epoch 90/100\n",
      "1491/1491 [==============================] - 4s 2ms/step - loss: 0.0012\n",
      "Epoch 91/100\n",
      "1491/1491 [==============================] - 4s 2ms/step - loss: 0.0010\n",
      "Epoch 92/100\n",
      "1491/1491 [==============================] - 3s 2ms/step - loss: 0.0012\n",
      "Epoch 93/100\n",
      "1491/1491 [==============================] - 3s 2ms/step - loss: 0.0011\n",
      "Epoch 94/100\n",
      "1491/1491 [==============================] - 3s 2ms/step - loss: 0.0012\n",
      "Epoch 95/100\n",
      "1491/1491 [==============================] - 3s 2ms/step - loss: 0.0010\n",
      "Epoch 96/100\n",
      "1491/1491 [==============================] - 3s 2ms/step - loss: 9.9105e-04\n",
      "Epoch 97/100\n"
     ]
    },
    {
     "name": "stdout",
     "output_type": "stream",
     "text": [
      "1491/1491 [==============================] - 3s 2ms/step - loss: 0.0011\n",
      "Epoch 98/100\n",
      "1491/1491 [==============================] - 3s 2ms/step - loss: 0.0013\n",
      "Epoch 99/100\n",
      "1491/1491 [==============================] - 3s 2ms/step - loss: 0.0013\n",
      "Epoch 100/100\n",
      "1491/1491 [==============================] - 4s 2ms/step - loss: 9.9153e-04\n"
     ]
    },
    {
     "data": {
      "text/plain": [
       "<keras.callbacks.History at 0x18482f98>"
      ]
     },
     "execution_count": 67,
     "metadata": {},
     "output_type": "execute_result"
    }
   ],
   "source": [
    "# Compiling the RNN\n",
    "regressor.compile(optimizer = 'adam', loss = 'mean_squared_error')\n",
    "\n",
    "# Fitting the RNN to the Training set\n",
    "regressor.fit(X_train, y_train, epochs = 100, batch_size = 32)"
   ]
  },
  {
   "cell_type": "code",
   "execution_count": 71,
   "metadata": {},
   "outputs": [],
   "source": [
    "real_stock_price = testset.iloc[:,4:5].values"
   ]
  },
  {
   "cell_type": "code",
   "execution_count": 72,
   "metadata": {},
   "outputs": [
    {
     "data": {
      "text/plain": [
       "1827    227.0\n",
       "1828    226.0\n",
       "1829    229.0\n",
       "1830    232.0\n",
       "1831    226.5\n",
       "1832    231.0\n",
       "1833    225.0\n",
       "1834    226.0\n",
       "1835    226.5\n",
       "1836    227.5\n",
       "1837    218.0\n",
       "1838    214.5\n",
       "1839    213.0\n",
       "1840    212.0\n",
       "1841    216.5\n",
       "1842    214.0\n",
       "1843    214.5\n",
       "1844    216.0\n",
       "1845    214.5\n",
       "1846    217.0\n",
       "1847    221.5\n",
       "1848    222.0\n",
       "1849    220.0\n",
       "1850    220.5\n",
       "1851    224.5\n",
       "1852    223.5\n",
       "1853    221.5\n",
       "1854    223.0\n",
       "1855    224.5\n",
       "1856    237.5\n",
       "Name: Close, dtype: float64"
      ]
     },
     "execution_count": 72,
     "metadata": {},
     "output_type": "execute_result"
    }
   ],
   "source": [
    "dataset_total = pandas.concat((trainset['Close'], testset['Close']), axis = 0)\n",
    "dataset_total.tail(30)"
   ]
  },
  {
   "cell_type": "code",
   "execution_count": 74,
   "metadata": {},
   "outputs": [],
   "source": [
    "inputs = dataset_total[len(dataset_total) - len(testset['Close']) - 60:].values"
   ]
  },
  {
   "cell_type": "code",
   "execution_count": 76,
   "metadata": {},
   "outputs": [],
   "source": [
    "inputs = inputs.reshape(-1,1)"
   ]
  },
  {
   "cell_type": "code",
   "execution_count": 78,
   "metadata": {},
   "outputs": [],
   "source": [
    "inputs = sc.transform(inputs)"
   ]
  },
  {
   "cell_type": "code",
   "execution_count": 83,
   "metadata": {},
   "outputs": [
    {
     "data": {
      "text/plain": [
       "360"
      ]
     },
     "execution_count": 83,
     "metadata": {},
     "output_type": "execute_result"
    }
   ],
   "source": [
    "len(inputs)"
   ]
  },
  {
   "cell_type": "code",
   "execution_count": 84,
   "metadata": {},
   "outputs": [],
   "source": [
    "X_test = []\n",
    "for i in range(60, 360):\n",
    "    X_test.append(inputs[i-60:i, 0])"
   ]
  },
  {
   "cell_type": "code",
   "execution_count": 85,
   "metadata": {},
   "outputs": [
    {
     "data": {
      "text/plain": [
       "300"
      ]
     },
     "execution_count": 85,
     "metadata": {},
     "output_type": "execute_result"
    }
   ],
   "source": [
    "len(X_test)"
   ]
  },
  {
   "cell_type": "code",
   "execution_count": 87,
   "metadata": {},
   "outputs": [],
   "source": [
    "X_test = np.array(X_test)"
   ]
  },
  {
   "cell_type": "code",
   "execution_count": 88,
   "metadata": {},
   "outputs": [],
   "source": [
    "X_test = np.reshape(X_test, (X_test.shape[0], X_test.shape[1], 1))"
   ]
  },
  {
   "cell_type": "code",
   "execution_count": 89,
   "metadata": {},
   "outputs": [],
   "source": [
    "predicted_stock_price = regressor.predict(X_test)"
   ]
  },
  {
   "cell_type": "code",
   "execution_count": 91,
   "metadata": {},
   "outputs": [],
   "source": [
    "predicted_stock_price = sc.inverse_transform(predicted_stock_price)"
   ]
  },
  {
   "cell_type": "code",
   "execution_count": 100,
   "metadata": {},
   "outputs": [
    {
     "data": {
      "image/png": "[encoded data removed]",
      "text/plain": [
       "<Figure size 432x288 with 1 Axes>"
      ]
     },
     "metadata": {},
     "output_type": "display_data"
    }
   ],
   "source": [
    "import matplotlib.pyplot as plt\n",
    "plt.plot(real_stock_price, color = 'red', label = 'Real TW2330 Stock Price')\n",
    "plt.plot(predicted_stock_price, color = 'blue', label = 'Predicted TW2330 Stock Price')\n",
    "plt.title('TW2330 Stock Price Prediction')\n",
    "plt.xlabel('Time')\n",
    "plt.ylabel('TW2330 Stock Price')\n",
    "plt.legend()\n",
    "plt.show()"
   ]
  },
  {
   "cell_type": "code",
   "execution_count": 96,
   "metadata": {},
   "outputs": [],
   "source": [
    "predicted_stock_price2 = regressor.predict(X_train)\n",
    "predicted_stock_price2 = sc.inverse_transform(predicted_stock_price2)\n",
    "real_stock_price2 = training_set"
   ]
  },
  {
   "cell_type": "code",
   "execution_count": 101,
   "metadata": {},
   "outputs": [
    {
     "data": {
      "image/png": "[encoded data removed]",
      "text/plain": [
       "<Figure size 432x288 with 1 Axes>"
      ]
     },
     "metadata": {},
     "output_type": "display_data"
    }
   ],
   "source": [
    "import matplotlib.pyplot as plt\n",
    "plt.plot(real_stock_price2, color = 'red', label = 'Real TW2330 Stock Price')\n",
    "plt.plot(predicted_stock_price2, color = 'blue', label = 'Predicted TW2330 Stock Price')\n",
    "plt.title('TW2330 Stock Price Prediction')\n",
    "plt.xlabel('Time')\n",
    "plt.ylabel('TW2330 Stock Price')\n",
    "plt.legend()\n",
    "plt.show()"
   ]
  },
  {
   "cell_type": "code",
   "execution_count": null,
   "metadata": {},
   "outputs": [],
   "source": []
  }
 ],
 "metadata": {
  "kernelspec": {
   "display_name": "Python 3",
   "language": "python",
   "name": "python3"
  },
  "language_info": {
   "codemirror_mode": {
    "name": "ipython",
    "version": 3
   },
   "file_extension": ".py",
   "mimetype": "text/x-python",
   "name": "python",
   "nbconvert_exporter": "python",
   "pygments_lexer": "ipython3",
   "version": "3.6.5"
  }
 },
 "nbformat": 4,
 "nbformat_minor": 2
}
