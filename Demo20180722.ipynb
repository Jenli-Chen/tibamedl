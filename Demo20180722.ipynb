{
 "cells": [
  {
   "cell_type": "markdown",
   "metadata": {},
   "source": [
    "## ARIMA\n",
    "- http://ucanalytics.com/blogs/time-series-decomposition-manufacturing-case-study-example-part-2/\n",
    "- https://rpubs.com/zkajdan/316135"
   ]
  },
  {
   "cell_type": "code",
   "execution_count": 15,
   "metadata": {},
   "outputs": [],
   "source": [
    "import pandas\n",
    "df = pandas.read_csv('https://raw.githubusercontent.com/ywchiu/tibamedl/master/Data/2330.TW.csv')\n",
    "#df"
   ]
  },
  {
   "cell_type": "code",
   "execution_count": 17,
   "metadata": {},
   "outputs": [],
   "source": [
    "df = df[~ df['Close'].isna()]"
   ]
  },
  {
   "cell_type": "code",
   "execution_count": 18,
   "metadata": {
    "scrolled": true
   },
   "outputs": [
    {
     "name": "stdout",
     "output_type": "stream",
     "text": [
      "Populating the interactive namespace from numpy and matplotlib\n"
     ]
    },
    {
     "data": {
      "text/plain": [
       "<matplotlib.axes._subplots.AxesSubplot at 0x8b1d898>"
      ]
     },
     "execution_count": 18,
     "metadata": {},
     "output_type": "execute_result"
    },
    {
     "data": {
      "image/png": "[encoded data removed]",
      "text/plain": [
       "<Figure size 432x288 with 1 Axes>"
      ]
     },
     "metadata": {},
     "output_type": "display_data"
    }
   ],
   "source": [
    "%pylab inline\n",
    "df['Close'].plot(kind = 'line')"
   ]
  },
  {
   "cell_type": "code",
   "execution_count": 19,
   "metadata": {},
   "outputs": [
    {
     "data": {
      "text/plain": [
       "Date         1851\n",
       "Open         1851\n",
       "High         1851\n",
       "Low          1851\n",
       "Close        1851\n",
       "Adj Close    1851\n",
       "Volume       1851\n",
       "dtype: int64"
      ]
     },
     "execution_count": 19,
     "metadata": {},
     "output_type": "execute_result"
    }
   ],
   "source": [
    "df.count()"
   ]
  },
  {
   "cell_type": "code",
   "execution_count": 20,
   "metadata": {},
   "outputs": [],
   "source": [
    "trainset = df.iloc[0:1551,:]\n",
    "testset  = df.iloc[1551: ,:]"
   ]
  },
  {
   "cell_type": "code",
   "execution_count": 21,
   "metadata": {},
   "outputs": [
    {
     "data": {
      "text/plain": [
       "(1551, 7)"
      ]
     },
     "execution_count": 21,
     "metadata": {},
     "output_type": "execute_result"
    }
   ],
   "source": [
    "trainset.shape"
   ]
  },
  {
   "cell_type": "code",
   "execution_count": 22,
   "metadata": {},
   "outputs": [
    {
     "data": {
      "text/plain": [
       "(300, 7)"
      ]
     },
     "execution_count": 22,
     "metadata": {},
     "output_type": "execute_result"
    }
   ],
   "source": [
    "testset.shape"
   ]
  },
  {
   "cell_type": "code",
   "execution_count": 23,
   "metadata": {},
   "outputs": [
    {
     "data": {
      "text/html": [
       "<div>\n",
       "<style scoped>\n",
       "    .dataframe tbody tr th:only-of-type {\n",
       "        vertical-align: middle;\n",
       "    }\n",
       "\n",
       "    .dataframe tbody tr th {\n",
       "        vertical-align: top;\n",
       "    }\n",
       "\n",
       "    .dataframe thead th {\n",
       "        text-align: right;\n",
       "    }\n",
       "</style>\n",
       "<table border=\"1\" class=\"dataframe\">\n",
       "  <thead>\n",
       "    <tr style=\"text-align: right;\">\n",
       "      <th></th>\n",
       "      <th>Date</th>\n",
       "      <th>Open</th>\n",
       "      <th>High</th>\n",
       "      <th>Low</th>\n",
       "      <th>Close</th>\n",
       "      <th>Adj Close</th>\n",
       "      <th>Volume</th>\n",
       "    </tr>\n",
       "  </thead>\n",
       "  <tbody>\n",
       "    <tr>\n",
       "      <th>1551</th>\n",
       "      <td>2017-04-25</td>\n",
       "      <td>190.5</td>\n",
       "      <td>192.0</td>\n",
       "      <td>189.5</td>\n",
       "      <td>192.0</td>\n",
       "      <td>179.272598</td>\n",
       "      <td>31932000.0</td>\n",
       "    </tr>\n",
       "    <tr>\n",
       "      <th>1552</th>\n",
       "      <td>2017-04-26</td>\n",
       "      <td>192.0</td>\n",
       "      <td>192.0</td>\n",
       "      <td>190.5</td>\n",
       "      <td>191.0</td>\n",
       "      <td>178.338898</td>\n",
       "      <td>29909000.0</td>\n",
       "    </tr>\n",
       "    <tr>\n",
       "      <th>1553</th>\n",
       "      <td>2017-04-27</td>\n",
       "      <td>192.0</td>\n",
       "      <td>193.0</td>\n",
       "      <td>190.5</td>\n",
       "      <td>193.0</td>\n",
       "      <td>180.206314</td>\n",
       "      <td>27940000.0</td>\n",
       "    </tr>\n",
       "    <tr>\n",
       "      <th>1554</th>\n",
       "      <td>2017-04-28</td>\n",
       "      <td>193.5</td>\n",
       "      <td>194.5</td>\n",
       "      <td>193.0</td>\n",
       "      <td>194.5</td>\n",
       "      <td>181.606888</td>\n",
       "      <td>34852000.0</td>\n",
       "    </tr>\n",
       "    <tr>\n",
       "      <th>1555</th>\n",
       "      <td>2017-05-02</td>\n",
       "      <td>198.5</td>\n",
       "      <td>199.0</td>\n",
       "      <td>195.5</td>\n",
       "      <td>196.5</td>\n",
       "      <td>183.474304</td>\n",
       "      <td>44119000.0</td>\n",
       "    </tr>\n",
       "  </tbody>\n",
       "</table>\n",
       "</div>"
      ],
      "text/plain": [
       "            Date   Open   High    Low  Close   Adj Close      Volume\n",
       "1551  2017-04-25  190.5  192.0  189.5  192.0  179.272598  31932000.0\n",
       "1552  2017-04-26  192.0  192.0  190.5  191.0  178.338898  29909000.0\n",
       "1553  2017-04-27  192.0  193.0  190.5  193.0  180.206314  27940000.0\n",
       "1554  2017-04-28  193.5  194.5  193.0  194.5  181.606888  34852000.0\n",
       "1555  2017-05-02  198.5  199.0  195.5  196.5  183.474304  44119000.0"
      ]
     },
     "execution_count": 23,
     "metadata": {},
     "output_type": "execute_result"
    }
   ],
   "source": [
    "trainset.tail()"
   ]
  },
  {
   "cell_type": "code",
   "execution_count": 24,
   "metadata": {},
   "outputs": [
    {
     "data": {
      "text/html": [
       "<div>\n",
       "<style scoped>\n",
       "    .dataframe tbody tr th:only-of-type {\n",
       "        vertical-align: middle;\n",
       "    }\n",
       "\n",
       "    .dataframe tbody tr th {\n",
       "        vertical-align: top;\n",
       "    }\n",
       "\n",
       "    .dataframe thead th {\n",
       "        text-align: right;\n",
       "    }\n",
       "</style>\n",
       "<table border=\"1\" class=\"dataframe\">\n",
       "  <thead>\n",
       "    <tr style=\"text-align: right;\">\n",
       "      <th></th>\n",
       "      <th>Date</th>\n",
       "      <th>Open</th>\n",
       "      <th>High</th>\n",
       "      <th>Low</th>\n",
       "      <th>Close</th>\n",
       "      <th>Adj Close</th>\n",
       "      <th>Volume</th>\n",
       "    </tr>\n",
       "  </thead>\n",
       "  <tbody>\n",
       "    <tr>\n",
       "      <th>1556</th>\n",
       "      <td>2017-05-03</td>\n",
       "      <td>198.0</td>\n",
       "      <td>198.5</td>\n",
       "      <td>197.0</td>\n",
       "      <td>198.0</td>\n",
       "      <td>184.874878</td>\n",
       "      <td>25723000.0</td>\n",
       "    </tr>\n",
       "    <tr>\n",
       "      <th>1557</th>\n",
       "      <td>2017-05-04</td>\n",
       "      <td>198.5</td>\n",
       "      <td>199.0</td>\n",
       "      <td>197.0</td>\n",
       "      <td>198.0</td>\n",
       "      <td>184.874878</td>\n",
       "      <td>22088000.0</td>\n",
       "    </tr>\n",
       "    <tr>\n",
       "      <th>1558</th>\n",
       "      <td>2017-05-05</td>\n",
       "      <td>197.0</td>\n",
       "      <td>198.5</td>\n",
       "      <td>197.0</td>\n",
       "      <td>197.5</td>\n",
       "      <td>184.408020</td>\n",
       "      <td>17036000.0</td>\n",
       "    </tr>\n",
       "    <tr>\n",
       "      <th>1559</th>\n",
       "      <td>2017-05-08</td>\n",
       "      <td>199.0</td>\n",
       "      <td>202.5</td>\n",
       "      <td>199.0</td>\n",
       "      <td>202.5</td>\n",
       "      <td>189.076569</td>\n",
       "      <td>36538000.0</td>\n",
       "    </tr>\n",
       "    <tr>\n",
       "      <th>1560</th>\n",
       "      <td>2017-05-09</td>\n",
       "      <td>205.5</td>\n",
       "      <td>207.0</td>\n",
       "      <td>203.5</td>\n",
       "      <td>203.5</td>\n",
       "      <td>190.010284</td>\n",
       "      <td>48077000.0</td>\n",
       "    </tr>\n",
       "  </tbody>\n",
       "</table>\n",
       "</div>"
      ],
      "text/plain": [
       "            Date   Open   High    Low  Close   Adj Close      Volume\n",
       "1556  2017-05-03  198.0  198.5  197.0  198.0  184.874878  25723000.0\n",
       "1557  2017-05-04  198.5  199.0  197.0  198.0  184.874878  22088000.0\n",
       "1558  2017-05-05  197.0  198.5  197.0  197.5  184.408020  17036000.0\n",
       "1559  2017-05-08  199.0  202.5  199.0  202.5  189.076569  36538000.0\n",
       "1560  2017-05-09  205.5  207.0  203.5  203.5  190.010284  48077000.0"
      ]
     },
     "execution_count": 24,
     "metadata": {},
     "output_type": "execute_result"
    }
   ],
   "source": [
    "testset.head()"
   ]
  },
  {
   "cell_type": "code",
   "execution_count": 25,
   "metadata": {},
   "outputs": [],
   "source": [
    "from pandas import Series\n",
    "from statsmodels.tsa.arima_model import ARIMA\n",
    "import numpy\n",
    "\n",
    "# create a differenced series\n",
    "def difference(dataset, interval=1):\n",
    "\tdiff = list()\n",
    "\tfor i in range(interval, len(dataset)):\n",
    "\t\tvalue = dataset[i] - dataset[i - interval]\n",
    "\t\tdiff.append(value)\n",
    "\treturn numpy.array(diff)\n",
    "\n",
    "# invert differenced value\n",
    "def inverse_difference(history, yhat, interval=1):\n",
    "\treturn yhat + history[-interval]"
   ]
  },
  {
   "cell_type": "code",
   "execution_count": 37,
   "metadata": {},
   "outputs": [],
   "source": [
    "X = trainset.Close.values\n",
    "differenced = difference(X, 365)"
   ]
  },
  {
   "cell_type": "code",
   "execution_count": 39,
   "metadata": {},
   "outputs": [
    {
     "data": {
      "text/plain": [
       "array([10.200005, 12.100006, 14.399994, ..., 53.      , 54.5     ,\n",
       "       57.5     ])"
      ]
     },
     "execution_count": 39,
     "metadata": {},
     "output_type": "execute_result"
    }
   ],
   "source": [
    "differenced"
   ]
  },
  {
   "cell_type": "code",
   "execution_count": 45,
   "metadata": {},
   "outputs": [],
   "source": [
    "# fit model\n",
    "model = ARIMA(differenced, order=(7,0,1))\n",
    "model_fit = model.fit(disp=0)"
   ]
  },
  {
   "cell_type": "code",
   "execution_count": 46,
   "metadata": {},
   "outputs": [],
   "source": [
    "# multi-step out-of-sample forecast\n",
    "start_index = len(differenced)\n",
    "end_index = start_index + 6\n",
    "forecast = model_fit.predict(start=start_index, end=end_index)"
   ]
  },
  {
   "cell_type": "code",
   "execution_count": 47,
   "metadata": {},
   "outputs": [
    {
     "name": "stdout",
     "output_type": "stream",
     "text": [
      "Day 1: 194.959280\n",
      "Day 2: 192.553089\n",
      "Day 3: 192.380521\n",
      "Day 4: 192.642703\n",
      "Day 5: 194.489287\n",
      "Day 6: 199.143919\n",
      "Day 7: 197.213715\n"
     ]
    }
   ],
   "source": [
    "# invert the differenced forecast to something usable\n",
    "history = [x for x in X]\n",
    "day = 1\n",
    "for yhat in forecast:\n",
    "\tinverted = inverse_difference(history, yhat, days_in_year)\n",
    "\tprint('Day %d: %f' % (day, inverted))\n",
    "\thistory.append(inverted)\n",
    "\tday += 1"
   ]
  },
  {
   "cell_type": "code",
   "execution_count": 49,
   "metadata": {},
   "outputs": [
    {
     "data": {
      "text/html": [
       "<div>\n",
       "<style scoped>\n",
       "    .dataframe tbody tr th:only-of-type {\n",
       "        vertical-align: middle;\n",
       "    }\n",
       "\n",
       "    .dataframe tbody tr th {\n",
       "        vertical-align: top;\n",
       "    }\n",
       "\n",
       "    .dataframe thead th {\n",
       "        text-align: right;\n",
       "    }\n",
       "</style>\n",
       "<table border=\"1\" class=\"dataframe\">\n",
       "  <thead>\n",
       "    <tr style=\"text-align: right;\">\n",
       "      <th></th>\n",
       "      <th>Date</th>\n",
       "      <th>Open</th>\n",
       "      <th>High</th>\n",
       "      <th>Low</th>\n",
       "      <th>Close</th>\n",
       "      <th>Adj Close</th>\n",
       "      <th>Volume</th>\n",
       "    </tr>\n",
       "  </thead>\n",
       "  <tbody>\n",
       "    <tr>\n",
       "      <th>1556</th>\n",
       "      <td>2017-05-03</td>\n",
       "      <td>198.0</td>\n",
       "      <td>198.5</td>\n",
       "      <td>197.0</td>\n",
       "      <td>198.0</td>\n",
       "      <td>184.874878</td>\n",
       "      <td>25723000.0</td>\n",
       "    </tr>\n",
       "    <tr>\n",
       "      <th>1557</th>\n",
       "      <td>2017-05-04</td>\n",
       "      <td>198.5</td>\n",
       "      <td>199.0</td>\n",
       "      <td>197.0</td>\n",
       "      <td>198.0</td>\n",
       "      <td>184.874878</td>\n",
       "      <td>22088000.0</td>\n",
       "    </tr>\n",
       "    <tr>\n",
       "      <th>1558</th>\n",
       "      <td>2017-05-05</td>\n",
       "      <td>197.0</td>\n",
       "      <td>198.5</td>\n",
       "      <td>197.0</td>\n",
       "      <td>197.5</td>\n",
       "      <td>184.408020</td>\n",
       "      <td>17036000.0</td>\n",
       "    </tr>\n",
       "    <tr>\n",
       "      <th>1559</th>\n",
       "      <td>2017-05-08</td>\n",
       "      <td>199.0</td>\n",
       "      <td>202.5</td>\n",
       "      <td>199.0</td>\n",
       "      <td>202.5</td>\n",
       "      <td>189.076569</td>\n",
       "      <td>36538000.0</td>\n",
       "    </tr>\n",
       "    <tr>\n",
       "      <th>1560</th>\n",
       "      <td>2017-05-09</td>\n",
       "      <td>205.5</td>\n",
       "      <td>207.0</td>\n",
       "      <td>203.5</td>\n",
       "      <td>203.5</td>\n",
       "      <td>190.010284</td>\n",
       "      <td>48077000.0</td>\n",
       "    </tr>\n",
       "    <tr>\n",
       "      <th>1561</th>\n",
       "      <td>2017-05-10</td>\n",
       "      <td>204.0</td>\n",
       "      <td>206.0</td>\n",
       "      <td>204.0</td>\n",
       "      <td>205.5</td>\n",
       "      <td>191.877701</td>\n",
       "      <td>28312000.0</td>\n",
       "    </tr>\n",
       "  </tbody>\n",
       "</table>\n",
       "</div>"
      ],
      "text/plain": [
       "            Date   Open   High    Low  Close   Adj Close      Volume\n",
       "1556  2017-05-03  198.0  198.5  197.0  198.0  184.874878  25723000.0\n",
       "1557  2017-05-04  198.5  199.0  197.0  198.0  184.874878  22088000.0\n",
       "1558  2017-05-05  197.0  198.5  197.0  197.5  184.408020  17036000.0\n",
       "1559  2017-05-08  199.0  202.5  199.0  202.5  189.076569  36538000.0\n",
       "1560  2017-05-09  205.5  207.0  203.5  203.5  190.010284  48077000.0\n",
       "1561  2017-05-10  204.0  206.0  204.0  205.5  191.877701  28312000.0"
      ]
     },
     "execution_count": 49,
     "metadata": {},
     "output_type": "execute_result"
    }
   ],
   "source": [
    "testset[0 : 6]"
   ]
  },
  {
   "cell_type": "code",
   "execution_count": 54,
   "metadata": {},
   "outputs": [],
   "source": [
    "training_set = trainset[~ trainset['Close'].isna()].iloc[:, 4:5].values"
   ]
  },
  {
   "cell_type": "code",
   "execution_count": 55,
   "metadata": {},
   "outputs": [],
   "source": [
    "from sklearn.preprocessing import MinMaxScaler\n",
    "sc = MinMaxScaler(feature_range = (0, 1))\n",
    "training_set_scaled = sc.fit_transform(training_set)"
   ]
  },
  {
   "cell_type": "code",
   "execution_count": 56,
   "metadata": {},
   "outputs": [],
   "source": [
    "import numpy as np\n",
    "X_train = []\n",
    "y_train = []\n",
    "for i in range(60, len(training_set)):\n",
    "    X_train.append(training_set_scaled[i-60:i, 0])\n",
    "    y_train.append(training_set_scaled[i,0])\n",
    "X_train, y_train = np.array(X_train), np.array(y_train)"
   ]
  },
  {
   "cell_type": "code",
   "execution_count": 63,
   "metadata": {},
   "outputs": [],
   "source": [
    "import numpy as np\n",
    "X_train = np.reshape(X_train, (X_train.shape[0], X_train.shape[1], 1))"
   ]
  },
  {
   "cell_type": "code",
   "execution_count": 64,
   "metadata": {},
   "outputs": [
    {
     "data": {
      "text/plain": [
       "(1491, 60, 1)"
      ]
     },
     "execution_count": 64,
     "metadata": {},
     "output_type": "execute_result"
    }
   ],
   "source": [
    "X_train.shape"
   ]
  },
  {
   "cell_type": "code",
   "execution_count": 65,
   "metadata": {},
   "outputs": [
    {
     "data": {
      "text/plain": [
       "(1491,)"
      ]
     },
     "execution_count": 65,
     "metadata": {},
     "output_type": "execute_result"
    }
   ],
   "source": [
    "y_train.shape"
   ]
  },
  {
   "cell_type": "markdown",
   "metadata": {},
   "source": [
    "## LSTM"
   ]
  },
  {
   "cell_type": "code",
   "execution_count": 66,
   "metadata": {},
   "outputs": [],
   "source": [
    "# Importing the Keras libraries and packages\n",
    "from keras.models import Sequential \n",
    "from keras.layers import Dense\n",
    "from keras.layers import LSTM\n",
    "from keras.layers import Dropout\n",
    "\n",
    "# Initialising the RNN\n",
    "regressor = Sequential()\n",
    "\n",
    "regressor.add(LSTM(units = 50, return_sequences = True, input_shape = (X_train.shape[1], 1)))\n",
    "regressor.add(Dropout(0.2))\n",
    "\n",
    "regressor.add(LSTM(units = 50, return_sequences = True)) \n",
    "regressor.add(Dropout(0.2))\n",
    "\n",
    "regressor.add(LSTM(units = 50, return_sequences = True)) \n",
    "regressor.add(Dropout(0.2))\n",
    "\n",
    "regressor.add(LSTM(units = 50))\n",
    "regressor.add(Dropout(0.2))\n",
    "\n",
    "regressor.add(Dense(units = 1))"
   ]
  },
  {
   "cell_type": "code",
   "execution_count": 67,
   "metadata": {},
   "outputs": [
    {
     "name": "stdout",
     "output_type": "stream",
     "text": [
      "Epoch 1/100\n",
      "1491/1491 [==============================] - 7s 4ms/step - loss: 0.0378\n",
      "Epoch 2/100\n",
      "1491/1491 [==============================] - 4s 3ms/step - loss: 0.0038\n",
      "Epoch 3/100\n",
      "1491/1491 [==============================] - 4s 2ms/step - loss: 0.0036\n",
      "Epoch 4/100\n",
      "1491/1491 [==============================] - 4s 2ms/step - loss: 0.0036\n",
      "Epoch 5/100\n",
      "1491/1491 [==============================] - 4s 2ms/step - loss: 0.0036\n",
      "Epoch 6/100\n",
      "1491/1491 [==============================] - 4s 3ms/step - loss: 0.0036\n",
      "Epoch 7/100\n",
      "1491/1491 [==============================] - 4s 3ms/step - loss: 0.0034\n",
      "Epoch 8/100\n",
      "1491/1491 [==============================] - 4s 3ms/step - loss: 0.0031\n",
      "Epoch 9/100\n",
      "1491/1491 [==============================] - 4s 3ms/step - loss: 0.0030\n",
      "Epoch 10/100\n",
      "1491/1491 [==============================] - 4s 3ms/step - loss: 0.0029\n",
      "Epoch 11/100\n",
      "1491/1491 [==============================] - 4s 3ms/step - loss: 0.0031\n",
      "Epoch 12/100\n",
      "1491/1491 [==============================] - 4s 2ms/step - loss: 0.0029\n",
      "Epoch 13/100\n",
      "1491/1491 [==============================] - 4s 2ms/step - loss: 0.0027\n",
      "Epoch 14/100\n",
      "1491/1491 [==============================] - 4s 3ms/step - loss: 0.0026\n",
      "Epoch 15/100\n",
      "1491/1491 [==============================] - 4s 3ms/step - loss: 0.0025A: 0s - l\n",
      "Epoch 16/100\n",
      "1491/1491 [==============================] - 4s 3ms/step - loss: 0.0029\n",
      "Epoch 17/100\n",
      "1491/1491 [==============================] - 4s 2ms/step - loss: 0.0032\n",
      "Epoch 18/100\n",
      "1491/1491 [==============================] - 4s 3ms/step - loss: 0.0024\n",
      "Epoch 19/100\n",
      "1491/1491 [==============================] - 4s 3ms/step - loss: 0.0026\n",
      "Epoch 20/100\n",
      "1491/1491 [==============================] - 4s 3ms/step - loss: 0.0025\n",
      "Epoch 21/100\n",
      "1491/1491 [==============================] - 4s 3ms/step - loss: 0.0025\n",
      "Epoch 22/100\n",
      "1491/1491 [==============================] - 4s 3ms/step - loss: 0.0024\n",
      "Epoch 23/100\n",
      "1491/1491 [==============================] - 4s 3ms/step - loss: 0.0022\n",
      "Epoch 24/100\n",
      "1491/1491 [==============================] - 4s 2ms/step - loss: 0.0023\n",
      "Epoch 25/100\n",
      "1491/1491 [==============================] - 4s 2ms/step - loss: 0.0020\n",
      "Epoch 26/100\n",
      "1491/1491 [==============================] - 4s 3ms/step - loss: 0.0022\n",
      "Epoch 27/100\n",
      "1491/1491 [==============================] - 4s 3ms/step - loss: 0.0021\n",
      "Epoch 28/100\n",
      "1491/1491 [==============================] - 4s 3ms/step - loss: 0.0022\n",
      "Epoch 29/100\n",
      "1491/1491 [==============================] - 4s 2ms/step - loss: 0.0021\n",
      "Epoch 30/100\n",
      "1491/1491 [==============================] - 4s 3ms/step - loss: 0.0023\n",
      "Epoch 31/100\n",
      "1491/1491 [==============================] - 4s 2ms/step - loss: 0.0020\n",
      "Epoch 32/100\n",
      "1491/1491 [==============================] - 4s 3ms/step - loss: 0.0019\n",
      "Epoch 33/100\n",
      "1491/1491 [==============================] - 4s 3ms/step - loss: 0.0024\n",
      "Epoch 34/100\n",
      "1491/1491 [==============================] - 4s 3ms/step - loss: 0.0020\n",
      "Epoch 35/100\n",
      "1491/1491 [==============================] - 4s 3ms/step - loss: 0.0017\n",
      "Epoch 36/100\n",
      "1491/1491 [==============================] - 4s 3ms/step - loss: 0.0017\n",
      "Epoch 37/100\n",
      "1491/1491 [==============================] - 4s 2ms/step - loss: 0.0017\n",
      "Epoch 38/100\n",
      "1491/1491 [==============================] - 4s 3ms/step - loss: 0.0018\n",
      "Epoch 39/100\n",
      "1491/1491 [==============================] - 4s 3ms/step - loss: 0.0018\n",
      "Epoch 40/100\n",
      "1491/1491 [==============================] - 4s 3ms/step - loss: 0.0018\n",
      "Epoch 41/100\n",
      "1491/1491 [==============================] - 4s 3ms/step - loss: 0.0018\n",
      "Epoch 42/100\n",
      "1491/1491 [==============================] - 4s 3ms/step - loss: 0.0017\n",
      "Epoch 43/100\n",
      "1491/1491 [==============================] - 4s 3ms/step - loss: 0.0019\n",
      "Epoch 44/100\n",
      "1491/1491 [==============================] - 4s 3ms/step - loss: 0.0016\n",
      "Epoch 45/100\n",
      "1491/1491 [==============================] - 4s 3ms/step - loss: 0.0018\n",
      "Epoch 46/100\n",
      "1491/1491 [==============================] - 4s 3ms/step - loss: 0.0015\n",
      "Epoch 47/100\n",
      "1491/1491 [==============================] - 4s 3ms/step - loss: 0.0017\n",
      "Epoch 48/100\n",
      "1491/1491 [==============================] - 4s 2ms/step - loss: 0.0017\n",
      "Epoch 49/100\n",
      "1491/1491 [==============================] - 4s 2ms/step - loss: 0.0018\n",
      "Epoch 50/100\n",
      "1491/1491 [==============================] - 4s 2ms/step - loss: 0.0015\n",
      "Epoch 51/100\n",
      "1491/1491 [==============================] - 4s 2ms/step - loss: 0.0017\n",
      "Epoch 52/100\n",
      "1491/1491 [==============================] - 4s 2ms/step - loss: 0.0016\n",
      "Epoch 53/100\n",
      "1491/1491 [==============================] - 4s 2ms/step - loss: 0.0016\n",
      "Epoch 54/100\n",
      "1491/1491 [==============================] - 4s 2ms/step - loss: 0.0015\n",
      "Epoch 55/100\n",
      "1491/1491 [==============================] - 4s 2ms/step - loss: 0.0015\n",
      "Epoch 56/100\n",
      "1491/1491 [==============================] - 4s 2ms/step - loss: 0.0014\n",
      "Epoch 57/100\n",
      "1491/1491 [==============================] - 4s 2ms/step - loss: 0.0014\n",
      "Epoch 58/100\n",
      "1491/1491 [==============================] - 4s 2ms/step - loss: 0.0016\n",
      "Epoch 59/100\n",
      "1491/1491 [==============================] - 4s 3ms/step - loss: 0.0014\n",
      "Epoch 60/100\n",
      "1491/1491 [==============================] - 4s 2ms/step - loss: 0.0014\n",
      "Epoch 61/100\n",
      "1491/1491 [==============================] - 4s 2ms/step - loss: 0.0016\n",
      "Epoch 62/100\n",
      "1491/1491 [==============================] - 4s 2ms/step - loss: 0.0014\n",
      "Epoch 63/100\n",
      "1491/1491 [==============================] - 4s 2ms/step - loss: 0.0015\n",
      "Epoch 64/100\n",
      "1491/1491 [==============================] - 3s 2ms/step - loss: 0.0015\n",
      "Epoch 65/100\n",
      "1491/1491 [==============================] - 3s 2ms/step - loss: 0.0014\n",
      "Epoch 66/100\n",
      "1491/1491 [==============================] - 3s 2ms/step - loss: 0.0013\n",
      "Epoch 67/100\n",
      "1491/1491 [==============================] - 3s 2ms/step - loss: 0.0014\n",
      "Epoch 68/100\n",
      "1491/1491 [==============================] - 4s 2ms/step - loss: 0.0012\n",
      "Epoch 69/100\n",
      "1491/1491 [==============================] - 3s 2ms/step - loss: 0.0011\n",
      "Epoch 70/100\n",
      "1491/1491 [==============================] - 4s 2ms/step - loss: 0.0013\n",
      "Epoch 71/100\n",
      "1491/1491 [==============================] - 4s 3ms/step - loss: 0.0014\n",
      "Epoch 72/100\n",
      "1491/1491 [==============================] - 4s 3ms/step - loss: 0.0013\n",
      "Epoch 73/100\n",
      "1491/1491 [==============================] - 4s 3ms/step - loss: 0.0013\n",
      "Epoch 74/100\n",
      "1491/1491 [==============================] - 4s 2ms/step - loss: 0.0014\n",
      "Epoch 75/100\n",
      "1491/1491 [==============================] - 4s 3ms/step - loss: 0.0014\n",
      "Epoch 76/100\n",
      "1491/1491 [==============================] - 4s 3ms/step - loss: 0.0014\n",
      "Epoch 77/100\n",
      "1491/1491 [==============================] - 4s 2ms/step - loss: 0.0012\n",
      "Epoch 78/100\n",
      "1491/1491 [==============================] - 4s 2ms/step - loss: 0.0011\n",
      "Epoch 79/100\n",
      "1491/1491 [==============================] - 4s 2ms/step - loss: 0.0013\n",
      "Epoch 80/100\n",
      "1491/1491 [==============================] - 3s 2ms/step - loss: 0.0013\n",
      "Epoch 81/100\n",
      "1491/1491 [==============================] - 4s 2ms/step - loss: 0.0012\n",
      "Epoch 82/100\n",
      "1491/1491 [==============================] - 3s 2ms/step - loss: 0.0013\n",
      "Epoch 83/100\n",
      "1491/1491 [==============================] - 3s 2ms/step - loss: 0.0011\n",
      "Epoch 84/100\n",
      "1491/1491 [==============================] - 3s 2ms/step - loss: 0.0014\n",
      "Epoch 85/100\n",
      "1491/1491 [==============================] - 3s 2ms/step - loss: 0.0011\n",
      "Epoch 86/100\n",
      "1491/1491 [==============================] - 3s 2ms/step - loss: 0.0011\n",
      "Epoch 87/100\n",
      "1491/1491 [==============================] - 3s 2ms/step - loss: 0.0011\n",
      "Epoch 88/100\n",
      "1491/1491 [==============================] - 4s 2ms/step - loss: 0.0011\n",
      "Epoch 89/100\n",
      "1491/1491 [==============================] - 4s 2ms/step - loss: 0.0011\n",
      "Epoch 90/100\n",
      "1491/1491 [==============================] - 4s 2ms/step - loss: 0.0012\n",
      "Epoch 91/100\n",
      "1491/1491 [==============================] - 4s 2ms/step - loss: 0.0010\n",
      "Epoch 92/100\n",
      "1491/1491 [==============================] - 3s 2ms/step - loss: 0.0012\n",
      "Epoch 93/100\n",
      "1491/1491 [==============================] - 3s 2ms/step - loss: 0.0011\n",
      "Epoch 94/100\n",
      "1491/1491 [==============================] - 3s 2ms/step - loss: 0.0012\n",
      "Epoch 95/100\n",
      "1491/1491 [==============================] - 3s 2ms/step - loss: 0.0010\n",
      "Epoch 96/100\n",
      "1491/1491 [==============================] - 3s 2ms/step - loss: 9.9105e-04\n",
      "Epoch 97/100\n"
     ]
    },
    {
     "name": "stdout",
     "output_type": "stream",
     "text": [
      "1491/1491 [==============================] - 3s 2ms/step - loss: 0.0011\n",
      "Epoch 98/100\n",
      "1491/1491 [==============================] - 3s 2ms/step - loss: 0.0013\n",
      "Epoch 99/100\n",
      "1491/1491 [==============================] - 3s 2ms/step - loss: 0.0013\n",
      "Epoch 100/100\n",
      "1491/1491 [==============================] - 4s 2ms/step - loss: 9.9153e-04\n"
     ]
    },
    {
     "data": {
      "text/plain": [
       "<keras.callbacks.History at 0x18482f98>"
      ]
     },
     "execution_count": 67,
     "metadata": {},
     "output_type": "execute_result"
    }
   ],
   "source": [
    "# Compiling the RNN\n",
    "regressor.compile(optimizer = 'adam', loss = 'mean_squared_error')\n",
    "\n",
    "# Fitting the RNN to the Training set\n",
    "regressor.fit(X_train, y_train, epochs = 100, batch_size = 32)"
   ]
  },
  {
   "cell_type": "code",
   "execution_count": 71,
   "metadata": {},
   "outputs": [],
   "source": [
    "real_stock_price = testset.iloc[:,4:5].values"
   ]
  },
  {
   "cell_type": "code",
   "execution_count": 72,
   "metadata": {},
   "outputs": [
    {
     "data": {
      "text/plain": [
       "1827    227.0\n",
       "1828    226.0\n",
       "1829    229.0\n",
       "1830    232.0\n",
       "1831    226.5\n",
       "1832    231.0\n",
       "1833    225.0\n",
       "1834    226.0\n",
       "1835    226.5\n",
       "1836    227.5\n",
       "1837    218.0\n",
       "1838    214.5\n",
       "1839    213.0\n",
       "1840    212.0\n",
       "1841    216.5\n",
       "1842    214.0\n",
       "1843    214.5\n",
       "1844    216.0\n",
       "1845    214.5\n",
       "1846    217.0\n",
       "1847    221.5\n",
       "1848    222.0\n",
       "1849    220.0\n",
       "1850    220.5\n",
       "1851    224.5\n",
       "1852    223.5\n",
       "1853    221.5\n",
       "1854    223.0\n",
       "1855    224.5\n",
       "1856    237.5\n",
       "Name: Close, dtype: float64"
      ]
     },
     "execution_count": 72,
     "metadata": {},
     "output_type": "execute_result"
    }
   ],
   "source": [
    "dataset_total = pandas.concat((trainset['Close'], testset['Close']), axis = 0)\n",
    "dataset_total.tail(30)"
   ]
  },
  {
   "cell_type": "code",
   "execution_count": 74,
   "metadata": {},
   "outputs": [],
   "source": [
    "inputs = dataset_total[len(dataset_total) - len(testset['Close']) - 60:].values"
   ]
  },
  {
   "cell_type": "code",
   "execution_count": 76,
   "metadata": {},
   "outputs": [],
   "source": [
    "inputs = inputs.reshape(-1,1)"
   ]
  },
  {
   "cell_type": "code",
   "execution_count": 78,
   "metadata": {},
   "outputs": [],
   "source": [
    "inputs = sc.transform(inputs)"
   ]
  },
  {
   "cell_type": "code",
   "execution_count": 83,
   "metadata": {},
   "outputs": [
    {
     "data": {
      "text/plain": [
       "360"
      ]
     },
     "execution_count": 83,
     "metadata": {},
     "output_type": "execute_result"
    }
   ],
   "source": [
    "len(inputs)"
   ]
  },
  {
   "cell_type": "code",
   "execution_count": 84,
   "metadata": {},
   "outputs": [],
   "source": [
    "X_test = []\n",
    "for i in range(60, 360):\n",
    "    X_test.append(inputs[i-60:i, 0])"
   ]
  },
  {
   "cell_type": "code",
   "execution_count": 85,
   "metadata": {},
   "outputs": [
    {
     "data": {
      "text/plain": [
       "300"
      ]
     },
     "execution_count": 85,
     "metadata": {},
     "output_type": "execute_result"
    }
   ],
   "source": [
    "len(X_test)"
   ]
  },
  {
   "cell_type": "code",
   "execution_count": 87,
   "metadata": {},
   "outputs": [],
   "source": [
    "X_test = np.array(X_test)"
   ]
  },
  {
   "cell_type": "code",
   "execution_count": 88,
   "metadata": {},
   "outputs": [],
   "source": [
    "X_test = np.reshape(X_test, (X_test.shape[0], X_test.shape[1], 1))"
   ]
  },
  {
   "cell_type": "code",
   "execution_count": 89,
   "metadata": {},
   "outputs": [],
   "source": [
    "predicted_stock_price = regressor.predict(X_test)"
   ]
  },
  {
   "cell_type": "code",
   "execution_count": 91,
   "metadata": {},
   "outputs": [],
   "source": [
    "predicted_stock_price = sc.inverse_transform(predicted_stock_price)"
   ]
  },
  {
   "cell_type": "code",
   "execution_count": 100,
   "metadata": {},
   "outputs": [
    {
     "data": {
      "image/png": "[encoded data removed]",
      "text/plain": [
       "<Figure size 432x288 with 1 Axes>"
      ]
     },
     "metadata": {},
     "output_type": "display_data"
    }
   ],
   "source": [
    "import matplotlib.pyplot as plt\n",
    "plt.plot(real_stock_price, color = 'red', label = 'Real TW2330 Stock Price')\n",
    "plt.plot(predicted_stock_price, color = 'blue', label = 'Predicted TW2330 Stock Price')\n",
    "plt.title('TW2330 Stock Price Prediction')\n",
    "plt.xlabel('Time')\n",
    "plt.ylabel('TW2330 Stock Price')\n",
    "plt.legend()\n",
    "plt.show()"
   ]
  },
  {
   "cell_type": "code",
   "execution_count": 96,
   "metadata": {},
   "outputs": [],
   "source": [
    "predicted_stock_price2 = regressor.predict(X_train)\n",
    "predicted_stock_price2 = sc.inverse_transform(predicted_stock_price2)\n",
    "real_stock_price2 = training_set"
   ]
  },
  {
   "cell_type": "code",
   "execution_count": 101,
   "metadata": {},
   "outputs": [
    {
     "data": {
      "image/png": "[encoded data removed]",
      "text/plain": [
       "<Figure size 432x288 with 1 Axes>"
      ]
     },
     "metadata": {},
     "output_type": "display_data"
    }
   ],
   "source": [
    "import matplotlib.pyplot as plt\n",
    "plt.plot(real_stock_price2, color = 'red', label = 'Real TW2330 Stock Price')\n",
    "plt.plot(predicted_stock_price2, color = 'blue', label = 'Predicted TW2330 Stock Price')\n",
    "plt.title('TW2330 Stock Price Prediction')\n",
    "plt.xlabel('Time')\n",
    "plt.ylabel('TW2330 Stock Price')\n",
    "plt.legend()\n",
    "plt.show()"
   ]
  },
  {
   "cell_type": "markdown",
   "metadata": {},
   "source": [
    "## 預測火鍋搜尋趨勢"
   ]
  },
  {
   "cell_type": "code",
   "execution_count": 102,
   "metadata": {},
   "outputs": [],
   "source": [
    "import pandas\n",
    "df = pandas.read_csv('https://raw.githubusercontent.com/ywchiu/tibamedl/master/Data/hotpot.csv', skiprows= [0,1])"
   ]
  },
  {
   "cell_type": "code",
   "execution_count": 104,
   "metadata": {},
   "outputs": [],
   "source": [
    "df.columns = ['月', '火鍋']"
   ]
  },
  {
   "cell_type": "code",
   "execution_count": 107,
   "metadata": {},
   "outputs": [
    {
     "data": {
      "text/plain": [
       "<matplotlib.axes._subplots.AxesSubplot at 0x1c868358>"
      ]
     },
     "execution_count": 107,
     "metadata": {},
     "output_type": "execute_result"
    },
    {
     "data": {
      "image/png": "[encoded data removed]",
      "text/plain": [
       "<Figure size 432x288 with 1 Axes>"
      ]
     },
     "metadata": {},
     "output_type": "display_data"
    }
   ],
   "source": [
    "df['火鍋'].plot(kind='line')"
   ]
  },
  {
   "cell_type": "code",
   "execution_count": 109,
   "metadata": {},
   "outputs": [],
   "source": [
    "#trainset = df['火鍋'].values"
   ]
  },
  {
   "cell_type": "code",
   "execution_count": 110,
   "metadata": {},
   "outputs": [
    {
     "data": {
      "text/plain": [
       "175"
      ]
     },
     "execution_count": 110,
     "metadata": {},
     "output_type": "execute_result"
    }
   ],
   "source": [
    "len(df['火鍋'].values)"
   ]
  },
  {
   "cell_type": "code",
   "execution_count": 112,
   "metadata": {},
   "outputs": [],
   "source": [
    "dataset = df['火鍋'].values"
   ]
  },
  {
   "cell_type": "code",
   "execution_count": 113,
   "metadata": {},
   "outputs": [],
   "source": [
    "X_train = []\n",
    "y_train = []\n",
    "for i in range(7, 175):\n",
    "    X_train.append(dataset[i-7:i])\n",
    "    y_train.append(dataset[i])\n",
    "    \n",
    "X_train, y_train = np.array(X_train), np.array(y_train)"
   ]
  },
  {
   "cell_type": "code",
   "execution_count": 114,
   "metadata": {},
   "outputs": [],
   "source": [
    "X_train2 = np.reshape(X_train, (X_train.shape[0], X_train.shape[1], 1))"
   ]
  },
  {
   "cell_type": "code",
   "execution_count": 116,
   "metadata": {},
   "outputs": [],
   "source": [
    "#X_train2"
   ]
  },
  {
   "cell_type": "code",
   "execution_count": 117,
   "metadata": {},
   "outputs": [],
   "source": [
    "# Importing the Keras libraries and packages\n",
    "from keras.models import Sequential \n",
    "from keras.layers import Dense\n",
    "from keras.layers import LSTM\n",
    "\n",
    "# Initialising the RNN\n",
    "regressor = Sequential()\n",
    "\n",
    "regressor.add(LSTM(units = 50, return_sequences = True, input_shape = (X_train2.shape[1], 1)))\n",
    "regressor.add(Dropout(0.2))\n",
    "\n",
    "regressor.add(LSTM(units = 50))\n",
    "regressor.add(Dropout(0.2))\n",
    "\n",
    "regressor.add(Dense(units = 1))"
   ]
  },
  {
   "cell_type": "code",
   "execution_count": 118,
   "metadata": {},
   "outputs": [
    {
     "name": "stdout",
     "output_type": "stream",
     "text": [
      "Epoch 1/100\n",
      "168/168 [==============================] - 2s 11ms/step - loss: 1095.9671\n",
      "Epoch 2/100\n",
      "168/168 [==============================] - 0s 3ms/step - loss: 786.9549\n",
      "Epoch 3/100\n",
      "168/168 [==============================] - 0s 3ms/step - loss: 688.7997\n",
      "Epoch 4/100\n",
      "168/168 [==============================] - 1s 3ms/step - loss: 607.6683\n",
      "Epoch 5/100\n",
      "168/168 [==============================] - 0s 3ms/step - loss: 556.2781\n",
      "Epoch 6/100\n",
      "168/168 [==============================] - 0s 3ms/step - loss: 491.1815\n",
      "Epoch 7/100\n",
      "168/168 [==============================] - 1s 3ms/step - loss: 423.6583\n",
      "Epoch 8/100\n",
      "168/168 [==============================] - 1s 3ms/step - loss: 374.5789\n",
      "Epoch 9/100\n",
      "168/168 [==============================] - 0s 3ms/step - loss: 338.1880\n",
      "Epoch 10/100\n",
      "168/168 [==============================] - 0s 3ms/step - loss: 303.8201\n",
      "Epoch 11/100\n",
      "168/168 [==============================] - 0s 3ms/step - loss: 272.9048\n",
      "Epoch 12/100\n",
      "168/168 [==============================] - 1s 3ms/step - loss: 251.7236\n",
      "Epoch 13/100\n",
      "168/168 [==============================] - 0s 3ms/step - loss: 213.3771\n",
      "Epoch 14/100\n",
      "168/168 [==============================] - 1s 3ms/step - loss: 198.1158\n",
      "Epoch 15/100\n",
      "168/168 [==============================] - 0s 3ms/step - loss: 177.4983\n",
      "Epoch 16/100\n",
      "168/168 [==============================] - 1s 3ms/step - loss: 175.6899\n",
      "Epoch 17/100\n",
      "168/168 [==============================] - 0s 3ms/step - loss: 164.0046\n",
      "Epoch 18/100\n",
      "168/168 [==============================] - 1s 3ms/step - loss: 161.6925\n",
      "Epoch 19/100\n",
      "168/168 [==============================] - 0s 3ms/step - loss: 140.9621\n",
      "Epoch 20/100\n",
      "168/168 [==============================] - 1s 3ms/step - loss: 136.0791\n",
      "Epoch 21/100\n",
      "168/168 [==============================] - 1s 3ms/step - loss: 125.1903\n",
      "Epoch 22/100\n",
      "168/168 [==============================] - 1s 3ms/step - loss: 114.6853\n",
      "Epoch 23/100\n",
      "168/168 [==============================] - 0s 3ms/step - loss: 113.2759\n",
      "Epoch 24/100\n",
      "168/168 [==============================] - 0s 3ms/step - loss: 109.5847\n",
      "Epoch 25/100\n",
      "168/168 [==============================] - 0s 3ms/step - loss: 105.2567\n",
      "Epoch 26/100\n",
      "168/168 [==============================] - 0s 3ms/step - loss: 107.4235\n",
      "Epoch 27/100\n",
      "168/168 [==============================] - 0s 3ms/step - loss: 96.2644\n",
      "Epoch 28/100\n",
      "168/168 [==============================] - 0s 3ms/step - loss: 90.8283\n",
      "Epoch 29/100\n",
      "168/168 [==============================] - 0s 3ms/step - loss: 88.1409\n",
      "Epoch 30/100\n",
      "168/168 [==============================] - 0s 3ms/step - loss: 91.5351\n",
      "Epoch 31/100\n",
      "168/168 [==============================] - 0s 3ms/step - loss: 71.7691\n",
      "Epoch 32/100\n",
      "168/168 [==============================] - 0s 3ms/step - loss: 73.2154\n",
      "Epoch 33/100\n",
      "168/168 [==============================] - 0s 3ms/step - loss: 75.5470\n",
      "Epoch 34/100\n",
      "168/168 [==============================] - 0s 3ms/step - loss: 69.8199\n",
      "Epoch 35/100\n",
      "168/168 [==============================] - 0s 3ms/step - loss: 77.6185\n",
      "Epoch 36/100\n",
      "168/168 [==============================] - 0s 3ms/step - loss: 76.9872\n",
      "Epoch 37/100\n",
      "168/168 [==============================] - 0s 3ms/step - loss: 69.3646\n",
      "Epoch 38/100\n",
      "168/168 [==============================] - 0s 3ms/step - loss: 63.4192\n",
      "Epoch 39/100\n",
      "168/168 [==============================] - 0s 3ms/step - loss: 68.1780\n",
      "Epoch 40/100\n",
      "168/168 [==============================] - 0s 3ms/step - loss: 60.9114\n",
      "Epoch 41/100\n",
      "168/168 [==============================] - 0s 3ms/step - loss: 64.2573\n",
      "Epoch 42/100\n",
      "168/168 [==============================] - 0s 3ms/step - loss: 55.0283\n",
      "Epoch 43/100\n",
      "168/168 [==============================] - 0s 3ms/step - loss: 69.7827\n",
      "Epoch 44/100\n",
      "168/168 [==============================] - 0s 3ms/step - loss: 60.0233\n",
      "Epoch 45/100\n",
      "168/168 [==============================] - 0s 3ms/step - loss: 61.7413\n",
      "Epoch 46/100\n",
      "168/168 [==============================] - 0s 3ms/step - loss: 59.9724\n",
      "Epoch 47/100\n",
      "168/168 [==============================] - 0s 3ms/step - loss: 62.0387\n",
      "Epoch 48/100\n",
      "168/168 [==============================] - 0s 3ms/step - loss: 56.3687\n",
      "Epoch 49/100\n",
      "168/168 [==============================] - 1s 3ms/step - loss: 53.7607\n",
      "Epoch 50/100\n",
      "168/168 [==============================] - 1s 3ms/step - loss: 57.2666\n",
      "Epoch 51/100\n",
      "168/168 [==============================] - 1s 3ms/step - loss: 63.0071\n",
      "Epoch 52/100\n",
      "168/168 [==============================] - 1s 3ms/step - loss: 50.4619\n",
      "Epoch 53/100\n",
      "168/168 [==============================] - 1s 3ms/step - loss: 60.3415\n",
      "Epoch 54/100\n",
      "168/168 [==============================] - 1s 3ms/step - loss: 53.8361\n",
      "Epoch 55/100\n",
      "168/168 [==============================] - 1s 3ms/step - loss: 47.5330\n",
      "Epoch 56/100\n",
      "168/168 [==============================] - 1s 3ms/step - loss: 64.3721\n",
      "Epoch 57/100\n",
      "168/168 [==============================] - 0s 3ms/step - loss: 53.5296\n",
      "Epoch 58/100\n",
      "168/168 [==============================] - 0s 3ms/step - loss: 50.9898\n",
      "Epoch 59/100\n",
      "168/168 [==============================] - 1s 3ms/step - loss: 51.1813\n",
      "Epoch 60/100\n",
      "168/168 [==============================] - 1s 3ms/step - loss: 61.8585\n",
      "Epoch 61/100\n",
      "168/168 [==============================] - 1s 3ms/step - loss: 65.0815\n",
      "Epoch 62/100\n",
      "168/168 [==============================] - 1s 3ms/step - loss: 54.9751\n",
      "Epoch 63/100\n",
      "168/168 [==============================] - 0s 3ms/step - loss: 48.0099\n",
      "Epoch 64/100\n",
      "168/168 [==============================] - 0s 3ms/step - loss: 49.7927\n",
      "Epoch 65/100\n",
      "168/168 [==============================] - 0s 3ms/step - loss: 47.4842\n",
      "Epoch 66/100\n",
      "168/168 [==============================] - 1s 3ms/step - loss: 41.3996\n",
      "Epoch 67/100\n",
      "168/168 [==============================] - 0s 3ms/step - loss: 53.8683\n",
      "Epoch 68/100\n",
      "168/168 [==============================] - 1s 3ms/step - loss: 51.9156\n",
      "Epoch 69/100\n",
      "168/168 [==============================] - 1s 3ms/step - loss: 54.6549\n",
      "Epoch 70/100\n",
      "168/168 [==============================] - 1s 3ms/step - loss: 50.5972\n",
      "Epoch 71/100\n",
      "168/168 [==============================] - 0s 3ms/step - loss: 53.8124\n",
      "Epoch 72/100\n",
      "168/168 [==============================] - 1s 3ms/step - loss: 55.7758\n",
      "Epoch 73/100\n",
      "168/168 [==============================] - 1s 3ms/step - loss: 40.7739\n",
      "Epoch 74/100\n",
      "168/168 [==============================] - 1s 3ms/step - loss: 50.3384\n",
      "Epoch 75/100\n",
      "168/168 [==============================] - 1s 3ms/step - loss: 39.5020\n",
      "Epoch 76/100\n",
      "168/168 [==============================] - 1s 3ms/step - loss: 47.5027\n",
      "Epoch 77/100\n",
      "168/168 [==============================] - 1s 3ms/step - loss: 42.6781\n",
      "Epoch 78/100\n",
      "168/168 [==============================] - 1s 3ms/step - loss: 46.1307\n",
      "Epoch 79/100\n",
      "168/168 [==============================] - 1s 3ms/step - loss: 51.9907\n",
      "Epoch 80/100\n",
      "168/168 [==============================] - 1s 3ms/step - loss: 43.9260\n",
      "Epoch 81/100\n",
      "168/168 [==============================] - 1s 3ms/step - loss: 43.9085\n",
      "Epoch 82/100\n",
      "168/168 [==============================] - 1s 3ms/step - loss: 48.8945\n",
      "Epoch 83/100\n",
      "168/168 [==============================] - 1s 3ms/step - loss: 48.4984\n",
      "Epoch 84/100\n",
      "168/168 [==============================] - 1s 3ms/step - loss: 45.2274\n",
      "Epoch 85/100\n",
      "168/168 [==============================] - 1s 3ms/step - loss: 46.4861\n",
      "Epoch 86/100\n",
      "168/168 [==============================] - 1s 3ms/step - loss: 49.3848\n",
      "Epoch 87/100\n",
      "168/168 [==============================] - 1s 3ms/step - loss: 49.7880\n",
      "Epoch 88/100\n",
      "168/168 [==============================] - 1s 3ms/step - loss: 51.2953\n",
      "Epoch 89/100\n",
      "168/168 [==============================] - 1s 3ms/step - loss: 45.9365\n",
      "Epoch 90/100\n",
      "168/168 [==============================] - 1s 3ms/step - loss: 45.1993\n",
      "Epoch 91/100\n",
      "168/168 [==============================] - 1s 3ms/step - loss: 44.9461\n",
      "Epoch 92/100\n",
      "168/168 [==============================] - 1s 3ms/step - loss: 50.1573\n",
      "Epoch 93/100\n",
      "168/168 [==============================] - 1s 3ms/step - loss: 41.6185\n",
      "Epoch 94/100\n",
      "168/168 [==============================] - 1s 3ms/step - loss: 40.6405\n",
      "Epoch 95/100\n",
      "168/168 [==============================] - 1s 3ms/step - loss: 40.7552\n",
      "Epoch 96/100\n",
      "168/168 [==============================] - 1s 3ms/step - loss: 32.9671\n",
      "Epoch 97/100\n",
      "168/168 [==============================] - 1s 3ms/step - loss: 40.8994\n",
      "Epoch 98/100\n"
     ]
    },
    {
     "name": "stdout",
     "output_type": "stream",
     "text": [
      "168/168 [==============================] - 1s 3ms/step - loss: 33.0714\n",
      "Epoch 99/100\n",
      "168/168 [==============================] - 0s 3ms/step - loss: 46.3079\n",
      "Epoch 100/100\n",
      "168/168 [==============================] - 0s 3ms/step - loss: 38.2787\n"
     ]
    },
    {
     "data": {
      "text/plain": [
       "<keras.callbacks.History at 0x1eedb668>"
      ]
     },
     "execution_count": 118,
     "metadata": {},
     "output_type": "execute_result"
    }
   ],
   "source": [
    "# Compiling the RNN\n",
    "regressor.compile(optimizer = 'adam', loss = 'mean_squared_error')\n",
    "\n",
    "# Fitting the RNN to the Training set\n",
    "regressor.fit(X_train2, y_train, epochs = 100, batch_size = 2)"
   ]
  },
  {
   "cell_type": "code",
   "execution_count": 119,
   "metadata": {},
   "outputs": [],
   "source": [
    "predicted = regressor.predict(X_train2)"
   ]
  },
  {
   "cell_type": "code",
   "execution_count": 120,
   "metadata": {},
   "outputs": [
    {
     "data": {
      "image/png": "[encoded data removed]",
      "text/plain": [
       "<Figure size 432x288 with 1 Axes>"
      ]
     },
     "metadata": {},
     "output_type": "display_data"
    }
   ],
   "source": [
    "import matplotlib.pyplot as plt\n",
    "plt.plot(dataset, color = 'red', label = 'Real Data')\n",
    "plt.plot(predicted, color = 'blue', label = 'Predicted Price')\n",
    "plt.title('Prediction')\n",
    "plt.xlabel('Time')\n",
    "plt.ylabel('Google Trends')\n",
    "plt.legend()\n",
    "plt.show()"
   ]
  },
  {
   "cell_type": "markdown",
   "metadata": {},
   "source": [
    "## 使用LSTM 讓電腦自動寫文章 "
   ]
  },
  {
   "cell_type": "code",
   "execution_count": 122,
   "metadata": {},
   "outputs": [
    {
     "name": "stdout",
     "output_type": "stream",
     "text": [
      "Corpus length: 600893\n"
     ]
    }
   ],
   "source": [
    "import keras\n",
    "import numpy as np\n",
    "\n",
    "path = keras.utils.get_file(\n",
    "    'nietzsche.txt',\n",
    "    origin='https://s3.amazonaws.com/text-datasets/nietzsche.txt')\n",
    "text = open(path, encoding='utf-8').read().lower()\n",
    "print('Corpus length:', len(text))"
   ]
  },
  {
   "cell_type": "code",
   "execution_count": 124,
   "metadata": {},
   "outputs": [
    {
     "data": {
      "text/plain": [
       "57"
      ]
     },
     "execution_count": 124,
     "metadata": {},
     "output_type": "execute_result"
    }
   ],
   "source": [
    "len(set(list(text)))"
   ]
  },
  {
   "cell_type": "code",
   "execution_count": 126,
   "metadata": {},
   "outputs": [],
   "source": [
    "#set(list(text))"
   ]
  },
  {
   "cell_type": "code",
   "execution_count": 128,
   "metadata": {},
   "outputs": [
    {
     "name": "stdout",
     "output_type": "stream",
     "text": [
      "0\n",
      "3\n",
      "6\n",
      "9\n"
     ]
    }
   ],
   "source": [
    "for i in range(0,10, 3):\n",
    "    print(i)"
   ]
  },
  {
   "cell_type": "code",
   "execution_count": 129,
   "metadata": {},
   "outputs": [
    {
     "name": "stdout",
     "output_type": "stream",
     "text": [
      "Number of sequences: 200278\n"
     ]
    }
   ],
   "source": [
    "# 從文章中取得序列長度\n",
    "maxlen = 60\n",
    "\n",
    "# 按步驟數進行隨機採樣\n",
    "step = 3\n",
    "\n",
    "# 保留句子的序列\n",
    "sentences = []\n",
    "\n",
    "# 保留下一個字元\n",
    "next_chars = []\n",
    "\n",
    "for i in range(0, len(text) - maxlen, step):\n",
    "    # 根據step，每次取出 maxlen 的序列為 train data\n",
    "    sentences.append(text[i: i + maxlen])\n",
    "    # 取出序列的下一個字元當 targets\n",
    "    next_chars.append(text[i + maxlen])\n",
    "print('Number of sequences:', len(sentences))"
   ]
  },
  {
   "cell_type": "code",
   "execution_count": 131,
   "metadata": {},
   "outputs": [
    {
     "name": "stdout",
     "output_type": "stream",
     "text": [
      "['\\n', ' ', '!', '\"', \"'\", '(', ')', ',', '-', '.', '0', '1', '2', '3', '4', '5', '6', '7', '8', '9', ':', ';', '=', '?', '[', ']', '_', 'a', 'b', 'c', 'd', 'e', 'f', 'g', 'h', 'i', 'j', 'k', 'l', 'm', 'n', 'o', 'p', 'q', 'r', 's', 't', 'u', 'v', 'w', 'x', 'y', 'z', 'ä', 'æ', 'é', 'ë']\n",
      "Unique characters: 57\n"
     ]
    }
   ],
   "source": [
    "# 產生詞彙表\n",
    "chars = sorted(list(set(text)))\n",
    "print(chars)\n",
    "print('Unique characters:', len(chars))"
   ]
  },
  {
   "cell_type": "code",
   "execution_count": 134,
   "metadata": {},
   "outputs": [
    {
     "name": "stdout",
     "output_type": "stream",
     "text": [
      "{'\\n': 0, ' ': 1, '!': 2, '\"': 3, \"'\": 4, '(': 5, ')': 6, ',': 7, '-': 8, '.': 9, '0': 10, '1': 11, '2': 12, '3': 13, '4': 14, '5': 15, '6': 16, '7': 17, '8': 18, '9': 19, ':': 20, ';': 21, '=': 22, '?': 23, '[': 24, ']': 25, '_': 26, 'a': 27, 'b': 28, 'c': 29, 'd': 30, 'e': 31, 'f': 32, 'g': 33, 'h': 34, 'i': 35, 'j': 36, 'k': 37, 'l': 38, 'm': 39, 'n': 40, 'o': 41, 'p': 42, 'q': 43, 'r': 44, 's': 45, 't': 46, 'u': 47, 'v': 48, 'w': 49, 'x': 50, 'y': 51, 'z': 52, 'ä': 53, 'æ': 54, 'é': 55, 'ë': 56}\n"
     ]
    }
   ],
   "source": [
    "# 利用字典對映 char 和索引 index\n",
    "char_indices = dict((char, chars.index(char)) for char in chars)\n",
    "print(char_indices)"
   ]
  },
  {
   "cell_type": "code",
   "execution_count": 135,
   "metadata": {},
   "outputs": [],
   "source": [
    "# x：訓練樣本\n",
    "x = np.zeros((len(sentences), maxlen, len(chars)), dtype=np.bool)"
   ]
  },
  {
   "cell_type": "code",
   "execution_count": 137,
   "metadata": {},
   "outputs": [
    {
     "data": {
      "text/plain": [
       "(200278, 60, 57)"
      ]
     },
     "execution_count": 137,
     "metadata": {},
     "output_type": "execute_result"
    }
   ],
   "source": [
    "x.shape"
   ]
  },
  {
   "cell_type": "code",
   "execution_count": 138,
   "metadata": {},
   "outputs": [],
   "source": [
    "# y：目標樣本\n",
    "y = np.zeros((len(sentences), len(chars)), dtype=np.bool)"
   ]
  },
  {
   "cell_type": "code",
   "execution_count": 139,
   "metadata": {},
   "outputs": [
    {
     "data": {
      "text/plain": [
       "(200278, 57)"
      ]
     },
     "execution_count": 139,
     "metadata": {},
     "output_type": "execute_result"
    }
   ],
   "source": [
    "y.shape"
   ]
  },
  {
   "cell_type": "code",
   "execution_count": 140,
   "metadata": {},
   "outputs": [],
   "source": [
    "for i, sentence in enumerate(sentences):        # 對每個句子\n",
    "    for t, char in enumerate(sentence):         # 對每個詞\n",
    "        x[i, t, char_indices[char]] = 1         # 將訓練樣本做one-hot\n",
    "    y[i, char_indices[next_chars[i]]] = 1       # 將標籤做one-hot"
   ]
  },
  {
   "cell_type": "code",
   "execution_count": 153,
   "metadata": {},
   "outputs": [
    {
     "data": {
      "text/plain": [
       "'preface\\n\\n\\nsupposing that truth is a woman--what then? is the'"
      ]
     },
     "execution_count": 153,
     "metadata": {},
     "output_type": "execute_result"
    }
   ],
   "source": [
    "text[0:60]"
   ]
  },
  {
   "cell_type": "code",
   "execution_count": 151,
   "metadata": {},
   "outputs": [
    {
     "data": {
      "text/plain": [
       "'r'"
      ]
     },
     "execution_count": 151,
     "metadata": {},
     "output_type": "execute_result"
    }
   ],
   "source": [
    "text[60]"
   ]
  },
  {
   "cell_type": "code",
   "execution_count": 145,
   "metadata": {},
   "outputs": [
    {
     "data": {
      "text/plain": [
       "'p'"
      ]
     },
     "execution_count": 145,
     "metadata": {},
     "output_type": "execute_result"
    }
   ],
   "source": [
    "text[0]"
   ]
  },
  {
   "cell_type": "code",
   "execution_count": 148,
   "metadata": {},
   "outputs": [
    {
     "data": {
      "text/plain": [
       "'r'"
      ]
     },
     "execution_count": 148,
     "metadata": {},
     "output_type": "execute_result"
    }
   ],
   "source": [
    "text[60]"
   ]
  },
  {
   "cell_type": "code",
   "execution_count": 144,
   "metadata": {},
   "outputs": [
    {
     "data": {
      "text/plain": [
       "(array([42], dtype=int64),)"
      ]
     },
     "execution_count": 144,
     "metadata": {},
     "output_type": "execute_result"
    }
   ],
   "source": [
    "np.where(x[0][0] == True)"
   ]
  },
  {
   "cell_type": "code",
   "execution_count": 147,
   "metadata": {},
   "outputs": [
    {
     "data": {
      "text/plain": [
       "(array([44], dtype=int64),)"
      ]
     },
     "execution_count": 147,
     "metadata": {},
     "output_type": "execute_result"
    }
   ],
   "source": [
    "np.where(y[0] == True)"
   ]
  },
  {
   "cell_type": "code",
   "execution_count": 154,
   "metadata": {},
   "outputs": [],
   "source": [
    "# 使用 LSTM 做下一個字元的預測\n",
    "\n",
    "from keras import layers\n",
    "\n",
    "model = keras.models.Sequential()\n",
    "# 輸入為60 * 字串長度\n",
    "model.add(layers.LSTM(128, input_shape=(maxlen, len(chars))))\n",
    "# 以字元對應作為輸出\n",
    "model.add(layers.Dense(len(chars), activation='softmax'))\n",
    "\n",
    "model.compile(loss='categorical_crossentropy', optimizer='adam')"
   ]
  },
  {
   "cell_type": "code",
   "execution_count": 155,
   "metadata": {},
   "outputs": [
    {
     "name": "stdout",
     "output_type": "stream",
     "text": [
      "Epoch 1/1\n",
      "200278/200278 [==============================] - 150s 749us/step - loss: 2.5409\n"
     ]
    },
    {
     "data": {
      "text/plain": [
       "<keras.callbacks.History at 0x24d610f0>"
      ]
     },
     "execution_count": 155,
     "metadata": {},
     "output_type": "execute_result"
    }
   ],
   "source": [
    "model.fit(x, y, batch_size=128, epochs=1)"
   ]
  },
  {
   "cell_type": "code",
   "execution_count": 173,
   "metadata": {},
   "outputs": [
    {
     "data": {
      "text/plain": [
       "388318"
      ]
     },
     "execution_count": 173,
     "metadata": {},
     "output_type": "execute_result"
    }
   ],
   "source": [
    "import random\n",
    "start_index = random.randint(0, len(text) - maxlen - 1)\n",
    "start_index"
   ]
  },
  {
   "cell_type": "code",
   "execution_count": 174,
   "metadata": {},
   "outputs": [
    {
     "data": {
      "text/plain": [
       "'the frantic\\nstrivings and singularities with which the freed'"
      ]
     },
     "execution_count": 174,
     "metadata": {},
     "output_type": "execute_result"
    }
   ],
   "source": [
    "generated_text = text[start_index: start_index + maxlen]\n",
    "generated_text"
   ]
  },
  {
   "cell_type": "code",
   "execution_count": 175,
   "metadata": {},
   "outputs": [
    {
     "data": {
      "text/plain": [
       "'the frantic\\nstrivings and singularities with which the freed'"
      ]
     },
     "execution_count": 175,
     "metadata": {},
     "output_type": "execute_result"
    }
   ],
   "source": [
    "generated_text"
   ]
  },
  {
   "cell_type": "code",
   "execution_count": 176,
   "metadata": {},
   "outputs": [],
   "source": [
    "\n",
    "#temperature 低：會出現重複率比較高但是部分結構比較真實的文章。#tempera \n",
    "#temperature 高：文章會比較有意義，但可能會發明一些新詞，詞的部分結構可能不完整，有的詞只有單詞的一半\n",
    "#temperature=0.5：文章生成得比較好，在結構和隨機性保持平衡的情況下，產生比較好的句子。\n",
    "\n",
    "\n",
    "def sample(preds, temperature=1.0):\n",
    "    preds = np.asarray(preds).astype('float64')\n",
    "    # 根據temperature 計算\n",
    "    preds = np.log(preds) / temperature\n",
    "    exp_preds = np.exp(preds)\n",
    "    preds = exp_preds / np.sum(exp_preds)\n",
    "\n",
    "    # 回傳多項式分布的概率\n",
    "    probas = np.random.multinomial(1, preds, 1)\n",
    "    # 回傳最大index\n",
    "    return np.argmax(probas)"
   ]
  },
  {
   "cell_type": "code",
   "execution_count": 177,
   "metadata": {},
   "outputs": [
    {
     "data": {
      "text/plain": [
       "46"
      ]
     },
     "execution_count": 177,
     "metadata": {},
     "output_type": "execute_result"
    }
   ],
   "source": [
    "next_index = sample(preds, 0.5)\n",
    "next_index"
   ]
  },
  {
   "cell_type": "code",
   "execution_count": 178,
   "metadata": {},
   "outputs": [
    {
     "data": {
      "text/plain": [
       "'t'"
      ]
     },
     "execution_count": 178,
     "metadata": {},
     "output_type": "execute_result"
    }
   ],
   "source": [
    "next_char = chars[next_index]\n",
    "next_char"
   ]
  },
  {
   "cell_type": "code",
   "execution_count": 179,
   "metadata": {},
   "outputs": [],
   "source": [
    "generated_text += next_char"
   ]
  },
  {
   "cell_type": "code",
   "execution_count": 180,
   "metadata": {},
   "outputs": [
    {
     "data": {
      "text/plain": [
       "'the frantic\\nstrivings and singularities with which the freedt'"
      ]
     },
     "execution_count": 180,
     "metadata": {},
     "output_type": "execute_result"
    }
   ],
   "source": [
    "generated_text"
   ]
  },
  {
   "cell_type": "code",
   "execution_count": 187,
   "metadata": {},
   "outputs": [],
   "source": [
    "#char_indices"
   ]
  },
  {
   "cell_type": "code",
   "execution_count": 186,
   "metadata": {},
   "outputs": [
    {
     "data": {
      "text/plain": [
       "57"
      ]
     },
     "execution_count": 186,
     "metadata": {},
     "output_type": "execute_result"
    }
   ],
   "source": [
    "len(chars)"
   ]
  },
  {
   "cell_type": "code",
   "execution_count": 188,
   "metadata": {},
   "outputs": [],
   "source": [
    "import random\n",
    "start_index = random.randint(0, len(text) - maxlen - 1)\n",
    "generated_text = text[start_index: start_index + maxlen]"
   ]
  },
  {
   "cell_type": "code",
   "execution_count": 190,
   "metadata": {},
   "outputs": [
    {
     "name": "stdout",
     "output_type": "stream",
     "text": [
      " of ting ant arte the peranne wore the coresith sendes ond in the ere han the serelle the sesterithe the mert on the the gore the mont on the sore and and the indes and the indein of bereth\n",
      "ond the hestore the the and the the comctore the the hore sore the soath and the hather the the couthind an the serenture somest the the pertion to sertine for the of the beringe the sheres the parely as of the"
     ]
    }
   ],
   "source": [
    "for i in range(400):\n",
    "    sampled = np.zeros((1, maxlen, len(chars)))\n",
    "    for t, char in enumerate(generated_text):\n",
    "        # 對字元做one-hot\n",
    "\n",
    "        sampled[0, t, char_indices[char]] = 1\n",
    "\n",
    "    # 計算預測的分佈值\n",
    "    preds = model.predict(sampled, verbose=0)[0]\n",
    "    # 輸出最大機率的字元 index\n",
    "    next_index = sample(preds, 0.5)\n",
    "    # 輸出字元\n",
    "    next_char = chars[next_index]\n",
    "    generated_text += next_char\n",
    "    generated_text = generated_text[1:]\n",
    "\n",
    "    sys.stdout.write(next_char)\n",
    "    sys.stdout.flush()"
   ]
  },
  {
   "cell_type": "markdown",
   "metadata": {},
   "source": [
    "## Yelp Review\n",
    "- https://github.com/Tony607/Yelp_review_generation/releases/download/V0.1/pre-trained.hdf5"
   ]
  },
  {
   "cell_type": "code",
   "execution_count": 191,
   "metadata": {
    "scrolled": true
   },
   "outputs": [
    {
     "name": "stdout",
     "output_type": "stream",
     "text": [
      "Requirement already satisfied: h5py in c:\\programdata\\anaconda3\\lib\\site-packages (2.7.1)\n",
      "Requirement already satisfied: numpy>=1.7 in c:\\programdata\\anaconda3\\lib\\site-packages (from h5py) (1.14.3)\n",
      "Requirement already satisfied: six in c:\\programdata\\anaconda3\\lib\\site-packages (from h5py) (1.11.0)\n"
     ]
    },
    {
     "name": "stderr",
     "output_type": "stream",
     "text": [
      "distributed 1.21.8 requires msgpack, which is not installed.\n"
     ]
    }
   ],
   "source": [
    "! pip install h5py"
   ]
  },
  {
   "cell_type": "code",
   "execution_count": 192,
   "metadata": {},
   "outputs": [],
   "source": [
    "import keras\n",
    "from keras import layers\n",
    "import sys\n",
    "import numpy as np\n",
    "\n",
    "text= 'this text file can be any text, as long as it contains text longer than maxlen defined below'\n",
    "\n",
    "chars=['\\n', ' ', '!', '\"', '#', '$', '%', '&', \"'\", '(', ')', '*', ',', '-', '.', '/', '0', '1', '2', '3', '4', '5', '6', '7', '8', '9', ':', ';', '<', '=', '>', '?', '@', 'A', 'B', 'C', 'D', 'E', 'F', 'G', 'H', 'I', 'J', 'K', 'L', 'M', 'N', 'O', 'P', 'Q', 'R', 'S', 'T', 'U', 'V', 'W', 'X', 'Y', 'Z', '[', '\\\\', ']', '^', '_', '`', 'a', 'b', 'c', 'd', 'e', 'f', 'g', 'h', 'i', 'j', 'k', 'l', 'm', 'n', 'o', 'p', 'q', 'r', 's', 't', 'u', 'v', 'w', 'x', 'y', 'z', '{', '|', '}', '~']\n",
    "\n",
    "# Dictionary mapping unique characters to their index in `chars`\n",
    "char_indices = dict((char, chars.index(char)) for char in chars)\n",
    "maxlen=60\n",
    "step=1\n",
    "\n",
    "model = keras.models.Sequential()\n",
    "model.add(layers.LSTM(1024, input_shape=(maxlen, len(chars)),return_sequences=True))\n",
    "model.add(layers.LSTM(1024, input_shape=(maxlen, len(chars))))\n",
    "model.add(layers.Dense(len(chars), activation='softmax'))\n",
    "model.load_weights(\"pre-trained.hdf5\")\n",
    "\n",
    "optimizer = keras.optimizers.Adam(lr=0.0002)\n",
    "model.compile(loss='categorical_crossentropy', optimizer=optimizer)"
   ]
  },
  {
   "cell_type": "code",
   "execution_count": 194,
   "metadata": {},
   "outputs": [],
   "source": [
    "def sample(preds, temperature=1.0):\n",
    "    preds = np.asarray(preds).astype('float64')\n",
    "    preds = np.log(preds) / temperature\n",
    "    exp_preds = np.exp(preds)\n",
    "    preds = exp_preds / np.sum(exp_preds)\n",
    "    probas = np.random.multinomial(1, preds, 1)\n",
    "    return np.argmax(probas)\n",
    "\n",
    "def random_reviews():\n",
    "    # sample a start index\n",
    "    start_index = np.random.randint(0, len(text) - maxlen - 1)\n",
    "    # the initial sampled text with maxlen long\n",
    "    generated_text = text[start_index: start_index + maxlen]\n",
    "    print('Coming up with several reviews for you...')\n",
    "\n",
    "    for temperature in [0.8]:\n",
    "        sys.stdout.write(generated_text)\n",
    "\n",
    "        # We generate 600 characters\n",
    "        for i in range(600):\n",
    "            sampled = np.zeros((1, maxlen, len(chars)))\n",
    "            # Turn each char to char index.\n",
    "            for t, char in enumerate(generated_text):\n",
    "                sampled[0, t, char_indices[char]] = 1.\n",
    "            # Predict next char probabilities\n",
    "            preds = model.predict(sampled, verbose=0)[0]\n",
    "            # Add some randomness by sampling given probabilities.\n",
    "            next_index = sample(preds, temperature)\n",
    "            # Turn char index to char.\n",
    "            next_char = chars[next_index]\n",
    "            # Append char to generated text string\n",
    "            generated_text += next_char\n",
    "            # Pop the first char in generated text string.\n",
    "            generated_text = generated_text[1:]\n",
    "            # Print the new generated char.\n",
    "            sys.stdout.write(next_char)\n",
    "            sys.stdout.flush()\n",
    "        print(generated_text)"
   ]
  },
  {
   "cell_type": "code",
   "execution_count": 195,
   "metadata": {},
   "outputs": [
    {
     "name": "stdout",
     "output_type": "stream",
     "text": [
      "Coming up with several reviews for you...\n",
      "text, as long as it contains text longer than maxlen defined me with this plac"
     ]
    },
    {
     "name": "stderr",
     "output_type": "stream",
     "text": [
      "C:\\ProgramData\\Anaconda3\\lib\\site-packages\\ipykernel_launcher.py:3: RuntimeWarning: divide by zero encountered in log\n",
      "  This is separate from the ipykernel package so we can avoid doing imports until\n"
     ]
    },
    {
     "name": "stdout",
     "output_type": "stream",
     "text": [
      "e. Everything on the menu is great. I had a breakfast burrito and my boyfriend was impressed with the peanut butter. I can't wait to come back and try more of their menu.<EOR>\"\n",
      "\"<SOR>Best place to go for dosaplace with the best customer service at this place. Def recommend it to everyone.<EOR>\"\n",
      "\"<SOR>Fantastic service! The food was excellent! The owners are super friendly and attentive too.<EOR>\"\n",
      "\"<SOR>My hubby and I frequent this place once a month. They have a special touch with 20 eggs and hash browns. It's a bonus.  We will definitely come back again<EOR>\"\n",
      "\"<SOR>I can't rs.  We will definitely come back again<EOR>\"\n",
      "\"<SOR>I can't r\n"
     ]
    }
   ],
   "source": [
    "random_reviews()"
   ]
  },
  {
   "cell_type": "code",
   "execution_count": null,
   "metadata": {},
   "outputs": [],
   "source": []
  }
 ],
 "metadata": {
  "kernelspec": {
   "display_name": "Python 3",
   "language": "python",
   "name": "python3"
  },
  "language_info": {
   "codemirror_mode": {
    "name": "ipython",
    "version": 3
   },
   "file_extension": ".py",
   "mimetype": "text/x-python",
   "name": "python",
   "nbconvert_exporter": "python",
   "pygments_lexer": "ipython3",
   "version": "3.6.5"
  }
 },
 "nbformat": 4,
 "nbformat_minor": 2
}
