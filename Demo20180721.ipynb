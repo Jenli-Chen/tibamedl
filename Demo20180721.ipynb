{
 "cells": [
  {
   "cell_type": "markdown",
   "metadata": {},
   "source": [
    "## 預測客戶是否流失"
   ]
  },
  {
   "cell_type": "markdown",
   "metadata": {},
   "source": [
    "### 讀取資料"
   ]
  },
  {
   "cell_type": "code",
   "execution_count": 65,
   "metadata": {},
   "outputs": [
    {
     "data": {
      "text/html": [
       "<div>\n",
       "<style scoped>\n",
       "    .dataframe tbody tr th:only-of-type {\n",
       "        vertical-align: middle;\n",
       "    }\n",
       "\n",
       "    .dataframe tbody tr th {\n",
       "        vertical-align: top;\n",
       "    }\n",
       "\n",
       "    .dataframe thead th {\n",
       "        text-align: right;\n",
       "    }\n",
       "</style>\n",
       "<table border=\"1\" class=\"dataframe\">\n",
       "  <thead>\n",
       "    <tr style=\"text-align: right;\">\n",
       "      <th></th>\n",
       "      <th>state</th>\n",
       "      <th>account_length</th>\n",
       "      <th>area_code</th>\n",
       "      <th>international_plan</th>\n",
       "      <th>voice_mail_plan</th>\n",
       "      <th>number_vmail_messages</th>\n",
       "      <th>total_day_minutes</th>\n",
       "      <th>total_day_calls</th>\n",
       "      <th>total_day_charge</th>\n",
       "      <th>total_eve_minutes</th>\n",
       "      <th>total_eve_calls</th>\n",
       "      <th>total_eve_charge</th>\n",
       "      <th>total_night_minutes</th>\n",
       "      <th>total_night_calls</th>\n",
       "      <th>total_night_charge</th>\n",
       "      <th>total_intl_minutes</th>\n",
       "      <th>total_intl_calls</th>\n",
       "      <th>total_intl_charge</th>\n",
       "      <th>number_customer_service_calls</th>\n",
       "      <th>churn</th>\n",
       "    </tr>\n",
       "  </thead>\n",
       "  <tbody>\n",
       "    <tr>\n",
       "      <th>1</th>\n",
       "      <td>KS</td>\n",
       "      <td>128</td>\n",
       "      <td>area_code_415</td>\n",
       "      <td>no</td>\n",
       "      <td>yes</td>\n",
       "      <td>25</td>\n",
       "      <td>265.1</td>\n",
       "      <td>110</td>\n",
       "      <td>45.07</td>\n",
       "      <td>197.4</td>\n",
       "      <td>99</td>\n",
       "      <td>16.78</td>\n",
       "      <td>244.7</td>\n",
       "      <td>91</td>\n",
       "      <td>11.01</td>\n",
       "      <td>10.0</td>\n",
       "      <td>3</td>\n",
       "      <td>2.70</td>\n",
       "      <td>1</td>\n",
       "      <td>no</td>\n",
       "    </tr>\n",
       "    <tr>\n",
       "      <th>2</th>\n",
       "      <td>OH</td>\n",
       "      <td>107</td>\n",
       "      <td>area_code_415</td>\n",
       "      <td>no</td>\n",
       "      <td>yes</td>\n",
       "      <td>26</td>\n",
       "      <td>161.6</td>\n",
       "      <td>123</td>\n",
       "      <td>27.47</td>\n",
       "      <td>195.5</td>\n",
       "      <td>103</td>\n",
       "      <td>16.62</td>\n",
       "      <td>254.4</td>\n",
       "      <td>103</td>\n",
       "      <td>11.45</td>\n",
       "      <td>13.7</td>\n",
       "      <td>3</td>\n",
       "      <td>3.70</td>\n",
       "      <td>1</td>\n",
       "      <td>no</td>\n",
       "    </tr>\n",
       "    <tr>\n",
       "      <th>3</th>\n",
       "      <td>NJ</td>\n",
       "      <td>137</td>\n",
       "      <td>area_code_415</td>\n",
       "      <td>no</td>\n",
       "      <td>no</td>\n",
       "      <td>0</td>\n",
       "      <td>243.4</td>\n",
       "      <td>114</td>\n",
       "      <td>41.38</td>\n",
       "      <td>121.2</td>\n",
       "      <td>110</td>\n",
       "      <td>10.30</td>\n",
       "      <td>162.6</td>\n",
       "      <td>104</td>\n",
       "      <td>7.32</td>\n",
       "      <td>12.2</td>\n",
       "      <td>5</td>\n",
       "      <td>3.29</td>\n",
       "      <td>0</td>\n",
       "      <td>no</td>\n",
       "    </tr>\n",
       "    <tr>\n",
       "      <th>4</th>\n",
       "      <td>OH</td>\n",
       "      <td>84</td>\n",
       "      <td>area_code_408</td>\n",
       "      <td>yes</td>\n",
       "      <td>no</td>\n",
       "      <td>0</td>\n",
       "      <td>299.4</td>\n",
       "      <td>71</td>\n",
       "      <td>50.90</td>\n",
       "      <td>61.9</td>\n",
       "      <td>88</td>\n",
       "      <td>5.26</td>\n",
       "      <td>196.9</td>\n",
       "      <td>89</td>\n",
       "      <td>8.86</td>\n",
       "      <td>6.6</td>\n",
       "      <td>7</td>\n",
       "      <td>1.78</td>\n",
       "      <td>2</td>\n",
       "      <td>no</td>\n",
       "    </tr>\n",
       "    <tr>\n",
       "      <th>5</th>\n",
       "      <td>OK</td>\n",
       "      <td>75</td>\n",
       "      <td>area_code_415</td>\n",
       "      <td>yes</td>\n",
       "      <td>no</td>\n",
       "      <td>0</td>\n",
       "      <td>166.7</td>\n",
       "      <td>113</td>\n",
       "      <td>28.34</td>\n",
       "      <td>148.3</td>\n",
       "      <td>122</td>\n",
       "      <td>12.61</td>\n",
       "      <td>186.9</td>\n",
       "      <td>121</td>\n",
       "      <td>8.41</td>\n",
       "      <td>10.1</td>\n",
       "      <td>3</td>\n",
       "      <td>2.73</td>\n",
       "      <td>3</td>\n",
       "      <td>no</td>\n",
       "    </tr>\n",
       "  </tbody>\n",
       "</table>\n",
       "</div>"
      ],
      "text/plain": [
       "  state  account_length      area_code international_plan voice_mail_plan  \\\n",
       "1    KS             128  area_code_415                 no             yes   \n",
       "2    OH             107  area_code_415                 no             yes   \n",
       "3    NJ             137  area_code_415                 no              no   \n",
       "4    OH              84  area_code_408                yes              no   \n",
       "5    OK              75  area_code_415                yes              no   \n",
       "\n",
       "   number_vmail_messages  total_day_minutes  total_day_calls  \\\n",
       "1                     25              265.1              110   \n",
       "2                     26              161.6              123   \n",
       "3                      0              243.4              114   \n",
       "4                      0              299.4               71   \n",
       "5                      0              166.7              113   \n",
       "\n",
       "   total_day_charge  total_eve_minutes  total_eve_calls  total_eve_charge  \\\n",
       "1             45.07              197.4               99             16.78   \n",
       "2             27.47              195.5              103             16.62   \n",
       "3             41.38              121.2              110             10.30   \n",
       "4             50.90               61.9               88              5.26   \n",
       "5             28.34              148.3              122             12.61   \n",
       "\n",
       "   total_night_minutes  total_night_calls  total_night_charge  \\\n",
       "1                244.7                 91               11.01   \n",
       "2                254.4                103               11.45   \n",
       "3                162.6                104                7.32   \n",
       "4                196.9                 89                8.86   \n",
       "5                186.9                121                8.41   \n",
       "\n",
       "   total_intl_minutes  total_intl_calls  total_intl_charge  \\\n",
       "1                10.0                 3               2.70   \n",
       "2                13.7                 3               3.70   \n",
       "3                12.2                 5               3.29   \n",
       "4                 6.6                 7               1.78   \n",
       "5                10.1                 3               2.73   \n",
       "\n",
       "   number_customer_service_calls churn  \n",
       "1                              1    no  \n",
       "2                              1    no  \n",
       "3                              0    no  \n",
       "4                              2    no  \n",
       "5                              3    no  "
      ]
     },
     "execution_count": 65,
     "metadata": {},
     "output_type": "execute_result"
    }
   ],
   "source": [
    "# Python for Data Analysis: Pandas\n",
    "import pandas\n",
    "df = pandas.read_csv('https://raw.githubusercontent.com/ywchiu/pydeeplearning/master/data/customer_churn.csv', index_col=0, header = 0)\n",
    "df.head()"
   ]
  },
  {
   "cell_type": "markdown",
   "metadata": {},
   "source": [
    "### 資料預處理"
   ]
  },
  {
   "cell_type": "code",
   "execution_count": 3,
   "metadata": {},
   "outputs": [],
   "source": [
    "df = df.iloc[:,3:]"
   ]
  },
  {
   "cell_type": "code",
   "execution_count": 5,
   "metadata": {},
   "outputs": [
    {
     "data": {
      "text/html": [
       "<div>\n",
       "<style scoped>\n",
       "    .dataframe tbody tr th:only-of-type {\n",
       "        vertical-align: middle;\n",
       "    }\n",
       "\n",
       "    .dataframe tbody tr th {\n",
       "        vertical-align: top;\n",
       "    }\n",
       "\n",
       "    .dataframe thead th {\n",
       "        text-align: right;\n",
       "    }\n",
       "</style>\n",
       "<table border=\"1\" class=\"dataframe\">\n",
       "  <thead>\n",
       "    <tr style=\"text-align: right;\">\n",
       "      <th></th>\n",
       "      <th>international_plan</th>\n",
       "      <th>voice_mail_plan</th>\n",
       "      <th>number_vmail_messages</th>\n",
       "      <th>total_day_minutes</th>\n",
       "      <th>total_day_calls</th>\n",
       "      <th>total_day_charge</th>\n",
       "      <th>total_eve_minutes</th>\n",
       "      <th>total_eve_calls</th>\n",
       "      <th>total_eve_charge</th>\n",
       "      <th>total_night_minutes</th>\n",
       "      <th>total_night_calls</th>\n",
       "      <th>total_night_charge</th>\n",
       "      <th>total_intl_minutes</th>\n",
       "      <th>total_intl_calls</th>\n",
       "      <th>total_intl_charge</th>\n",
       "      <th>number_customer_service_calls</th>\n",
       "      <th>churn</th>\n",
       "    </tr>\n",
       "  </thead>\n",
       "  <tbody>\n",
       "    <tr>\n",
       "      <th>1</th>\n",
       "      <td>no</td>\n",
       "      <td>yes</td>\n",
       "      <td>25</td>\n",
       "      <td>265.1</td>\n",
       "      <td>110</td>\n",
       "      <td>45.07</td>\n",
       "      <td>197.4</td>\n",
       "      <td>99</td>\n",
       "      <td>16.78</td>\n",
       "      <td>244.7</td>\n",
       "      <td>91</td>\n",
       "      <td>11.01</td>\n",
       "      <td>10.0</td>\n",
       "      <td>3</td>\n",
       "      <td>2.70</td>\n",
       "      <td>1</td>\n",
       "      <td>no</td>\n",
       "    </tr>\n",
       "    <tr>\n",
       "      <th>2</th>\n",
       "      <td>no</td>\n",
       "      <td>yes</td>\n",
       "      <td>26</td>\n",
       "      <td>161.6</td>\n",
       "      <td>123</td>\n",
       "      <td>27.47</td>\n",
       "      <td>195.5</td>\n",
       "      <td>103</td>\n",
       "      <td>16.62</td>\n",
       "      <td>254.4</td>\n",
       "      <td>103</td>\n",
       "      <td>11.45</td>\n",
       "      <td>13.7</td>\n",
       "      <td>3</td>\n",
       "      <td>3.70</td>\n",
       "      <td>1</td>\n",
       "      <td>no</td>\n",
       "    </tr>\n",
       "    <tr>\n",
       "      <th>3</th>\n",
       "      <td>no</td>\n",
       "      <td>no</td>\n",
       "      <td>0</td>\n",
       "      <td>243.4</td>\n",
       "      <td>114</td>\n",
       "      <td>41.38</td>\n",
       "      <td>121.2</td>\n",
       "      <td>110</td>\n",
       "      <td>10.30</td>\n",
       "      <td>162.6</td>\n",
       "      <td>104</td>\n",
       "      <td>7.32</td>\n",
       "      <td>12.2</td>\n",
       "      <td>5</td>\n",
       "      <td>3.29</td>\n",
       "      <td>0</td>\n",
       "      <td>no</td>\n",
       "    </tr>\n",
       "    <tr>\n",
       "      <th>4</th>\n",
       "      <td>yes</td>\n",
       "      <td>no</td>\n",
       "      <td>0</td>\n",
       "      <td>299.4</td>\n",
       "      <td>71</td>\n",
       "      <td>50.90</td>\n",
       "      <td>61.9</td>\n",
       "      <td>88</td>\n",
       "      <td>5.26</td>\n",
       "      <td>196.9</td>\n",
       "      <td>89</td>\n",
       "      <td>8.86</td>\n",
       "      <td>6.6</td>\n",
       "      <td>7</td>\n",
       "      <td>1.78</td>\n",
       "      <td>2</td>\n",
       "      <td>no</td>\n",
       "    </tr>\n",
       "    <tr>\n",
       "      <th>5</th>\n",
       "      <td>yes</td>\n",
       "      <td>no</td>\n",
       "      <td>0</td>\n",
       "      <td>166.7</td>\n",
       "      <td>113</td>\n",
       "      <td>28.34</td>\n",
       "      <td>148.3</td>\n",
       "      <td>122</td>\n",
       "      <td>12.61</td>\n",
       "      <td>186.9</td>\n",
       "      <td>121</td>\n",
       "      <td>8.41</td>\n",
       "      <td>10.1</td>\n",
       "      <td>3</td>\n",
       "      <td>2.73</td>\n",
       "      <td>3</td>\n",
       "      <td>no</td>\n",
       "    </tr>\n",
       "  </tbody>\n",
       "</table>\n",
       "</div>"
      ],
      "text/plain": [
       "  international_plan voice_mail_plan  number_vmail_messages  \\\n",
       "1                 no             yes                     25   \n",
       "2                 no             yes                     26   \n",
       "3                 no              no                      0   \n",
       "4                yes              no                      0   \n",
       "5                yes              no                      0   \n",
       "\n",
       "   total_day_minutes  total_day_calls  total_day_charge  total_eve_minutes  \\\n",
       "1              265.1              110             45.07              197.4   \n",
       "2              161.6              123             27.47              195.5   \n",
       "3              243.4              114             41.38              121.2   \n",
       "4              299.4               71             50.90               61.9   \n",
       "5              166.7              113             28.34              148.3   \n",
       "\n",
       "   total_eve_calls  total_eve_charge  total_night_minutes  total_night_calls  \\\n",
       "1               99             16.78                244.7                 91   \n",
       "2              103             16.62                254.4                103   \n",
       "3              110             10.30                162.6                104   \n",
       "4               88              5.26                196.9                 89   \n",
       "5              122             12.61                186.9                121   \n",
       "\n",
       "   total_night_charge  total_intl_minutes  total_intl_calls  \\\n",
       "1               11.01                10.0                 3   \n",
       "2               11.45                13.7                 3   \n",
       "3                7.32                12.2                 5   \n",
       "4                8.86                 6.6                 7   \n",
       "5                8.41                10.1                 3   \n",
       "\n",
       "   total_intl_charge  number_customer_service_calls churn  \n",
       "1               2.70                              1    no  \n",
       "2               3.70                              1    no  \n",
       "3               3.29                              0    no  \n",
       "4               1.78                              2    no  \n",
       "5               2.73                              3    no  "
      ]
     },
     "execution_count": 5,
     "metadata": {},
     "output_type": "execute_result"
    }
   ],
   "source": [
    "df.head()"
   ]
  },
  {
   "cell_type": "code",
   "execution_count": 9,
   "metadata": {},
   "outputs": [
    {
     "data": {
      "text/plain": [
       "0"
      ]
     },
     "execution_count": 9,
     "metadata": {},
     "output_type": "execute_result"
    }
   ],
   "source": [
    "def convertYesNo(ele):\n",
    "    if ele == 'yes':\n",
    "        return 1\n",
    "    else:\n",
    "        return 0\n",
    "    \n",
    "convertYesNo('no')"
   ]
  },
  {
   "cell_type": "code",
   "execution_count": 11,
   "metadata": {},
   "outputs": [],
   "source": [
    "df['international_plan'] = df['international_plan'].map(convertYesNo)"
   ]
  },
  {
   "cell_type": "code",
   "execution_count": null,
   "metadata": {},
   "outputs": [],
   "source": [
    "#df['international_plan'] = df['international_plan'].map(lambda ele: 1 if ele == 'yes' else 0)"
   ]
  },
  {
   "cell_type": "code",
   "execution_count": 12,
   "metadata": {},
   "outputs": [],
   "source": [
    "df['voice_mail_plan'] = df['voice_mail_plan'].map(convertYesNo)"
   ]
  },
  {
   "cell_type": "code",
   "execution_count": 13,
   "metadata": {},
   "outputs": [],
   "source": [
    "df['churn'] = df['churn'].map(convertYesNo)"
   ]
  },
  {
   "cell_type": "code",
   "execution_count": 14,
   "metadata": {},
   "outputs": [
    {
     "data": {
      "text/html": [
       "<div>\n",
       "<style scoped>\n",
       "    .dataframe tbody tr th:only-of-type {\n",
       "        vertical-align: middle;\n",
       "    }\n",
       "\n",
       "    .dataframe tbody tr th {\n",
       "        vertical-align: top;\n",
       "    }\n",
       "\n",
       "    .dataframe thead th {\n",
       "        text-align: right;\n",
       "    }\n",
       "</style>\n",
       "<table border=\"1\" class=\"dataframe\">\n",
       "  <thead>\n",
       "    <tr style=\"text-align: right;\">\n",
       "      <th></th>\n",
       "      <th>international_plan</th>\n",
       "      <th>voice_mail_plan</th>\n",
       "      <th>number_vmail_messages</th>\n",
       "      <th>total_day_minutes</th>\n",
       "      <th>total_day_calls</th>\n",
       "      <th>total_day_charge</th>\n",
       "      <th>total_eve_minutes</th>\n",
       "      <th>total_eve_calls</th>\n",
       "      <th>total_eve_charge</th>\n",
       "      <th>total_night_minutes</th>\n",
       "      <th>total_night_calls</th>\n",
       "      <th>total_night_charge</th>\n",
       "      <th>total_intl_minutes</th>\n",
       "      <th>total_intl_calls</th>\n",
       "      <th>total_intl_charge</th>\n",
       "      <th>number_customer_service_calls</th>\n",
       "      <th>churn</th>\n",
       "    </tr>\n",
       "  </thead>\n",
       "  <tbody>\n",
       "    <tr>\n",
       "      <th>1</th>\n",
       "      <td>0</td>\n",
       "      <td>1</td>\n",
       "      <td>25</td>\n",
       "      <td>265.1</td>\n",
       "      <td>110</td>\n",
       "      <td>45.07</td>\n",
       "      <td>197.4</td>\n",
       "      <td>99</td>\n",
       "      <td>16.78</td>\n",
       "      <td>244.7</td>\n",
       "      <td>91</td>\n",
       "      <td>11.01</td>\n",
       "      <td>10.0</td>\n",
       "      <td>3</td>\n",
       "      <td>2.70</td>\n",
       "      <td>1</td>\n",
       "      <td>0</td>\n",
       "    </tr>\n",
       "    <tr>\n",
       "      <th>2</th>\n",
       "      <td>0</td>\n",
       "      <td>1</td>\n",
       "      <td>26</td>\n",
       "      <td>161.6</td>\n",
       "      <td>123</td>\n",
       "      <td>27.47</td>\n",
       "      <td>195.5</td>\n",
       "      <td>103</td>\n",
       "      <td>16.62</td>\n",
       "      <td>254.4</td>\n",
       "      <td>103</td>\n",
       "      <td>11.45</td>\n",
       "      <td>13.7</td>\n",
       "      <td>3</td>\n",
       "      <td>3.70</td>\n",
       "      <td>1</td>\n",
       "      <td>0</td>\n",
       "    </tr>\n",
       "    <tr>\n",
       "      <th>3</th>\n",
       "      <td>0</td>\n",
       "      <td>0</td>\n",
       "      <td>0</td>\n",
       "      <td>243.4</td>\n",
       "      <td>114</td>\n",
       "      <td>41.38</td>\n",
       "      <td>121.2</td>\n",
       "      <td>110</td>\n",
       "      <td>10.30</td>\n",
       "      <td>162.6</td>\n",
       "      <td>104</td>\n",
       "      <td>7.32</td>\n",
       "      <td>12.2</td>\n",
       "      <td>5</td>\n",
       "      <td>3.29</td>\n",
       "      <td>0</td>\n",
       "      <td>0</td>\n",
       "    </tr>\n",
       "    <tr>\n",
       "      <th>4</th>\n",
       "      <td>1</td>\n",
       "      <td>0</td>\n",
       "      <td>0</td>\n",
       "      <td>299.4</td>\n",
       "      <td>71</td>\n",
       "      <td>50.90</td>\n",
       "      <td>61.9</td>\n",
       "      <td>88</td>\n",
       "      <td>5.26</td>\n",
       "      <td>196.9</td>\n",
       "      <td>89</td>\n",
       "      <td>8.86</td>\n",
       "      <td>6.6</td>\n",
       "      <td>7</td>\n",
       "      <td>1.78</td>\n",
       "      <td>2</td>\n",
       "      <td>0</td>\n",
       "    </tr>\n",
       "    <tr>\n",
       "      <th>5</th>\n",
       "      <td>1</td>\n",
       "      <td>0</td>\n",
       "      <td>0</td>\n",
       "      <td>166.7</td>\n",
       "      <td>113</td>\n",
       "      <td>28.34</td>\n",
       "      <td>148.3</td>\n",
       "      <td>122</td>\n",
       "      <td>12.61</td>\n",
       "      <td>186.9</td>\n",
       "      <td>121</td>\n",
       "      <td>8.41</td>\n",
       "      <td>10.1</td>\n",
       "      <td>3</td>\n",
       "      <td>2.73</td>\n",
       "      <td>3</td>\n",
       "      <td>0</td>\n",
       "    </tr>\n",
       "  </tbody>\n",
       "</table>\n",
       "</div>"
      ],
      "text/plain": [
       "   international_plan  voice_mail_plan  number_vmail_messages  \\\n",
       "1                   0                1                     25   \n",
       "2                   0                1                     26   \n",
       "3                   0                0                      0   \n",
       "4                   1                0                      0   \n",
       "5                   1                0                      0   \n",
       "\n",
       "   total_day_minutes  total_day_calls  total_day_charge  total_eve_minutes  \\\n",
       "1              265.1              110             45.07              197.4   \n",
       "2              161.6              123             27.47              195.5   \n",
       "3              243.4              114             41.38              121.2   \n",
       "4              299.4               71             50.90               61.9   \n",
       "5              166.7              113             28.34              148.3   \n",
       "\n",
       "   total_eve_calls  total_eve_charge  total_night_minutes  total_night_calls  \\\n",
       "1               99             16.78                244.7                 91   \n",
       "2              103             16.62                254.4                103   \n",
       "3              110             10.30                162.6                104   \n",
       "4               88              5.26                196.9                 89   \n",
       "5              122             12.61                186.9                121   \n",
       "\n",
       "   total_night_charge  total_intl_minutes  total_intl_calls  \\\n",
       "1               11.01                10.0                 3   \n",
       "2               11.45                13.7                 3   \n",
       "3                7.32                12.2                 5   \n",
       "4                8.86                 6.6                 7   \n",
       "5                8.41                10.1                 3   \n",
       "\n",
       "   total_intl_charge  number_customer_service_calls  churn  \n",
       "1               2.70                              1      0  \n",
       "2               3.70                              1      0  \n",
       "3               3.29                              0      0  \n",
       "4               1.78                              2      0  \n",
       "5               2.73                              3      0  "
      ]
     },
     "execution_count": 14,
     "metadata": {},
     "output_type": "execute_result"
    }
   ],
   "source": [
    "df.head()"
   ]
  },
  {
   "cell_type": "code",
   "execution_count": 15,
   "metadata": {},
   "outputs": [],
   "source": [
    "y = df.iloc[:,-1]\n",
    "x = df.iloc[:,:-1]"
   ]
  },
  {
   "cell_type": "code",
   "execution_count": 18,
   "metadata": {},
   "outputs": [],
   "source": [
    "#x"
   ]
  },
  {
   "cell_type": "markdown",
   "metadata": {},
   "source": [
    "### 建立訓練與測試資料"
   ]
  },
  {
   "cell_type": "code",
   "execution_count": 19,
   "metadata": {},
   "outputs": [],
   "source": [
    "from sklearn.model_selection import train_test_split\n",
    "x_train, x_test, y_train, y_test = train_test_split(x, y, test_size = 0.33, random_state = 123)"
   ]
  },
  {
   "cell_type": "code",
   "execution_count": 20,
   "metadata": {},
   "outputs": [
    {
     "data": {
      "text/plain": [
       "(3333, 16)"
      ]
     },
     "execution_count": 20,
     "metadata": {},
     "output_type": "execute_result"
    }
   ],
   "source": [
    "x.shape"
   ]
  },
  {
   "cell_type": "code",
   "execution_count": 21,
   "metadata": {},
   "outputs": [
    {
     "data": {
      "text/plain": [
       "(3333,)"
      ]
     },
     "execution_count": 21,
     "metadata": {},
     "output_type": "execute_result"
    }
   ],
   "source": [
    "y.shape"
   ]
  },
  {
   "cell_type": "code",
   "execution_count": 22,
   "metadata": {},
   "outputs": [
    {
     "data": {
      "text/plain": [
       "(2233, 16)"
      ]
     },
     "execution_count": 22,
     "metadata": {},
     "output_type": "execute_result"
    }
   ],
   "source": [
    "x_train.shape"
   ]
  },
  {
   "cell_type": "code",
   "execution_count": 23,
   "metadata": {},
   "outputs": [
    {
     "data": {
      "text/plain": [
       "(2233,)"
      ]
     },
     "execution_count": 23,
     "metadata": {},
     "output_type": "execute_result"
    }
   ],
   "source": [
    "y_train.shape"
   ]
  },
  {
   "cell_type": "code",
   "execution_count": 24,
   "metadata": {},
   "outputs": [
    {
     "data": {
      "text/plain": [
       "(1100, 16)"
      ]
     },
     "execution_count": 24,
     "metadata": {},
     "output_type": "execute_result"
    }
   ],
   "source": [
    "x_test.shape"
   ]
  },
  {
   "cell_type": "code",
   "execution_count": 26,
   "metadata": {},
   "outputs": [
    {
     "data": {
      "text/plain": [
       "(1100,)"
      ]
     },
     "execution_count": 26,
     "metadata": {},
     "output_type": "execute_result"
    }
   ],
   "source": [
    "y_test.shape"
   ]
  },
  {
   "cell_type": "markdown",
   "metadata": {},
   "source": [
    "### 數據標準化"
   ]
  },
  {
   "cell_type": "code",
   "execution_count": 27,
   "metadata": {},
   "outputs": [],
   "source": [
    "from sklearn.preprocessing import StandardScaler\n",
    "sc = StandardScaler()\n",
    "x_train = sc.fit_transform(x_train)\n",
    "x_test = sc.transform(x_test)"
   ]
  },
  {
   "cell_type": "code",
   "execution_count": 63,
   "metadata": {},
   "outputs": [],
   "source": [
    "?StandardScaler\n",
    "#x_train\n",
    "#x_test"
   ]
  },
  {
   "cell_type": "markdown",
   "metadata": {},
   "source": [
    "### 使用Keras 建立 ANN"
   ]
  },
  {
   "cell_type": "code",
   "execution_count": 33,
   "metadata": {},
   "outputs": [],
   "source": [
    "import keras\n",
    "from keras.models import Sequential\n",
    "from keras.layers import Dense, Dropout\n",
    "from keras.optimizers import SGD"
   ]
  },
  {
   "cell_type": "code",
   "execution_count": 34,
   "metadata": {},
   "outputs": [],
   "source": [
    "classifier = Sequential()\n",
    "# Dense = X * W + b\n",
    "classifier.add(Dense(units = 8, kernel_initializer = 'uniform', activation = 'relu', input_dim = 16))\n",
    "classifier.add(Dropout(rate=0.1))\n",
    "classifier.add(Dense(units = 8, kernel_initializer = 'uniform', activation = 'relu'))\n",
    "classifier.add(Dropout(rate=0.1))\n",
    "classifier.add(Dense(units = 1, kernel_initializer = 'uniform', activation = 'sigmoid'))\n",
    "classifier.compile(loss='binary_crossentropy',\n",
    "              optimizer='adam',\n",
    "              metrics=['accuracy'])"
   ]
  },
  {
   "cell_type": "code",
   "execution_count": 36,
   "metadata": {},
   "outputs": [],
   "source": [
    "history = classifier.fit(x_train, y_train,\n",
    "                    batch_size=10,\n",
    "                    epochs=100,\n",
    "                    verbose =0,\n",
    "                    validation_data=(x_test, y_test))"
   ]
  },
  {
   "cell_type": "markdown",
   "metadata": {},
   "source": [
    "### 評估模型"
   ]
  },
  {
   "cell_type": "code",
   "execution_count": 52,
   "metadata": {},
   "outputs": [
    {
     "data": {
      "text/plain": [
       "0.8827272727272727"
      ]
     },
     "execution_count": 52,
     "metadata": {},
     "output_type": "execute_result"
    }
   ],
   "source": [
    "from sklearn.metrics import accuracy_score\n",
    "y_pred    = classifier.predict(x_test)\n",
    "predicted = classifier.predict(x_test) > 0.5\n",
    "\n",
    "accuracy_score(y_test, predicted)"
   ]
  },
  {
   "cell_type": "code",
   "execution_count": 53,
   "metadata": {},
   "outputs": [
    {
     "data": {
      "text/plain": [
       "array([[938,  12],\n",
       "       [117,  33]], dtype=int64)"
      ]
     },
     "execution_count": 53,
     "metadata": {},
     "output_type": "execute_result"
    }
   ],
   "source": [
    "from sklearn.metrics import confusion_matrix\n",
    "confusion_matrix(y_test, predicted)"
   ]
  },
  {
   "cell_type": "markdown",
   "metadata": {},
   "source": [
    "### 繪製ROC Curve"
   ]
  },
  {
   "cell_type": "code",
   "execution_count": 54,
   "metadata": {},
   "outputs": [],
   "source": [
    "from sklearn.metrics import roc_curve\n",
    "fpr_ary, tpr_ary, thresholds = roc_curve(y_test, y_pred)"
   ]
  },
  {
   "cell_type": "code",
   "execution_count": 55,
   "metadata": {},
   "outputs": [
    {
     "name": "stdout",
     "output_type": "stream",
     "text": [
      "Populating the interactive namespace from numpy and matplotlib\n"
     ]
    },
    {
     "data": {
      "image/png": "[encoded data removed]",
      "text/plain": [
       "<Figure size 432x288 with 1 Axes>"
      ]
     },
     "metadata": {},
     "output_type": "display_data"
    }
   ],
   "source": [
    "%pylab inline\n",
    "import matplotlib.pyplot as plt\n",
    "plt.plot(fpr_ary, tpr_ary, label='ROC curve')\n",
    "plt.plot([0, 1], [0, 1], 'k--')\n",
    "plt.xlim([0.0, 1.0])\n",
    "plt.ylim([0.0, 1.0])\n",
    "plt.xlabel('False Positive Rate')\n",
    "plt.ylabel('True Positive Rate')\n",
    "plt.title('Receiver operating characteristic example')\n",
    "plt.legend(loc=\"lower right\")\n",
    "plt.show()"
   ]
  },
  {
   "cell_type": "markdown",
   "metadata": {},
   "source": [
    "### 建立不同學習模型"
   ]
  },
  {
   "cell_type": "code",
   "execution_count": 56,
   "metadata": {},
   "outputs": [
    {
     "data": {
      "text/plain": [
       "RandomForestClassifier(bootstrap=True, class_weight=None, criterion='gini',\n",
       "            max_depth=None, max_features='auto', max_leaf_nodes=None,\n",
       "            min_impurity_decrease=0.0, min_impurity_split=None,\n",
       "            min_samples_leaf=1, min_samples_split=2,\n",
       "            min_weight_fraction_leaf=0.0, n_estimators=10, n_jobs=1,\n",
       "            oob_score=False, random_state=None, verbose=0,\n",
       "            warm_start=False)"
      ]
     },
     "execution_count": 56,
     "metadata": {},
     "output_type": "execute_result"
    }
   ],
   "source": [
    "from sklearn.tree import DecisionTreeClassifier\n",
    "from sklearn.svm import SVC\n",
    "from sklearn.linear_model import LogisticRegression\n",
    "from sklearn.ensemble import RandomForestClassifier\n",
    "\n",
    "clf1 = DecisionTreeClassifier()\n",
    "clf1.fit(x_train, y_train)\n",
    "\n",
    "clf2 = SVC(probability = True)\n",
    "clf2.fit(x_train, y_train)\n",
    "\n",
    "clf3 = LogisticRegression()\n",
    "clf3.fit(x_train, y_train)\n",
    "\n",
    "clf4 = RandomForestClassifier()\n",
    "clf4.fit(x_train, y_train)"
   ]
  },
  {
   "cell_type": "markdown",
   "metadata": {},
   "source": [
    "### 使用ROC Curve 比較模型"
   ]
  },
  {
   "cell_type": "code",
   "execution_count": 62,
   "metadata": {},
   "outputs": [
    {
     "data": {
      "image/png": "[encoded data removed]",
      "text/plain": [
       "<Figure size 1440x720 with 1 Axes>"
      ]
     },
     "metadata": {},
     "output_type": "display_data"
    }
   ],
   "source": [
    "from sklearn.metrics import auc\n",
    "from sklearn.metrics import roc_curve\n",
    "import matplotlib.pyplot as plt\n",
    "\n",
    "plt.figure(figsize= [20,10])\n",
    "for clf, title in zip([classifier,clf1,clf2,clf3, clf4], ['ANN','Decision Tree', 'SVM', 'LogisticRegression', 'RandomForest']):\n",
    "    if title != 'ANN':\n",
    "        probas_ = clf.fit(x_train, y_train).predict_proba(x_test)\n",
    "        fpr, tpr, thresholds = roc_curve(y_test, probas_[:, 1])\n",
    "    else:\n",
    "        y_pred = clf.predict(x_test)\n",
    "        fpr, tpr, thresholds = roc_curve(y_test, y_pred)\n",
    "    plt.plot(fpr, tpr, label='%s - AUC:%.2f'%(title, auc(fpr, tpr)) )\n",
    "    \n",
    "plt.plot([0, 1], [0, 1], 'k--')\n",
    "plt.xlim([0.0, 1.0])\n",
    "plt.ylim([0.0, 1.0])\n",
    "plt.xlabel('False Positive Rate', fontsize = 20)\n",
    "plt.ylabel('True Positive Rate', fontsize = 20)\n",
    "plt.title('Receiver operating characteristic example', fontsize = 20)\n",
    "plt.legend(loc=\"lower right\", fontsize = 20)\n",
    "plt.show()"
   ]
  },
  {
   "cell_type": "markdown",
   "metadata": {},
   "source": [
    "### ZIP"
   ]
  },
  {
   "cell_type": "code",
   "execution_count": 60,
   "metadata": {},
   "outputs": [
    {
     "name": "stdout",
     "output_type": "stream",
     "text": [
      "a 1\n",
      "b 2\n",
      "c 3\n"
     ]
    }
   ],
   "source": [
    "a = ['a', 'b', 'c']\n",
    "b = [1  ,  2 ,   3]\n",
    "\n",
    "for i in range(0, len(a)):\n",
    "    print(a[i], b[i])"
   ]
  },
  {
   "cell_type": "code",
   "execution_count": 61,
   "metadata": {},
   "outputs": [
    {
     "name": "stdout",
     "output_type": "stream",
     "text": [
      "a 1\n",
      "b 2\n",
      "c 3\n"
     ]
    }
   ],
   "source": [
    "for i, j in zip(a,b):\n",
    "    print(i,j)"
   ]
  },
  {
   "cell_type": "markdown",
   "metadata": {},
   "source": [
    "### 取得模型權重"
   ]
  },
  {
   "cell_type": "code",
   "execution_count": 69,
   "metadata": {},
   "outputs": [
    {
     "data": {
      "text/plain": [
       "6"
      ]
     },
     "execution_count": 69,
     "metadata": {},
     "output_type": "execute_result"
    }
   ],
   "source": [
    "len(classifier.get_weights())"
   ]
  },
  {
   "cell_type": "code",
   "execution_count": 70,
   "metadata": {},
   "outputs": [],
   "source": [
    "W = classifier.get_weights()"
   ]
  },
  {
   "cell_type": "code",
   "execution_count": 73,
   "metadata": {},
   "outputs": [
    {
     "data": {
      "text/plain": [
       "(16, 8)"
      ]
     },
     "execution_count": 73,
     "metadata": {},
     "output_type": "execute_result"
    }
   ],
   "source": [
    "W[0].shape"
   ]
  },
  {
   "cell_type": "code",
   "execution_count": 75,
   "metadata": {},
   "outputs": [
    {
     "data": {
      "text/plain": [
       "(8,)"
      ]
     },
     "execution_count": 75,
     "metadata": {},
     "output_type": "execute_result"
    }
   ],
   "source": [
    "W[1].shape"
   ]
  },
  {
   "cell_type": "code",
   "execution_count": 77,
   "metadata": {},
   "outputs": [
    {
     "data": {
      "text/plain": [
       "(8, 8)"
      ]
     },
     "execution_count": 77,
     "metadata": {},
     "output_type": "execute_result"
    }
   ],
   "source": [
    "W[2].shape"
   ]
  },
  {
   "cell_type": "code",
   "execution_count": 79,
   "metadata": {},
   "outputs": [
    {
     "data": {
      "text/plain": [
       "(8,)"
      ]
     },
     "execution_count": 79,
     "metadata": {},
     "output_type": "execute_result"
    }
   ],
   "source": [
    "W[3].shape"
   ]
  },
  {
   "cell_type": "code",
   "execution_count": 82,
   "metadata": {},
   "outputs": [
    {
     "data": {
      "text/plain": [
       "(8, 1)"
      ]
     },
     "execution_count": 82,
     "metadata": {},
     "output_type": "execute_result"
    }
   ],
   "source": [
    "W[4].shape"
   ]
  },
  {
   "cell_type": "code",
   "execution_count": 84,
   "metadata": {},
   "outputs": [
    {
     "data": {
      "text/plain": [
       "(1,)"
      ]
     },
     "execution_count": 84,
     "metadata": {},
     "output_type": "execute_result"
    }
   ],
   "source": [
    "W[5].shape"
   ]
  },
  {
   "cell_type": "markdown",
   "metadata": {},
   "source": [
    "### 模型保存"
   ]
  },
  {
   "cell_type": "markdown",
   "metadata": {},
   "source": [
    "#### Scikit Learn Model Persistence\n",
    "- http://scikit-learn.org/stable/modules/model_persistence.html"
   ]
  },
  {
   "cell_type": "code",
   "execution_count": 91,
   "metadata": {},
   "outputs": [
    {
     "data": {
      "text/plain": [
       "['decisionTree.pkl']"
      ]
     },
     "execution_count": 91,
     "metadata": {},
     "output_type": "execute_result"
    }
   ],
   "source": [
    "## sklearn\n",
    "from sklearn.externals import joblib\n",
    "joblib.dump(clf1, 'decisionTree.pkl') "
   ]
  },
  {
   "cell_type": "code",
   "execution_count": 92,
   "metadata": {},
   "outputs": [],
   "source": [
    "clf_test = joblib.load('decisionTree.pkl') "
   ]
  },
  {
   "cell_type": "code",
   "execution_count": 93,
   "metadata": {},
   "outputs": [
    {
     "data": {
      "text/plain": [
       "array([1, 0, 0, ..., 0, 0, 0], dtype=int64)"
      ]
     },
     "execution_count": 93,
     "metadata": {},
     "output_type": "execute_result"
    }
   ],
   "source": [
    "clf_test.predict(x_test)"
   ]
  },
  {
   "cell_type": "markdown",
   "metadata": {},
   "source": [
    "#### Keras Persist Model\n",
    "- https://keras.io/getting-started/faq/"
   ]
  },
  {
   "cell_type": "code",
   "execution_count": 94,
   "metadata": {},
   "outputs": [],
   "source": [
    "## keras\n",
    "classifier.save('ann.pkl')"
   ]
  },
  {
   "cell_type": "code",
   "execution_count": 95,
   "metadata": {},
   "outputs": [],
   "source": [
    "classifier_test = keras.models.load_model('ann.pkl')"
   ]
  },
  {
   "cell_type": "code",
   "execution_count": 90,
   "metadata": {},
   "outputs": [
    {
     "data": {
      "text/plain": [
       "array([[0.5704438 ],\n",
       "       [0.15745814],\n",
       "       [0.02516353],\n",
       "       ...,\n",
       "       [0.04971304],\n",
       "       [0.01059475],\n",
       "       [0.09091126]], dtype=float32)"
      ]
     },
     "execution_count": 90,
     "metadata": {},
     "output_type": "execute_result"
    }
   ],
   "source": [
    "classifier_test.predict(x_test)"
   ]
  },
  {
   "cell_type": "markdown",
   "metadata": {},
   "source": [
    "## 使用ANN 辨識手寫數字"
   ]
  },
  {
   "cell_type": "code",
   "execution_count": 96,
   "metadata": {},
   "outputs": [],
   "source": [
    "from keras.datasets import mnist\n",
    "from keras.models import Sequential\n",
    "from keras.optimizers import SGD\n",
    "from keras.layers import Activation, Dense"
   ]
  },
  {
   "cell_type": "code",
   "execution_count": 97,
   "metadata": {},
   "outputs": [],
   "source": [
    "(x_train, y_train), (x_test, y_test) = mnist.load_data()"
   ]
  },
  {
   "cell_type": "code",
   "execution_count": 98,
   "metadata": {},
   "outputs": [
    {
     "data": {
      "text/plain": [
       "(60000, 28, 28)"
      ]
     },
     "execution_count": 98,
     "metadata": {},
     "output_type": "execute_result"
    }
   ],
   "source": [
    "x_train.shape"
   ]
  },
  {
   "cell_type": "code",
   "execution_count": 99,
   "metadata": {},
   "outputs": [
    {
     "data": {
      "text/plain": [
       "(10000, 28, 28)"
      ]
     },
     "execution_count": 99,
     "metadata": {},
     "output_type": "execute_result"
    }
   ],
   "source": [
    "x_test.shape"
   ]
  },
  {
   "cell_type": "code",
   "execution_count": 100,
   "metadata": {},
   "outputs": [],
   "source": [
    "x_train = x_train.reshape(60000, 784)\n",
    "x_test  = x_test.reshape(10000, 784)\n",
    "x_train = x_train.astype('float32')\n",
    "x_test  = x_test.astype('float32')\n",
    "x_train /= 255\n",
    "x_test  /= 255"
   ]
  },
  {
   "cell_type": "code",
   "execution_count": 102,
   "metadata": {},
   "outputs": [],
   "source": [
    "\n",
    "n_classes   = 10 \n",
    "y_train = keras.utils.to_categorical(y_train, n_classes)\n",
    "y_test  = keras.utils.to_categorical(y_test, n_classes)"
   ]
  },
  {
   "cell_type": "code",
   "execution_count": 104,
   "metadata": {},
   "outputs": [],
   "source": [
    "\n",
    "n_hidden_1  = 256 \n",
    "n_hidden_2 = 256 \n",
    "n_input    = 784 \n",
    "n_classes  = 10 \n",
    "\n",
    "training_epochs = 15\n",
    "batch_size = 100"
   ]
  },
  {
   "cell_type": "code",
   "execution_count": 105,
   "metadata": {},
   "outputs": [],
   "source": [
    "model = keras.Sequential()\n",
    "model.add(Dense(n_hidden_1, activation='relu', input_shape=(n_input,)))\n",
    "model.add(Dense(n_hidden_2, activation='relu'))\n",
    "model.add(Dense(n_classes, activation='softmax'))\n",
    "model.compile(loss='categorical_crossentropy',\n",
    "              optimizer='adam',\n",
    "              metrics=['accuracy'])"
   ]
  },
  {
   "cell_type": "code",
   "execution_count": 106,
   "metadata": {},
   "outputs": [
    {
     "name": "stdout",
     "output_type": "stream",
     "text": [
      "Train on 60000 samples, validate on 10000 samples\n",
      "Epoch 1/15\n",
      "60000/60000 [==============================] - 3s 46us/step - loss: 0.2415 - acc: 0.9301 - val_loss: 0.1111 - val_acc: 0.9654\n",
      "Epoch 2/15\n",
      "60000/60000 [==============================] - 2s 41us/step - loss: 0.0912 - acc: 0.9718 - val_loss: 0.1063 - val_acc: 0.9679\n",
      "Epoch 3/15\n",
      "60000/60000 [==============================] - 3s 42us/step - loss: 0.0614 - acc: 0.9805 - val_loss: 0.0712 - val_acc: 0.9782\n",
      "Epoch 4/15\n",
      "60000/60000 [==============================] - 2s 41us/step - loss: 0.0439 - acc: 0.9863 - val_loss: 0.0795 - val_acc: 0.9768\n",
      "Epoch 5/15\n",
      "60000/60000 [==============================] - 3s 42us/step - loss: 0.0320 - acc: 0.9897 - val_loss: 0.0772 - val_acc: 0.9773\n",
      "Epoch 6/15\n",
      "60000/60000 [==============================] - 2s 41us/step - loss: 0.0243 - acc: 0.9926 - val_loss: 0.0791 - val_acc: 0.9776\n",
      "Epoch 7/15\n",
      "60000/60000 [==============================] - 3s 42us/step - loss: 0.0214 - acc: 0.9928 - val_loss: 0.0645 - val_acc: 0.9819\n",
      "Epoch 8/15\n",
      "60000/60000 [==============================] - 3s 42us/step - loss: 0.0174 - acc: 0.9942 - val_loss: 0.0792 - val_acc: 0.9793\n",
      "Epoch 9/15\n",
      "60000/60000 [==============================] - 2s 41us/step - loss: 0.0158 - acc: 0.9944 - val_loss: 0.0952 - val_acc: 0.9763\n",
      "Epoch 10/15\n",
      "60000/60000 [==============================] - 2s 41us/step - loss: 0.0159 - acc: 0.9946 - val_loss: 0.0797 - val_acc: 0.9803\n",
      "Epoch 11/15\n",
      "60000/60000 [==============================] - 3s 42us/step - loss: 0.0109 - acc: 0.9964 - val_loss: 0.0865 - val_acc: 0.9794\n",
      "Epoch 12/15\n",
      "60000/60000 [==============================] - 3s 42us/step - loss: 0.0119 - acc: 0.9959 - val_loss: 0.0949 - val_acc: 0.9803\n",
      "Epoch 13/15\n",
      "60000/60000 [==============================] - 2s 41us/step - loss: 0.0111 - acc: 0.9967 - val_loss: 0.0845 - val_acc: 0.9816\n",
      "Epoch 14/15\n",
      "60000/60000 [==============================] - 2s 41us/step - loss: 0.0110 - acc: 0.9964 - val_loss: 0.0829 - val_acc: 0.9819\n",
      "Epoch 15/15\n",
      "60000/60000 [==============================] - 2s 42us/step - loss: 0.0087 - acc: 0.9971 - val_loss: 0.1001 - val_acc: 0.9809\n"
     ]
    }
   ],
   "source": [
    "history = model.fit(x_train, y_train,\n",
    "                    batch_size=batch_size,\n",
    "                    epochs=training_epochs,\n",
    "                    verbose=1,\n",
    "                    validation_data=(x_test, y_test))"
   ]
  },
  {
   "cell_type": "markdown",
   "metadata": {},
   "source": [
    "### GIMP \n",
    "- https://www.gimp.org/downloads/"
   ]
  },
  {
   "cell_type": "code",
   "execution_count": 112,
   "metadata": {},
   "outputs": [
    {
     "data": {
      "text/plain": [
       "array([0, 1, 2])"
      ]
     },
     "execution_count": 112,
     "metadata": {},
     "output_type": "execute_result"
    }
   ],
   "source": [
    "def relu_function(x):\n",
    "    return np.maximum(0,x)\n",
    "\n",
    "x = np.array([-1,1,2])\n",
    "relu_function(x)\n"
   ]
  },
  {
   "cell_type": "markdown",
   "metadata": {},
   "source": [
    "## 使用CNN 辨識手寫數字"
   ]
  },
  {
   "cell_type": "markdown",
   "metadata": {},
   "source": [
    "### 引用套件"
   ]
  },
  {
   "cell_type": "code",
   "execution_count": 113,
   "metadata": {},
   "outputs": [],
   "source": [
    "import keras\n",
    "from keras.datasets import mnist\n",
    "from keras.models import Sequential\n",
    "from keras.layers import Activation, Dense, Flatten, Conv2D, MaxPooling2D"
   ]
  },
  {
   "cell_type": "markdown",
   "metadata": {},
   "source": [
    "### 讀取MINIST 數據"
   ]
  },
  {
   "cell_type": "code",
   "execution_count": 114,
   "metadata": {},
   "outputs": [],
   "source": [
    "(x_train, y_train), (x_test, y_test) = mnist.load_data()"
   ]
  },
  {
   "cell_type": "code",
   "execution_count": 115,
   "metadata": {},
   "outputs": [],
   "source": [
    "x_train = x_train.reshape(60000, 28,28,1)\n",
    "x_test = x_test.reshape(10000, 28,28,1)\n",
    "x_train = x_train.astype('float32')\n",
    "x_test  = x_test.astype('float32')\n",
    "x_train /= 255\n",
    "x_test  /= 255"
   ]
  },
  {
   "cell_type": "code",
   "execution_count": 116,
   "metadata": {},
   "outputs": [],
   "source": [
    "y_train = keras.utils.to_categorical(y_train, n_classes)\n",
    "y_test  = keras.utils.to_categorical(y_test, n_classes)"
   ]
  },
  {
   "cell_type": "markdown",
   "metadata": {},
   "source": [
    "### 設定網路參數"
   ]
  },
  {
   "cell_type": "code",
   "execution_count": 117,
   "metadata": {},
   "outputs": [],
   "source": [
    "n_hidden_1 = 256 \n",
    "n_classes  = 10 \n",
    "\n",
    "training_epochs = 15\n",
    "batch_size = 100"
   ]
  },
  {
   "cell_type": "markdown",
   "metadata": {},
   "source": [
    "### 建立 CNN"
   ]
  },
  {
   "cell_type": "code",
   "execution_count": 118,
   "metadata": {},
   "outputs": [],
   "source": [
    "model = keras.Sequential()\n",
    "\n",
    "model.add(Conv2D(\n",
    "            filters=16,\n",
    "            kernel_size = (3,3),\n",
    "            padding = 'same',\n",
    "            input_shape = (28,28,1), \n",
    "            activation = 'relu'))\n",
    "\n",
    "model.add(MaxPooling2D(pool_size=(2,2)))\n",
    "\n",
    "model.add(Flatten())\n",
    "\n",
    "model.add(Dense(n_hidden_1, activation='relu'))\n",
    "\n",
    "model.add(Dense(n_classes, activation='softmax'))"
   ]
  },
  {
   "cell_type": "code",
   "execution_count": 119,
   "metadata": {},
   "outputs": [],
   "source": [
    "model.compile(loss='categorical_crossentropy',\n",
    "              optimizer='adam',\n",
    "              metrics=['accuracy'])"
   ]
  },
  {
   "cell_type": "markdown",
   "metadata": {},
   "source": [
    "### 訓練神經網路"
   ]
  },
  {
   "cell_type": "code",
   "execution_count": 120,
   "metadata": {},
   "outputs": [
    {
     "name": "stdout",
     "output_type": "stream",
     "text": [
      "Train on 60000 samples, validate on 10000 samples\n",
      "Epoch 1/15\n",
      "60000/60000 [==============================] - 23s 382us/step - loss: 0.2033 - acc: 0.9414 - val_loss: 0.0800 - val_acc: 0.9751\n",
      "Epoch 2/15\n",
      "60000/60000 [==============================] - 23s 378us/step - loss: 0.0678 - acc: 0.9801 - val_loss: 0.0605 - val_acc: 0.9806\n",
      "Epoch 3/15\n",
      "60000/60000 [==============================] - 22s 366us/step - loss: 0.0434 - acc: 0.9867 - val_loss: 0.0429 - val_acc: 0.9843\n",
      "Epoch 4/15\n",
      "60000/60000 [==============================] - 22s 366us/step - loss: 0.0307 - acc: 0.9907 - val_loss: 0.0434 - val_acc: 0.9854\n",
      "Epoch 5/15\n",
      "60000/60000 [==============================] - 22s 370us/step - loss: 0.0231 - acc: 0.9931 - val_loss: 0.0375 - val_acc: 0.9874\n",
      "Epoch 6/15\n",
      "60000/60000 [==============================] - 22s 370us/step - loss: 0.0157 - acc: 0.9951 - val_loss: 0.0510 - val_acc: 0.9832\n",
      "Epoch 7/15\n",
      "60000/60000 [==============================] - 22s 372us/step - loss: 0.0127 - acc: 0.9962 - val_loss: 0.0492 - val_acc: 0.9860\n",
      "Epoch 8/15\n",
      "60000/60000 [==============================] - 22s 371us/step - loss: 0.0107 - acc: 0.9968 - val_loss: 0.0427 - val_acc: 0.9866\n",
      "Epoch 9/15\n",
      "60000/60000 [==============================] - 22s 366us/step - loss: 0.0077 - acc: 0.9976 - val_loss: 0.0481 - val_acc: 0.9856\n",
      "Epoch 10/15\n",
      "60000/60000 [==============================] - 22s 368us/step - loss: 0.0054 - acc: 0.9983 - val_loss: 0.0458 - val_acc: 0.9873\n",
      "Epoch 11/15\n",
      "60000/60000 [==============================] - 22s 366us/step - loss: 0.0052 - acc: 0.9983 - val_loss: 0.0455 - val_acc: 0.9869\n",
      "Epoch 12/15\n",
      "60000/60000 [==============================] - 22s 370us/step - loss: 0.0053 - acc: 0.9982 - val_loss: 0.0469 - val_acc: 0.9875\n",
      "Epoch 13/15\n",
      "60000/60000 [==============================] - 22s 366us/step - loss: 0.0031 - acc: 0.9991 - val_loss: 0.0526 - val_acc: 0.9867\n",
      "Epoch 14/15\n",
      "60000/60000 [==============================] - 22s 365us/step - loss: 0.0039 - acc: 0.9989 - val_loss: 0.0423 - val_acc: 0.9886\n",
      "Epoch 15/15\n",
      "60000/60000 [==============================] - 22s 365us/step - loss: 0.0050 - acc: 0.9984 - val_loss: 0.0530 - val_acc: 0.9863\n"
     ]
    }
   ],
   "source": [
    "history = model.fit(x_train, y_train,\n",
    "                    batch_size=batch_size,\n",
    "                    epochs=training_epochs,\n",
    "                    verbose=1,\n",
    "                    validation_data=(x_test, y_test))"
   ]
  },
  {
   "cell_type": "markdown",
   "metadata": {},
   "source": [
    "## MNIST Performance\n",
    "- http://yann.lecun.com/exdb/mnist/"
   ]
  },
  {
   "cell_type": "markdown",
   "metadata": {},
   "source": [
    "## 使用CNN 分類貓與狗"
   ]
  },
  {
   "cell_type": "code",
   "execution_count": 134,
   "metadata": {},
   "outputs": [],
   "source": [
    "\n",
    "# Importing the Keras libraries and packages# Import \n",
    "from keras.models import Sequential \n",
    "from keras.layers import Conv2D\n",
    "from keras.layers import MaxPooling2D \n",
    "from keras.layers import Flatten\n",
    "from keras.layers import Dense\n",
    "\n",
    "# Initialising the CNN\n",
    "classifier = Sequential()"
   ]
  },
  {
   "cell_type": "code",
   "execution_count": 135,
   "metadata": {},
   "outputs": [],
   "source": [
    "# 1. Convolution  \n",
    "classifier.add(Conv2D(32, (3, 3), input_shape = (64, 64,\n",
    "3), activation = 'relu'))"
   ]
  },
  {
   "cell_type": "code",
   "execution_count": 136,
   "metadata": {},
   "outputs": [],
   "source": [
    "# 2. Max Pooling\n",
    "classifier.add(MaxPooling2D(pool_size = (2, 2)))"
   ]
  },
  {
   "cell_type": "code",
   "execution_count": 137,
   "metadata": {},
   "outputs": [],
   "source": [
    "# Adding a second convolutional layer\n",
    "classifier.add(Conv2D(32, (3, 3), activation = 'relu'))\n",
    "classifier.add(MaxPooling2D(pool_size = (2, 2)))"
   ]
  },
  {
   "cell_type": "code",
   "execution_count": 138,
   "metadata": {},
   "outputs": [],
   "source": [
    "# 3. Flattening\n",
    "classifier.add(Flatten())"
   ]
  },
  {
   "cell_type": "code",
   "execution_count": 139,
   "metadata": {},
   "outputs": [],
   "source": [
    "# 4. Fully Connection\n",
    "classifier.add(Dense(units = 128, activation = 'relu')) \n",
    "classifier.add(Dense(units = 1, activation = 'sigmoid'))"
   ]
  },
  {
   "cell_type": "code",
   "execution_count": 140,
   "metadata": {},
   "outputs": [],
   "source": [
    "classifier.compile(optimizer = 'adam', loss =\n",
    "'binary_crossentropy', metrics = ['accuracy'])"
   ]
  },
  {
   "cell_type": "code",
   "execution_count": 141,
   "metadata": {},
   "outputs": [],
   "source": [
    "from keras.preprocessing.image import ImageDataGenerator"
   ]
  },
  {
   "cell_type": "code",
   "execution_count": 142,
   "metadata": {},
   "outputs": [],
   "source": [
    "train_datagen = ImageDataGenerator(rescale = 1./255,\n",
    "                                   shear_range = 0.2,\n",
    "                                   zoom_range = 0.2, \n",
    "                                   horizontal_flip = True)"
   ]
  },
  {
   "cell_type": "code",
   "execution_count": 143,
   "metadata": {},
   "outputs": [],
   "source": [
    "test_datagen = ImageDataGenerator(rescale = 1./255)"
   ]
  },
  {
   "cell_type": "code",
   "execution_count": 144,
   "metadata": {},
   "outputs": [
    {
     "name": "stdout",
     "output_type": "stream",
     "text": [
      "Found 8000 images belonging to 2 classes.\n"
     ]
    }
   ],
   "source": [
    "training_set = train_datagen.flow_from_directory(\n",
    "    'dataset/training_set', target_size = (64, 64),\n",
    "     batch_size = 32,\n",
    "     class_mode = 'binary')"
   ]
  },
  {
   "cell_type": "code",
   "execution_count": 145,
   "metadata": {},
   "outputs": [
    {
     "name": "stdout",
     "output_type": "stream",
     "text": [
      "Found 2000 images belonging to 2 classes.\n"
     ]
    }
   ],
   "source": [
    "test_set = test_datagen.flow_from_directory(\n",
    "    'dataset/test_set', target_size = (64, 64),\n",
    "    batch_size = 32, \n",
    "    class_mode = 'binary')"
   ]
  },
  {
   "cell_type": "code",
   "execution_count": 146,
   "metadata": {
    "scrolled": true
   },
   "outputs": [
    {
     "name": "stdout",
     "output_type": "stream",
     "text": [
      "Epoch 1/2\n",
      "8000/8000 [==============================] - 1660s 207ms/step - loss: 0.3480 - acc: 0.8368 - val_loss: 0.6702 - val_acc: 0.7886\n",
      "Epoch 2/2\n",
      "8000/8000 [==============================] - 1642s 205ms/step - loss: 0.0871 - acc: 0.9676 - val_loss: 0.8895 - val_acc: 0.8118\n"
     ]
    },
    {
     "data": {
      "text/plain": [
       "<keras.callbacks.History at 0x3384ca58>"
      ]
     },
     "execution_count": 146,
     "metadata": {},
     "output_type": "execute_result"
    }
   ],
   "source": [
    "classifier.fit_generator(training_set, steps_per_epoch = 8000,\n",
    "epochs = 2, validation_data = test_set, validation_steps = 2000)"
   ]
  },
  {
   "cell_type": "markdown",
   "metadata": {},
   "source": [
    "### 使用單張圖片做驗證"
   ]
  },
  {
   "cell_type": "code",
   "execution_count": 171,
   "metadata": {},
   "outputs": [
    {
     "data": {
      "image/png": "[encoded data removed]",
      "text/plain": [
       "<PIL.Image.Image image mode=RGB size=64x64 at 0x3350FB00>"
      ]
     },
     "execution_count": 171,
     "metadata": {},
     "output_type": "execute_result"
    }
   ],
   "source": [
    "import numpy as np\n",
    "from keras.preprocessing import image\n",
    "test_image = image.load_img('dataset/single_prediction/cat_or_dog_2.jpg', target_size= (64,64))\n",
    "test_image\n"
   ]
  },
  {
   "cell_type": "code",
   "execution_count": 172,
   "metadata": {},
   "outputs": [
    {
     "data": {
      "text/plain": [
       "array([[[239., 239., 239.],\n",
       "        [239., 239., 239.],\n",
       "        [239., 239., 239.],\n",
       "        ...,\n",
       "        [245., 245., 245.],\n",
       "        [245., 245., 245.],\n",
       "        [245., 245., 245.]],\n",
       "\n",
       "       [[239., 239., 239.],\n",
       "        [239., 239., 239.],\n",
       "        [239., 239., 239.],\n",
       "        ...,\n",
       "        [245., 245., 245.],\n",
       "        [245., 245., 245.],\n",
       "        [244., 244., 244.]],\n",
       "\n",
       "       [[239., 239., 239.],\n",
       "        [239., 239., 239.],\n",
       "        [239., 239., 239.],\n",
       "        ...,\n",
       "        [244., 244., 244.],\n",
       "        [244., 244., 244.],\n",
       "        [244., 244., 244.]],\n",
       "\n",
       "       ...,\n",
       "\n",
       "       [[241., 217., 205.],\n",
       "        [243., 220., 206.],\n",
       "        [241., 219., 205.],\n",
       "        ...,\n",
       "        [227., 200., 181.],\n",
       "        [233., 205., 191.],\n",
       "        [232., 215., 197.]],\n",
       "\n",
       "       [[255., 237., 227.],\n",
       "        [251., 234., 227.],\n",
       "        [252., 235., 227.],\n",
       "        ...,\n",
       "        [219., 193., 178.],\n",
       "        [219., 193., 180.],\n",
       "        [216., 189., 172.]],\n",
       "\n",
       "       [[243., 230., 222.],\n",
       "        [250., 235., 228.],\n",
       "        [246., 231., 226.],\n",
       "        ...,\n",
       "        [203., 180., 164.],\n",
       "        [220., 198., 177.],\n",
       "        [225., 202., 186.]]], dtype=float32)"
      ]
     },
     "execution_count": 172,
     "metadata": {},
     "output_type": "execute_result"
    }
   ],
   "source": [
    "test_image = image.img_to_array(test_image)\n",
    "\n",
    "test_image"
   ]
  },
  {
   "cell_type": "code",
   "execution_count": 173,
   "metadata": {},
   "outputs": [
    {
     "data": {
      "text/plain": [
       "numpy.ndarray"
      ]
     },
     "execution_count": 173,
     "metadata": {},
     "output_type": "execute_result"
    }
   ],
   "source": [
    "type(test_image)"
   ]
  },
  {
   "cell_type": "code",
   "execution_count": 174,
   "metadata": {},
   "outputs": [
    {
     "data": {
      "text/plain": [
       "(64, 64, 3)"
      ]
     },
     "execution_count": 174,
     "metadata": {},
     "output_type": "execute_result"
    }
   ],
   "source": [
    "test_image.shape"
   ]
  },
  {
   "cell_type": "code",
   "execution_count": 175,
   "metadata": {},
   "outputs": [],
   "source": [
    "test_image = np.expand_dims(test_image, axis = 0)"
   ]
  },
  {
   "cell_type": "code",
   "execution_count": 176,
   "metadata": {},
   "outputs": [
    {
     "data": {
      "text/plain": [
       "array([[[1, 2, 3],\n",
       "        [4, 5, 6]]])"
      ]
     },
     "execution_count": 176,
     "metadata": {},
     "output_type": "execute_result"
    }
   ],
   "source": [
    "a = np.array([[1,2,3],[4,5,6]])\n",
    "a.shape\n",
    "\n",
    "np.expand_dims(a, axis = 0)"
   ]
  },
  {
   "cell_type": "code",
   "execution_count": 177,
   "metadata": {},
   "outputs": [
    {
     "data": {
      "text/plain": [
       "(1, 64, 64, 3)"
      ]
     },
     "execution_count": 177,
     "metadata": {},
     "output_type": "execute_result"
    }
   ],
   "source": [
    "test_image.shape"
   ]
  },
  {
   "cell_type": "code",
   "execution_count": 178,
   "metadata": {},
   "outputs": [],
   "source": [
    "result = classifier.predict_classes(test_image)"
   ]
  },
  {
   "cell_type": "code",
   "execution_count": 179,
   "metadata": {},
   "outputs": [
    {
     "data": {
      "text/plain": [
       "array([[0]])"
      ]
     },
     "execution_count": 179,
     "metadata": {},
     "output_type": "execute_result"
    }
   ],
   "source": [
    "result"
   ]
  },
  {
   "cell_type": "markdown",
   "metadata": {},
   "source": [
    "##  撰寫網路爬蟲抓取圖片"
   ]
  },
  {
   "cell_type": "code",
   "execution_count": 182,
   "metadata": {},
   "outputs": [],
   "source": [
    "import requests\n",
    "from bs4 import BeautifulSoup\n",
    "res = requests.get('https://www.google.com.tw/search?ei=WchSW_n6H4Gg-Qb815eQBA&yv=3&q=%E6%9E%97%E5%BF%97%E7%8E%B2&tbm=isch&vet=10ahUKEwi5i-DMvq_cAhUBUN4KHfzrBUIQuT0IuAEoAQ.WchSW_n6H4Gg-Qb815eQBA.i&ved=0ahUKEwi5i-DMvq_cAhUBUN4KHfzrBUIQuT0IuAEoAQ&ijn=3&start=300&asearch=ichunk&async=_id:rg_s,_pms:s,_fmt:pc')\n",
    "soup = BeautifulSoup(res.text, 'lxml')"
   ]
  },
  {
   "cell_type": "code",
   "execution_count": 187,
   "metadata": {},
   "outputs": [],
   "source": [
    "#res.text"
   ]
  },
  {
   "cell_type": "code",
   "execution_count": 191,
   "metadata": {},
   "outputs": [],
   "source": [
    "import json\n",
    "images = []\n",
    "for rec in soup.select('.rg_meta'):\n",
    "    jd = json.loads(rec.text)\n",
    "    #print(jd.get('tu'))\n",
    "    images.append(jd.get('tu'))"
   ]
  },
  {
   "cell_type": "code",
   "execution_count": 192,
   "metadata": {},
   "outputs": [
    {
     "data": {
      "text/plain": [
       "100"
      ]
     },
     "execution_count": 192,
     "metadata": {},
     "output_type": "execute_result"
    }
   ],
   "source": [
    "len(images)"
   ]
  },
  {
   "cell_type": "code",
   "execution_count": 190,
   "metadata": {},
   "outputs": [],
   "source": [
    "with open('1.jpg', 'wb') as f:\n",
    "    res2 = requests.get('https://encrypted-tbn0.gstatic.com/images?q=tbn:ANd9GcS_BppwhgbGNxrTGXCBkUiguCyuwKJG4OYKunRhn37t-P_Drk3Q')\n",
    "    f.write(res2.content)"
   ]
  },
  {
   "cell_type": "code",
   "execution_count": 196,
   "metadata": {},
   "outputs": [],
   "source": [
    "google_url = 'https://www.google.com.tw/search?ei=WchSW_n6H4Gg-Qb815eQBA&yv=3&q={}&tbm=isch&vet=10ahUKEwi5i-DMvq_cAhUBUN4KHfzrBUIQuT0IuAEoAQ.WchSW_n6H4Gg-Qb815eQBA.i&ved=0ahUKEwi5i-DMvq_cAhUBUN4KHfzrBUIQuT0IuAEoAQ&ijn=3&start={}&asearch=ichunk&async=_id:rg_s,_pms:s,_fmt:pc'\n",
    "google_url.format('周子瑜', 100)\n",
    "res = requests.get(google_url.format('周子瑜', 0))\n",
    "soup = BeautifulSoup(res.text, 'lxml')"
   ]
  },
  {
   "cell_type": "code",
   "execution_count": 198,
   "metadata": {},
   "outputs": [],
   "source": [
    "import json\n",
    "images = []\n",
    "for rec in soup.select('.rg_meta'):\n",
    "    jd = json.loads(rec.text)\n",
    "    #print(jd.get('tu'))\n",
    "    images.append(jd.get('tu'))"
   ]
  },
  {
   "cell_type": "code",
   "execution_count": 199,
   "metadata": {},
   "outputs": [],
   "source": [
    "import json, requests\n",
    "from bs4 import BeautifulSoup\n",
    "google_url = 'https://www.google.com.tw/search?ei=WchSW_n6H4Gg-Qb815eQBA&yv=3&q={}&tbm=isch&vet=10ahUKEwi5i-DMvq_cAhUBUN4KHfzrBUIQuT0IuAEoAQ.WchSW_n6H4Gg-Qb815eQBA.i&ved=0ahUKEwi5i-DMvq_cAhUBUN4KHfzrBUIQuT0IuAEoAQ&ijn=3&start={}&asearch=ichunk&async=_id:rg_s,_pms:s,_fmt:pc'\n",
    "\n",
    "\n",
    "def getIdolImage(keywords, dest_dir, batch):\n",
    "    for i in range(batch):\n",
    "        res = requests.get(google_url.format(keywords, i* 100))\n",
    "        soup = BeautifulSoup(res.text, 'lxml')  \n",
    "\n",
    "        for rec in soup.select('.rg_meta'):\n",
    "            jd = json.loads(rec.text)\n",
    "            url = jd.get('tu')\n",
    "            with open(dest_dir + url.split('tbn:')[1] + '.jpg', 'wb') as f:\n",
    "                res2 = requests.get(url)\n",
    "                f.write(res2.content)"
   ]
  },
  {
   "cell_type": "code",
   "execution_count": null,
   "metadata": {},
   "outputs": [],
   "source": [
    "import os\n",
    "os.mkdir('idol1/')"
   ]
  },
  {
   "cell_type": "code",
   "execution_count": 201,
   "metadata": {},
   "outputs": [],
   "source": [
    "getIdolImage('周子瑜', 'idol1/', 3)"
   ]
  },
  {
   "cell_type": "code",
   "execution_count": 202,
   "metadata": {},
   "outputs": [],
   "source": [
    "import os\n",
    "os.mkdir('idol2/')"
   ]
  },
  {
   "cell_type": "code",
   "execution_count": 203,
   "metadata": {},
   "outputs": [],
   "source": [
    "getIdolImage('郭雪芙', 'idol2/', 3)"
   ]
  },
  {
   "cell_type": "code",
   "execution_count": 204,
   "metadata": {},
   "outputs": [],
   "source": [
    "import os\n",
    "os.mkdir('idol3/')"
   ]
  },
  {
   "cell_type": "code",
   "execution_count": 205,
   "metadata": {},
   "outputs": [],
   "source": [
    "getIdolImage('林志玲', 'idol3/', 3)"
   ]
  },
  {
   "attachments": {},
   "cell_type": "markdown",
   "metadata": {},
   "source": [
    "## 使用OpenCV 擷取人臉"
   ]
  },
  {
   "cell_type": "markdown",
   "metadata": {},
   "source": [
    "### 安裝OpenCV"
   ]
  },
  {
   "cell_type": "code",
   "execution_count": 207,
   "metadata": {},
   "outputs": [
    {
     "name": "stdout",
     "output_type": "stream",
     "text": [
      "Collecting opencv-python\n",
      "  Downloading https://files.pythonhosted.org/packages/2b/31/cc5cf31258dc2cbb50dd1b046164add33804eab7af036d86aa68d45c7f6c/opencv_python-3.4.1.15-cp36-cp36m-win_amd64.whl (33.6MB)\n",
      "Requirement already satisfied: numpy>=1.11.3 in c:\\programdata\\anaconda3\\lib\\site-packages (from opencv-python) (1.14.3)\n",
      "Installing collected packages: opencv-python\n",
      "Successfully installed opencv-python-3.4.1.15\n"
     ]
    },
    {
     "name": "stderr",
     "output_type": "stream",
     "text": [
      "distributed 1.21.8 requires msgpack, which is not installed.\n"
     ]
    }
   ],
   "source": [
    "! pip install opencv-python"
   ]
  },
  {
   "cell_type": "markdown",
   "metadata": {},
   "source": [
    "### 使用OpenCV 擷取人臉"
   ]
  },
  {
   "cell_type": "code",
   "execution_count": 210,
   "metadata": {},
   "outputs": [],
   "source": [
    "import cv2 as cv"
   ]
  },
  {
   "cell_type": "code",
   "execution_count": 211,
   "metadata": {},
   "outputs": [
    {
     "data": {
      "text/plain": [
       "['ANd9GcQ-ZfgQG3rfHKmzpCGx2tegEwwJOYFy-rMvoh1Bi3QHhLUsoeY_.jpg',\n",
       " 'ANd9GcQ0wqdSb8yIfi-bX1pHL2RK0cjlMs_2RxSNX3EvMCFj1Cf-JMzJ.jpg',\n",
       " 'ANd9GcQ1G77V4RLE0jwY5cmuHzAQJwFxf5kmZliOX79RY3xtfWkTkvvmLQ.jpg',\n",
       " 'ANd9GcQ1secSGENOmrD3YHKnOu9asasIh0vLD41Q8oUDXThKxBN1saQz7g.jpg',\n",
       " 'ANd9GcQ33AqAXoKPPphbK2ykukECp-GDfl8GIwu9k9UG4Q9dyuh3U9pL.jpg',\n",
       " 'ANd9GcQ3LybDYVOxxKCI-tREw3h5HXlvBouArzBOITEmH7WLqe5ehwYosw.jpg',\n",
       " 'ANd9GcQ3qKbTEQDnozLVX-JYYpc6cZjz4GnFbdglVs_vzbCObCHXT_EIrw.jpg',\n",
       " 'ANd9GcQ56ORyeifrR6Ic8vNKKZ-VJPcfaNXXQJNS0IMvy43BfdHLGM6M.jpg',\n",
       " 'ANd9GcQ5RCSS7IYE2aInlOCfS-Lkna01-yUFWJ4HY4MWyitb6q2fXTf3CA.jpg',\n",
       " 'ANd9GcQ79xBdKtn4q7zw-Ou3NACB_eJq7cDZgTD6k9zYT8sH7UGz4HxtZg.jpg',\n",
       " 'ANd9GcQ8JuzI3MiYOYjzPxZQKEUVIlI8tyx1l8pK3x8E6KNqCljZoA8c.jpg',\n",
       " 'ANd9GcQ9FYc3BCnqkeniQC98exF1af-B1omLt2y4EShr7jcUgT-J9Ptovw.jpg',\n",
       " 'ANd9GcQaogybPHCXUuLEo3zsw9LRcp02-F_9ww5WzEUpF-7lmH9KVd4i.jpg',\n",
       " 'ANd9GcQaSoOinm8bTFh5jCxk-zCgey2VzhUHkoJ_qDiWzVZLbYNHWaeA.jpg',\n",
       " 'ANd9GcQbb320FgE7bVIryXGPLvV4BlVhhfr0HWXkHSssF9kti-eKqe2Y.jpg',\n",
       " 'ANd9GcQBgFRn1Ju9Rml-fxRdNa3AnszHdzI-qYApK2S-vG4UiOGsdv8u.jpg',\n",
       " 'ANd9GcQbYWGGB_EkhsDGbrYKz2xKSV6SAcolri-HLI8ZaivxIzLRfTSa.jpg',\n",
       " 'ANd9GcQc7KYis5s53GbgEL79ZDBc1msSIOpHyFqRrzl6_-GsxlBJxr9t.jpg',\n",
       " 'ANd9GcQcLKvlkOVQaeeoIq95TvEoxS307xBVfrXtbRsU4ylcydLoa5RT.jpg',\n",
       " 'ANd9GcQCoWsaQ9vRIPS1wa8jMbGGXqqYdiHl4uZs0QNgfjto0KNDRTHWvg.jpg',\n",
       " 'ANd9GcQD35Ej7Il-Gf5uV9e9jE7TwhiED8NJTOm31VK7edP6jnTO1lTZoQ.jpg',\n",
       " 'ANd9GcQD4-IRB6JfVSMuRHL_RLGP82BIOdrVpHHJKU9IeeQAWPynKvA.jpg',\n",
       " 'ANd9GcQDYBUfcKF1hbCJfZvvfwZ4DmIzhYn_Jys4oSFwT2HdzsykFForvg.jpg',\n",
       " 'ANd9GcQD_p9BvKK7PwbtZryzm5M5PNcarbKddiE7LkjmVCV1nE2WBaBp.jpg',\n",
       " 'ANd9GcQeEnbGCOtWJ6usXSDte6WUXhSysze4Or24e3E1tqap92QZxlXb.jpg',\n",
       " 'ANd9GcQeZgm7-HfmGxAPhZZLmvEACXRGHFhKfRo2dlJKk2Z4ri3o_9jqXw.jpg',\n",
       " 'ANd9GcQf43Tm1mpx117TWadO4XNpnz8c3PbA1kfwf59nJOrT9hyuxkJ7cA.jpg',\n",
       " 'ANd9GcQFrer0ZXS59TOnXx7teUqvyCku_Nsa5hgddnjVrAPJtBWvcrE1bw.jpg',\n",
       " 'ANd9GcQG11F0v0pjHhkN23Dq_GPT5FW-ub2TjXy9c3ujE2viUeRkABm5gQ.jpg',\n",
       " 'ANd9GcQgXmQl72xk78RjS1Ruhl0sSWWa63j_3dHEgfnPaA2K4tdQVqDZ.jpg',\n",
       " 'ANd9GcQH4uAwxjDu7wf37XHaZZeVCknUXI904CABDm042yMQf3wZDfTZ3w.jpg',\n",
       " 'ANd9GcQhqK-Aa8MkHy5vnKQkLvgqkhJTjCrdtaMwXgur0ngvpMYcGcGOqw.jpg',\n",
       " 'ANd9GcQHxEpQ1IVUjsf7B7bviBGyB8-_WHMou3zzkchAU-ADb03RKL45.jpg',\n",
       " 'ANd9GcQI3hPJF2YV3yED30Uc9vK7DTrofl-Tx4Pd61Bhx4Aikm22y2Yj.jpg',\n",
       " 'ANd9GcQiaEZpJTbgmP3AfpiO4KhiNUc0pw3oZ-XONvj7XoZg4wDt9GX-_A.jpg',\n",
       " 'ANd9GcQiOovUZoqm9RKEVrp4eF75PaKBDI27VgiUknaOvjaOanL28EgF.jpg',\n",
       " 'ANd9GcQJlrhL8ujIQLk5ueJISp8X6gyP2qy9B3NlEfVIc_t2G-kc0cwtHA.jpg',\n",
       " 'ANd9GcQkJeiod-v3PtoSfBwFw5nscKYFLpFsIDO4ePglTPkz_SGPXv5N.jpg',\n",
       " 'ANd9GcQkPFdOGYoLP9YXblNjtmOPO7ugujg9sitz6Oqvnc12tGgqR_0O.jpg',\n",
       " 'ANd9GcQl2__lqbf9-DEbicpiSJlfEag_r1fdpMIXOuMKEMwqOghkc5Hc.jpg',\n",
       " 'ANd9GcQMHRfh0D61S885yLEtG8qce-pywep8X0GtLzySccsUljV_hIwXRg.jpg',\n",
       " 'ANd9GcQmjEQDDvvgrSg-Ylq5oHYfRjcALJpei-7Criv0opQqCyp4FQcF5A.jpg',\n",
       " 'ANd9GcQNvTYwpWPeNKG4NYi9CgWBIlqOL_TqkTpjEvr-t0KEKuhUPLTrfA.jpg',\n",
       " 'ANd9GcQPMBqoose-3foOhyTFoPOYlm4qFMvNzBHbtYmVFPyLLaA6oJi9ag.jpg',\n",
       " 'ANd9GcQpPyUXvJeZbkPqbpc7A5BtWQcVyCVpBi_CECTTEKkL25g-Fa0I.jpg',\n",
       " 'ANd9GcQQ0zByvLshYW5607Lfy06sHjTiSx6I8O-0DYj1CSm7OVQ4rDWftA.jpg',\n",
       " 'ANd9GcQQcnPfP8YwKvVrPYt9qm1z60VCAF9WJf8wjv2qPodV7lvv5gm0.jpg',\n",
       " 'ANd9GcQQoyaGJwXQYLBq_McRZzwyeD08Gg3d-qUNrCurc835bIS-sUBk2w.jpg',\n",
       " 'ANd9GcQqpeb29EXD-coe90Ti7483YiGBF-1fsa4jSXmEjgxIAsy2998ZbQ.jpg',\n",
       " 'ANd9GcQrQTbS6EWAVV4yqxc-3WO1lhR77_JYIfnOfZNL_ZdiBvSxSdV4.jpg',\n",
       " 'ANd9GcQrub6Vs-pMdfs7JlKHIFpTBJNjlIEY6ASCy5OBe6BYALb4Pb4B9g.jpg',\n",
       " 'ANd9GcQrzqYiDpXsWLukI-kTNbiONgH44uX6mL8bmx-C6eAqUhzPQC547A.jpg',\n",
       " 'ANd9GcQs1Rx6aO99nHO7fN6N8Cj8HSNMy8Ok1xStpu-8T3uRnHxNUb-VRA.jpg',\n",
       " 'ANd9GcQs3ytkuMVlGYFsta5LUwKVfyjwX6qShT3obzhwoaSvHeH1F_Xw.jpg',\n",
       " 'ANd9GcQswiD6ido5ErCQca76mlYYKrfjSvK_92-ZrZg9VIZIUrK4iOi1LA.jpg',\n",
       " 'ANd9GcQTcoWC8aJvg3xg1Oth1obK5uTuHFITwOxVKGMsSCdqC9miUs1RDw.jpg',\n",
       " 'ANd9GcQti7IfUqEGDT4rrB524bym_CiftAk9BZAueVochamldlmPrDLJJQ.jpg',\n",
       " 'ANd9GcQucxAhks2zsVrrdpCcZO4lJEdTM48E3v_p2wWem7y17KEJdfK9.jpg',\n",
       " 'ANd9GcQUgEs1bMWSDKizXf0JbdDhRUYFL2hfP9JQDyquCM3Yjh8B8WY38w.jpg',\n",
       " 'ANd9GcQv90Y6s4aMtBgPBXtobMZrBhtiPjRqTfKHUvc1UWtevLZmUgeK.jpg',\n",
       " 'ANd9GcQv96C_oFTGLWlksyoMn4rGt2Evs8CZseLm7phveZj7FTfPySTh.jpg',\n",
       " 'ANd9GcQVK508RHuTYLh7hhBrcLybXQB1cozjX-23MGNOdtgPPyT1H_5GXg.jpg',\n",
       " 'ANd9GcQWF046969HNHt6c63Qfv8S6WN-GnyEDn3RGdFhPoKCbIyNx4NxpQ.jpg',\n",
       " 'ANd9GcQWOHCo7JTUDN6YSnvWR_ea5b47UMPHf1CmZ19CZWm4_8n03hP6.jpg',\n",
       " 'ANd9GcQx4uPCLClPskjJ3i4WQBn8DviJ6dPDkJpftWX5dxxuc82uIPec2g.jpg',\n",
       " 'ANd9GcQXHocFXGJ5urDeC9EQpdtZ8BrmV5299bgPHX0h1uUuvyYd0niBwA.jpg',\n",
       " 'ANd9GcQXZnyJXW0ScXe5bQEL2mWeb78_Daoq5BIPy2eq0YmCGZcX2oEGZA.jpg',\n",
       " 'ANd9GcQZ-P1CzgLJM5yLzexqaGHtZ00-ztKszlK4RbqeUnI3RgveHFSk.jpg',\n",
       " 'ANd9GcQzkrdwpo9XQRTVaymSL3_NalRqNW61cwt5ML4NnV_uWw8w9JLZ4A.jpg',\n",
       " 'ANd9GcQZLA-u1c38qq__h2uWrxZBW6ZzT8Fhf7TKJTZsxCbvlS2JK55mFQ.jpg',\n",
       " 'ANd9GcQ_03cqsuCHR-ClqDQdUzyqVqOXejQSbjYh4DAI_gPPIsGvQHJxtA.jpg',\n",
       " 'ANd9GcQ_ot2u_HA3Jrw76LiArW1PRRXz0ixaXIecG1HfjiTR6SgxmykySA.jpg',\n",
       " 'ANd9GcR-gsux2LbPkr9MlfwI8dBBMuuVchAmRNQ8hGEJ7XkAR0I2IL_Y.jpg',\n",
       " 'ANd9GcR-uCMmB7yILEYrrDMrDdlIKWRaLFnudsUqjrHRaWwyvgrdEtIl.jpg',\n",
       " 'ANd9GcR25XH2Ei1wmcxBcqqvHmLO8TLgZ4NQaDS84yJzpN1yTyP8EJgq.jpg',\n",
       " 'ANd9GcR2N8YRnKXutuYu1Rt5WAQiQcm0gvAvfHhF29pqHzFdciF_4j5kKg.jpg',\n",
       " 'ANd9GcR2zGHWB2uIzwpSge-0mYMoVeMLwN0fUxMA5aFO_Kfyk0dY4hyMyA.jpg',\n",
       " 'ANd9GcR34FT2-TT2T0Csrzqm0gmqF81Oy9jUX-l85oCsu0VLBvzLaqGoBA.jpg',\n",
       " 'ANd9GcR3TzF-M1301AG6kiM1Nj5PCpEDS_uDUfdxFllJRIBdW1yBYQJq5g.jpg',\n",
       " 'ANd9GcR4-9kKhTyb3GQiWfhDjT9QXR-gbw1ZvaVqoL6An34skaQuSuFM.jpg',\n",
       " 'ANd9GcR4EiV9wdzXwO84VVTiTHDqOHkVwED3y-1NcPlbRhefDh7cfDe32Q.jpg',\n",
       " 'ANd9GcR4ihxKcTNHxOhhqhIltrfaMqQHKi-tKT0tLmrC0QlU189SAxZcIw.jpg',\n",
       " 'ANd9GcR59oh6xMAH22jOExgv28ATW2oQd3f3d1twjIfhUA9FIMry2YjN.jpg',\n",
       " 'ANd9GcR5S9mfJ2MWyImQ4aCqkmJZ53SM-0mRBtAcOQSQRkxCTt3p1NuqhQ.jpg',\n",
       " 'ANd9GcR6-0Im85E-7yhIGr-RLF38CgtDcTOkp9Pn9PpzZc3w5_Mxx5yx.jpg',\n",
       " 'ANd9GcR6bGOJzPKciAm3Cvocnx5Xd1MvRgm6mtWB-UWFIZn5Ikpo9weigA.jpg',\n",
       " 'ANd9GcR7rRHrtAzdZo9vVnSIGE9106nQMqPDHxRefBKz4_qumJ0ll82a.jpg',\n",
       " 'ANd9GcR8vQgndPe1a-ENKD16Q_qItZbj58at5oQu_x8f6MFwbSF8Gy6u.jpg',\n",
       " 'ANd9GcRA2LOjx-75e-PqvIcCZO8eSYd-traSmy6Ma8RJ7BVnS06EbGO0.jpg',\n",
       " 'ANd9GcRaBiFZzOrv4T62j8m6A1LmCmnSYtGQqM0LqMVKQyv7JgIbdn5Z6Q.jpg',\n",
       " 'ANd9GcRB6RmmDkcIQCq5tcfso_bA-mUJNrMTKMLlhOy5e93QE7Z7Akkw.jpg',\n",
       " 'ANd9GcRBWOzcFgK-Me6UAnkeKl0qeCQ0IvXjGvg5OxOedJTu56CFy9lo.jpg',\n",
       " 'ANd9GcRbXS6_dcLD3x0GKSNBU65P2UzSuR-Rej6sERqBogWGFrTZBCrk0Q.jpg',\n",
       " 'ANd9GcRCAX7_i9yf13x7fyAZfV-hYFhLNCmSsqdQZRJe3WUhcUXkU44jIw.jpg',\n",
       " 'ANd9GcRCMe7zFTkJwPyeR0MSFkVSi5KPDxh5JxcSoD-K30qcwRtxS532uA.jpg',\n",
       " 'ANd9GcRCqRqApwbJz0-h1oUdfhV0e8Ea8kiDR1NWj52eAaIqvnMBa9zH.jpg',\n",
       " 'ANd9GcRcXVivYF_4V8trBly1cX2ggqz0NJ4K6ozEATWgYMw6UfrKCLxr.jpg',\n",
       " 'ANd9GcRd9J4a5-xAUj3y0QyD5F8Cj_K7vPh_3b2BJCzI-YIaaUma1-w1.jpg',\n",
       " 'ANd9GcRDHpl9RLvGdTtI8mvWpCL3vrbKwd8ZBTulpJWbLIA1JK57yiHk.jpg',\n",
       " 'ANd9GcRdJDuSysqRBjoU2YT-kvTKfIoeuGd5JFbypS99Wa2YyxRHV82G_A.jpg',\n",
       " 'ANd9GcRDLjNO9gZ2UJVLO1H_-UZ7lzHaemB2y5wyrMTTxYM2E0nzShWx.jpg',\n",
       " 'ANd9GcRdPvj3kAfqlfTqKGUsi6-19F1bQw1aeeFSEL5Hhkd6wI2L9HhPPw.jpg',\n",
       " 'ANd9GcRDtdTe1ZiSBJOnuQxDIo06WsRWEBUN5r4mjKQW2eAPnlwLdWq72g.jpg',\n",
       " 'ANd9GcREqTFPK2sYX0VFSQqZIy0cYMa3mkmKtmbAmnrAuxUJavwRpHHkTg.jpg',\n",
       " 'ANd9GcRETrOjxYuV4PuGS0hw3cgz5JaTxGAwfZwK55nIrnL-A_KIt65o_w.jpg',\n",
       " 'ANd9GcREy6jxMpyR1_tfxF6kDb4eAmcuhOOO2YmFxzpg8P1O2JENfzuhAQ.jpg',\n",
       " 'ANd9GcRF3xZf6qy9O0FXQStsOMsqjGVO1V8aqJjfUzpl642-YV8pG-JO.jpg',\n",
       " 'ANd9GcRg5gKbj2bNB0j5vX1EPaG5kV1RqbeyYNdZjMxuFCxcY_mgpNHh3g.jpg',\n",
       " 'ANd9GcRGLnfWeKcWSWfYEvA_qsiER56KfOp5NP4yGfgvIWRFP0ZFTjibiQ.jpg',\n",
       " 'ANd9GcRH0k6FG52evJf55kB90KZn8ZGywyxJae2VNkCpk4NwC8d_BKLXNw.jpg',\n",
       " 'ANd9GcRH9_HOvs7S7nqMd3Kvys_XiFv1j9pWPPImFhldEqUQYIVT28iN.jpg',\n",
       " 'ANd9GcRHFGnrGSREgg70smpWTV8nX213F4BX5l5awzu8-w6CWCYhYZuOhQ.jpg',\n",
       " 'ANd9GcRir--20ZsrQLlzVX96j9kfnCaM5SVHdDKtmlvyXrswVaGnL7cLxA.jpg',\n",
       " 'ANd9GcRISwV2dkxNkajgKLI5rzZHNZh2uiynTvTPZCnq_ykJ5L8_ruf4.jpg',\n",
       " 'ANd9GcRJ2zApoUlaiyL4tgtl37rzosorFLCPMcbot7SkieLsdzJG7xR2UQ.jpg',\n",
       " 'ANd9GcRjBvmEFIEhsUYcgAsHpbxx7tnrhQ3npKO7InGT71mo--XvxUESqw.jpg',\n",
       " 'ANd9GcRkisfZdCsHHpscYnvhGJFc95vevYr6W2lAIJbR9ss4bic5AO31aQ.jpg',\n",
       " 'ANd9GcRKuUfNLCftIQRaH6aXG_lrJ4Eqe8d81-JpZPhDho9dU9Tj434k.jpg',\n",
       " 'ANd9GcRL1_MB-V0jNRso5NkfXf1D403GjgM2mDNcP2KKZof2Zv5Is4dIkA.jpg',\n",
       " 'ANd9GcRL5ZgkMTBYT1s8HTDTD5QE6lXUYfBIUB_znzQd07JAIY8-FyQz.jpg',\n",
       " 'ANd9GcRlGINr5gH2eEryBg839K_UDe0HOtbpSTfHr4QrUP6qjr31q6yJMQ.jpg',\n",
       " 'ANd9GcRLt9jOSiQnSU5go47CEfwnxteAZxVgX1mQk4vqE0f2-iokCO2TDA.jpg',\n",
       " 'ANd9GcRlZjlmlHjNjB0uQq1kPR7zvj2Opr2QCJCBdDdjvbPbjpjJAXz3.jpg',\n",
       " 'ANd9GcRndSKyEMX4EehG44m60rnIGHAqElZ3rqrXoAytKUeNKRhzB-6f2A.jpg',\n",
       " 'ANd9GcRnlCBks-_KMteeED_b0vqqEaAxnoR9Q_DqPvVFxbN08CE-OeXS.jpg',\n",
       " 'ANd9GcRnx_URbLtLMeK30E5CI8kurBjQoN7J-KfGR5q9QBVHCF4H0qn2.jpg',\n",
       " 'ANd9GcRO1NzL6JvyvJJ-157ECFqsph26IquWyBwRxqPZQhpY_9-RmXm9cw.jpg',\n",
       " 'ANd9GcRoeOOYQbhCWgvVxfODrX5A2Nq5sN8j5XuVg_ggFE_HgRlHeizDfw.jpg',\n",
       " 'ANd9GcROGLh9JHVYyI9n_F-V3X4l6T_vD7WKrf3g0EW_KGQeTA7r5mFmkw.jpg',\n",
       " 'ANd9GcRQiq9FBOQ5tsGeCxVWFMEkgkBRlfcmyjyJBfBC4yqzPbOOBQPg.jpg',\n",
       " 'ANd9GcRQVlemgg04JH7N0ylqsJLDiinUD2b3GVmQUmv9FQM8trClQbk4nw.jpg',\n",
       " 'ANd9GcRR6gell_curcPH2d7wyZd1WeNm0395UxyAcZSEajbNI2GoTsMO.jpg',\n",
       " 'ANd9GcRs4XSCmUsOWasdc7uZ4ZzBrJ4ntXXZ4-ZntDmELwVNaS6EbcyP.jpg',\n",
       " 'ANd9GcRSg_DM9gJHLZ2oEYRVoOsYbgvyAtylIbhf2q-LfDyUDidzQ6tY.jpg',\n",
       " 'ANd9GcRSIKN5uVjBJzLOTVSYkUTdHaMM6vvBxG5ayljNHaXbBNeMtGZzfQ.jpg',\n",
       " 'ANd9GcRSUfd2Lpba-jrzukr7Y9i7sU9cHHIC78rNf7pmNgmvgnDaUb-k.jpg',\n",
       " 'ANd9GcRsUSRNBlWd05o97YaodOX5GlcD8-wZnQp7ACLKWNtJ6WU_sfOpoA.jpg',\n",
       " 'ANd9GcRsXha8WzjZ4L9jUKhFXZgZ97Q9zA8AmvDpqwGx3aIR2F7EDF_9rQ.jpg',\n",
       " 'ANd9GcRt6uAV6iS-YImWGIsRaY2Bpb0C3eGtzvo6qtXESkbzIhlYGJ0H.jpg',\n",
       " 'ANd9GcRTBanufNWDIasvIL5TzJ1dZ1d7UnLSr2KSIHSw9NejpwJ_kiMh.jpg',\n",
       " 'ANd9GcRtngRmxTj0LQhXrwVy0dKG5ihG7Q1sGNqNuxT0RKYS-dZ9E8_q.jpg',\n",
       " 'ANd9GcRtREC-CGowDEzsgr4VMDchrpl-88Z4dWfHYg2_Kfz2jrjBP3vXAw.jpg',\n",
       " 'ANd9GcRubtUNV6FVogCHuFugM_oQj3UYDErQbJ4PBaz_uF4o7YUBAlMylA.jpg',\n",
       " 'ANd9GcRucc0wLeRopL2eYwQnYOWf73tImkGC_qNEfNokixZE-RiX0BAh.jpg',\n",
       " 'ANd9GcRUm93JIbj33kru6EKMUs-HOPTd5RDjNgtbV2eVkjBpYODO8jPR.jpg',\n",
       " 'ANd9GcRu_u_uHYaPeiDXethGkWny2iLhYHP-L2YrlwX66hPUnCgj-KXI.jpg',\n",
       " 'ANd9GcRvv7SVNoz4ockrZ5YKog-l-AijC8N9LOQ7frZwLTwW7jL4mSCrsQ.jpg',\n",
       " 'ANd9GcRwbj2T8HzkfKP7mwX_PjP_0pJpqP4_uVNsrLVYAG3dgqHu7OTfiQ.jpg',\n",
       " 'ANd9GcRwGeNrolx-Eq2IcUcGFEV4SyBek92rsQgA088C-k37BSnTlcq8oQ.jpg',\n",
       " 'ANd9GcRWhYsQKLLRUx7xH6CjyaVmXpj76etPbZ5pIkKyzTzhDuC18vYS.jpg',\n",
       " 'ANd9GcRwuNGw041sB6vZq2FPbjFlhEgCJN6MpvF5tnSMwkKxxuMl23DD.jpg',\n",
       " 'ANd9GcRW_Kv7xY8_FR9SVQk-BQn1B5VUY3z2RAxESMf_j1UYziOO_E8bhQ.jpg',\n",
       " 'ANd9GcRxI0GgMZ4buCKckHQw314nFz23yk9ofXcUNvtIzQGLdEpe91627w.jpg',\n",
       " 'ANd9GcRxsd2kn0nFk0OyW1ovWw-ACXnp2xZVVDEAHoQNPPc0mEoCot02.jpg',\n",
       " 'ANd9GcRxu_53Jm7nRw3Z8hY6skR5VVceITbXrwTum5241yX4epLFsYMI.jpg',\n",
       " 'ANd9GcRX_VKrboorvPaiD1Viwgy9AJ9O7AJGZChhdmQd6iGb68EqpVSESw.jpg',\n",
       " 'ANd9GcRY6B1iKQUM2cGmIOx0UcEQk50FM7S7BHcLGpVbPbZ7BpPQQOJ5.jpg',\n",
       " 'ANd9GcRYfQOrpeh7yWhZvO8ijmqQUIjXgKlo9SvA2bMzcnf_GZPZl1sWVA.jpg',\n",
       " 'ANd9GcRZh6Qsdomghlx6tdj9IhX1BG19JUIT7BRCkLOtyrA0s7i7ivoFAA.jpg',\n",
       " 'ANd9GcRZufdWsGgGAK7DEJyHJM5DEJsUMgWdnsnr8JLOfmkxhCZcXqsH.jpg',\n",
       " 'ANd9GcRZ_JQwW9haTRs1sbOMTMoRWR9Rp0BfuW0_TApJFiBsp7Gksm1J.jpg',\n",
       " 'ANd9GcR_97E_Arl0xfjNtS2LAOsABwXyRwINxs4KDnDpG8LTHqyZ4pySfA.jpg',\n",
       " 'ANd9GcS-I9GXUFO9gd6AQ6jG9x4qcVZqdmMkRsBK3fRgmZ1mDAxLuB3C.jpg',\n",
       " 'ANd9GcS1DOBfOc9MfeEpUmMU7l-DunnXEfEubRqlq0nbL6fe6r3dikLR.jpg',\n",
       " 'ANd9GcS1Ibm2GRrlcGhTojZ20OzKyhhpVu-gIFanG8CMYBjsISV5AHB0nQ.jpg',\n",
       " 'ANd9GcS2OZ9Wywq2g1Vr1ojezxnI8PMFRkwhd_te875Bwk-AcfQt5ilF.jpg',\n",
       " 'ANd9GcS2VrzjcNpJ_Ar1PTHTTv88C2jxWBMeI2StTviVuEt3mdnAdCSl.jpg',\n",
       " 'ANd9GcS36VC95sYfCINXThccoWrJmNUcMs-bptu2xWn7f21tF2owCiEc.jpg',\n",
       " 'ANd9GcS4T0QZFz9SsFhKSr9DWOlJSDZbk3DDK_-wTh2A0OWkt8bDDLRl.jpg',\n",
       " 'ANd9GcS4YA78CaonQ0n4kdooA1NwpJ1ygZ_ef-S5AkcEGuo-xmwk9B47.jpg',\n",
       " 'ANd9GcS7K-dQOeuXkRHM8d8BR9NuFS0__eQFTCNNGmC5BVxLRiy0BgxrKQ.jpg',\n",
       " 'ANd9GcS8e_2tdhFpDhbbO3kyyGge4bwrtfIvg9EfrXlg2mCyKh6Tvjv1IA.jpg',\n",
       " 'ANd9GcSaOcw0BQvFTtJxj3ob8NSQKtVmwWE0Wt1xCRwuzBH3nG9uXDU8vA.jpg',\n",
       " 'ANd9GcSAyaAa_x0sYrlUUDJf5J0T4lfddIwRzA7sJkjxy4zmdERXaj3B.jpg',\n",
       " 'ANd9GcSc2g9xv-SVYNh5XQI9_Nv4cGJl2gCntgryY-nt-tDDN2QyEDK2.jpg',\n",
       " 'ANd9GcScfUnFKJu1eG96OF403E7owPRMsmtjTCFn9FXh8tkkLsFJ-zsUvw.jpg',\n",
       " 'ANd9GcSDf0nnZpTBhX3ziwd4AItl9Vazzkt_4bhdva3q0UXZSL4C7atM.jpg',\n",
       " 'ANd9GcSdym_DgXA6VkIuCGOG9cMGYcB6rztHKzjGcTylDdGtzI437ObLRw.jpg',\n",
       " 'ANd9GcSe-IjhLsd-zkN2v5eSe1BIQtB5MNb2nU-raBmRTrDndLc6wG0a8w.jpg',\n",
       " 'ANd9GcSfhHMGyp_6Cq1sNsCIwUufJ_oA-p7uwbsPvM4WBSorhQqJFNY.jpg',\n",
       " 'ANd9GcSfssbfMB5bcMDekUt21UUE-sAxItcRaefFD6lZAkXMsqUSAMD2sQ.jpg',\n",
       " 'ANd9GcSGUUB-YMZyLJVKRth7uXloYTr7PGXiU55C5Bf720Nu75gH-KyF.jpg',\n",
       " 'ANd9GcSHn6w1Uqmxkc55FCqfcV87zfucGJJnYHdx6iado0kcVROIILVR.jpg',\n",
       " 'ANd9GcSiIshEp_XqTGK21OuunwaxkvQEdfOR5PlLcsrGnZPBxXlVVtGL.jpg',\n",
       " 'ANd9GcSIkCiwa9OC6vIXOsFG0ZJH0XreQqCtOGIDGk6Ys2WCtWDnYGrK.jpg',\n",
       " 'ANd9GcSIKiNt76Yz4eg_gVUYtwRKghRYUc2Lw5rYlO3-a8sY7pm7i6m-.jpg',\n",
       " 'ANd9GcSjUmlOuM-hMUUX5IMa52XBxmtU8CgTyoPiOQK9dpxW2fYDRIEOKA.jpg',\n",
       " 'ANd9GcSln0hhFYy7tpcdMj6JOktl3k3yy3mHRJeh7Gvzkg1F_6oOwBci.jpg',\n",
       " 'ANd9GcSM0cLGClu0SQKwpq_ZZsaXznmy-h8Y0Ttb63jjLZneCn9I9V3YPw.jpg',\n",
       " 'ANd9GcSm3z5e0x-9NF6xf7LjiklYRGPOJx5wWfZct1__DuSmc0xsDC_DnA.jpg',\n",
       " 'ANd9GcSnd1c5gE1WYsxCzEnlsAvxyK9sBB8SDeGY4Psbta0t6XznU9IhbA.jpg',\n",
       " 'ANd9GcSo-6NNim7C-45npFTKRVEQG5XMkFqpneEERVEkRNwu_qko0tYr.jpg',\n",
       " 'ANd9GcSO6YjQa2VEqGkOBHHZpujJE-wZ6VaXdQQ_YIxX5SXavvI9CojytQ.jpg',\n",
       " 'ANd9GcSOv3vee0T7Ecw6jFP5QxcaHTbNnXq9OB4motUu5ferck2TmleWag.jpg',\n",
       " 'ANd9GcSoXDQuZ3KPFVGwI1Sv0hHQ1ubZIhAvT9opLDWv1rE03DftteOx.jpg',\n",
       " 'ANd9GcSp2eCCuLAwXzRQ5MO52fursWn0VA56a2iuJ7h8YGaZX5lj8yE4_g.jpg',\n",
       " 'ANd9GcSp9R0vMt1_6MxgFlYClrV1I9nAAmN-4twmKTtBlkeo_8oEAhRZCQ.jpg',\n",
       " 'ANd9GcSPnWTIONjUFDJVrqCz4eU0lXIAjPhqSt7IbSM9Vvdc_ObEAvq4.jpg',\n",
       " 'ANd9GcSpPpGX73rlD0nJF7Mhs1R1fk4Hbg06aIyjY6fOokL-6NHsyZU9.jpg',\n",
       " 'ANd9GcSqm_1XQbyIXLmZwwAnRILA6iIrNT5cyZVRrCfBwMSN0E02aAHaNQ.jpg',\n",
       " 'ANd9GcSrbE0VNBhYHsR9SkBm3IcTaV2HqCLKFndwsD7gVR__A59k41DZ.jpg',\n",
       " 'ANd9GcSrteNASmCwurJCuyQY_UcCL0JPMD4OFcIra20bBZrvZ6Wmek4p1g.jpg',\n",
       " 'ANd9GcSryUPzGtYPDIG7WoK0jbl87hSyz9rlZTli81gyB8VF_GQDGlxm.jpg',\n",
       " 'ANd9GcSSd1tq43YaylXWhPBHu18u8xRrLQNfm7lP7EH560ash5ktzvyT.jpg',\n",
       " 'ANd9GcSssRyd8unmarcugLHORJoaIAASJ8A3vy9MY_gk6PPMy9RhRv9pKA.jpg',\n",
       " 'ANd9GcSTcuXv372zCUCsPzKydeEgVuTOGLGt6x-QaDTbiJwXlYGuNwgM.jpg',\n",
       " 'ANd9GcSTON5P7hV1h3rsbhlH2G_itQ0YD0NQabMcNh3O7RYBdxVK1UzkCg.jpg',\n",
       " 'ANd9GcSuvxnmFNl5lT6PSgyUULzDJBsdKge2bxdCpkF9NX9Dwxs41F61ZQ.jpg',\n",
       " 'ANd9GcSwA4dzLcW6TuLX5H72zuLkd3F_vWqxUXXvQ3woP7RwJYo7kHgj.jpg',\n",
       " 'ANd9GcSWKKqOD901Sces-_qUt4TZgByP7bljHGFGUpgJ_xbRFFYYUe2Y.jpg',\n",
       " 'ANd9GcSwMMYnfJYgbCb7zLdQ8a5diMu8IayQGp80MLjrceePkZoClDhG.jpg',\n",
       " 'ANd9GcSX0JV8h5HvMvZ68pxV4ue8VUMal3NliFhIuDadzopyzaWlJfs0.jpg',\n",
       " 'ANd9GcSxK0YEQtNWKXfhws-nNE_PwXgqEWeDjyWvb3lIAG4aXvDHchzOWQ.jpg',\n",
       " 'ANd9GcSxQqdD3aOacUk4iBL2HhFNGXq6l4D8ID0-QNVdkxGeG21zolSjKw.jpg',\n",
       " 'ANd9GcSYnNlhbQrNpR4t7CYfTZ-HEhnk0rMMDhofxt7abRFhokQSOrOzrQ.jpg',\n",
       " 'ANd9GcSyyxPeWFk6CJMhI3DQA5yTLbJ1o-mpogVzeCK1K8xFyC6QZ-Sk.jpg',\n",
       " 'ANd9GcSz0BQ73eM-4NS3l2Bd2qxGGqHhVVPsMyd4S9CDepU_hyNuSQur.jpg',\n",
       " 'ANd9GcSZF97p4jDUhNedgA22bZThHN-RtB0UGEl63jFRePt8ZDaYdrUKJQ.jpg',\n",
       " 'ANd9GcSznTaQdmwAmsFEueIyGmMIi-lcmsbH8U02G0nrVqLB-mhhM8oqhw.jpg',\n",
       " 'ANd9GcSZWSmraZjjTyLx1073HWyZ6M8fg9V2Jy2a3g6vl6T0evhy174oLQ.jpg',\n",
       " 'ANd9GcSZZYDK_jQjQGw_NXuLtwJrw99hOSjND8d4UR05iu8plNpckRka0Q.jpg',\n",
       " 'ANd9GcS_i9VcgSmBSiCF2z0ylengs8P-brWm-DdZuLyawmqagLYFkn7L.jpg',\n",
       " 'ANd9GcT0Bp_5lnY4A6M9aK1v4ESe9CUZwfzxT5pDEjPw9fr4SxwvXcLD.jpg',\n",
       " 'ANd9GcT0y7fzE7UDVe4F50V2BDkP1iV6g_6K2uVviyOj83fcKNVDS40gjw.jpg',\n",
       " 'ANd9GcT48i5XMpqee88EVkeuJHZMVlUv8KPh-B2WZhQBN9x9FB66bGAJfw.jpg',\n",
       " 'ANd9GcT4VC34U2-oO-PGTRvwpm0PkR1fV1isMgJG-xzl0ITK0zVFAvbcVQ.jpg',\n",
       " 'ANd9GcT6gQ1ggVnfaHRzaKo-QYSq5UR0ny37FnfkE4J3VCuqiwt1Fx53.jpg',\n",
       " 'ANd9GcT7yza-mjWEXhJq4kvpGtfhwLv5XSg-1IBvFDJnAB0cyPYy7arOwg.jpg',\n",
       " 'ANd9GcT99qynJRYFbAUluYTLG6DEqhBDP4C7sQafDMqcqveY22ilXi9a.jpg',\n",
       " 'ANd9GcT9EXYphMtVhyfMNinxw1sxpj3cPHLQwnkkwrCSChxH7Y-ymVQGew.jpg',\n",
       " 'ANd9GcT9YNjG7l3wGrIHWrFUlo7gdoZOD7ztUNTDFIbY3mq8vwWrAJtfKQ.jpg',\n",
       " 'ANd9GcTaVHq8shtbIRmDh5fr9bTsoHENiq7-O2BdZJIyoQjuPf-nFQrNvg.jpg',\n",
       " 'ANd9GcTaX5lX2uHWzc-8YgM_cINY83UaET3E5gWYJrB4uk0IAeb8tEvc.jpg',\n",
       " 'ANd9GcTbIx9wwIUZvMWT4wy9ium8l8NAsErK_bOSbq-Y5bo_MXrbRZpO.jpg',\n",
       " 'ANd9GcTcFSNqA2XIfTczBvwe0tj6XQ5qkhno8DjrpfjLsKRVSbOZC0u_Nw.jpg',\n",
       " 'ANd9GcTCtpQbnc-4neJVI9cZf_G3LAFFcfUrazThGa9S0COWAVDNOEYzeA.jpg',\n",
       " 'ANd9GcTdIV49ySEpagqx8Ow0-uiAF-PyhqLWl-kMW_O1lNMahMc-KNSS-w.jpg',\n",
       " 'ANd9GcTdJC2Aqa9S_y7xymcO9WNnvWGTDWgGyu-ZwsP0ky4tuVs2GeK_.jpg',\n",
       " 'ANd9GcTDLIm1z3Byy6LNCByFeXncdkSCNSkIUvAFL0eEu33HmemgTmZs.jpg',\n",
       " 'ANd9GcTe3j4wfIORh7uUfciiwjRrnlN4YVdqW-BzJIyQGZd4B7YBFeexXg.jpg',\n",
       " 'ANd9GcTe9SP6wIB_g4zEAV_0M3gjG5S7cTl-ln8O09tcZJemwoh39ANAMA.jpg',\n",
       " 'ANd9GcTEfw7XCw7Kru1RLW1sh-uXjnQMSV6jcjYJrYV2b-g9PJAAywI3.jpg',\n",
       " 'ANd9GcTEgBIMTvrt-LflOQw6vVfymUquQ1eR6pTkAujHKdGUlQFWNh8sLA.jpg',\n",
       " 'ANd9GcTejrFzbY4Okr8pnP3ANie4O_BimwiLGk9Jl-erR8H9QglV2tAv.jpg',\n",
       " 'ANd9GcTf-heP-pv3G7A53cpiB9HmoSq59WwUdD_PJb8osdC7liaq4yltDw.jpg',\n",
       " 'ANd9GcTfZ4AazvaWqseOl9n_oxWx8cq2TRkmis9lakfylqImUq77i0gDvg.jpg',\n",
       " 'ANd9GcTgCaYCfpBWNwcRdYdPDbBQsFvog82SoiRtpZQcUWR6kzh6Ixnm0A.jpg',\n",
       " 'ANd9GcTgLlOp0aLklNL-bYlvCcrj4x4zalbiUjUAvucl_J1m2Xn7ar7H8A.jpg',\n",
       " 'ANd9GcTGulw3eXsi9Ix7hfJkUq8cAIqbsK1Mm_Ne_3AXZqZxnuNNEbbPkw.jpg',\n",
       " 'ANd9GcTGxAtt0OezU_UUov00DNcNWhqPrXLSdkZF02-opFeG1qA91Kq7.jpg',\n",
       " 'ANd9GcThKCz38f2LPjCZYLSKTPzuaH1UBosqfTgTRmmUrL0NblF_ImiF.jpg',\n",
       " 'ANd9GcTHxzNFVvBmvrA48zGGjH2y2cRnpKwxtHpFBJci6Bz6D781Coca0g.jpg',\n",
       " 'ANd9GcTIEfHUdNJU8nmm6ccZEwUrnpwT_eJ6_foUrAM87JRa5c-ZlIbwIQ.jpg',\n",
       " 'ANd9GcTIf-o76duTt9Lr8ioINZT0V4n-nYmi7nRZOrr0krkL22XfukAREw.jpg',\n",
       " 'ANd9GcTj3MWVlssO-gsSyEy_z6w3TQTbknELssvdKgnpWOFs35PdnqHO.jpg',\n",
       " 'ANd9GcTJJaaWTpiHCnjgJwpyD-kvuQam6_p4e7AdjsnyeAqgyKjmZG2HKQ.jpg',\n",
       " 'ANd9GcTJmgg9Sqpge2pcrhZ9mz96jK_j3Y0cLq5owwKCFpmzDEXS6EZsmA.jpg',\n",
       " 'ANd9GcTkAlYoJMxJndn2BEpNKruTGvEU4EqN5VsTcWOp6eWdgmD_X-Wq.jpg',\n",
       " 'ANd9GcTkNot53ngeIb9X3U9iN4Sh3X59ouYy_AgYa1OmGjG4MCt9-PUL0Q.jpg',\n",
       " 'ANd9GcTLAw33eOOazGH6uZSnH-CWEFn0REbt4rhRGTFP9OtASbq6WGTE.jpg',\n",
       " 'ANd9GcTlE-djLP5QRORP50mVwRpTx3SfL5Z0oh4IxnLc0mOau1PwCwN09g.jpg',\n",
       " 'ANd9GcTlLg3ix_om27QHYQywJBxQ2Y6nK3Duz_odbtqWIYy_wPvwhQbpog.jpg',\n",
       " 'ANd9GcTmhO-NiZo1nMCo3TLURamvow5NuZvkrbArspjSdiYVdwLpjcOx.jpg',\n",
       " 'ANd9GcTmQTa8o0zfOnHBtVzkFOtygh0CHtHrgtXJMAyoK25FZic6pwIpGw.jpg',\n",
       " 'ANd9GcTmUuQP-JBKvy-ibtdjrse71Aa4sSbfrrPHYZRlj93sAlQG5-_I.jpg',\n",
       " 'ANd9GcTN3HMmb-51gKLxAm1y4GsJEUOlCV2OfUkz4uhTB6oKy9VnLCeOhw.jpg',\n",
       " 'ANd9GcTngJS0K_sRgd0dW_L033ImmqfQgA8v9qxkSBEi5WsnKgbWI1VmrQ.jpg',\n",
       " 'ANd9GcTNVqpd8REzht3eFAy9Jz5Ngbt6wWyZ8_VqxzwG8TMpcL47HfbC.jpg',\n",
       " 'ANd9GcTnvwpHBnPJTKMBCv3ust9apfnoohWgrteGulWlAld2Ckhdx-ds-g.jpg',\n",
       " 'ANd9GcTN_elDmGh2bsiOufj3vM7fasWptRs7lWsYPr2X4oV8jgkXwwXYPQ.jpg',\n",
       " 'ANd9GcTOOzwMfLeOiUE0Z25XJ6dD_9YJz3yQt-boxV0OKtHC7P_DXEVy.jpg',\n",
       " 'ANd9GcToraLhMHQruB7hhDZdyQjbJd2wXh8wP5nBD7e0V1EO2S5vjpH3Tg.jpg',\n",
       " 'ANd9GcToxTWDcc9vjDVxszhq0vEpfAGfPaYtN8ZeTDAXa5VF3t1T66-G.jpg',\n",
       " 'ANd9GcTp8whBw72beOzKbfNxhOvOcUdVYQkatZLM4Jb1-I2mE213uxrL4w.jpg',\n",
       " 'ANd9GcTPM9wNn_Df5gSmXdUjt7xZX0v6h0kh2izbHif5JpPuwMrkJ-026A.jpg',\n",
       " 'ANd9GcTPnAKrWxoude2uTOS5c8n7UTq267WhojBmTu_sr0VUzlSgHZr3wQ.jpg',\n",
       " 'ANd9GcTQCBxS6ZsaipQu-2yoIjpZ3nPJLKpia8Xto0srPor-sb0IeLWZ.jpg',\n",
       " 'ANd9GcTRu3ACCsdcBx04L-Iml1J1mB7Ll9nwmCOHBXoomKypWRGhBBaB.jpg',\n",
       " 'ANd9GcTS8TOvHh6DNja7Xyii86ktqmYPLDekvhMEIxAejWKAc-5HICs9.jpg',\n",
       " 'ANd9GcTS8vYYRQBMxppHLMgQ1Q4PtFk9XNy-LK93VoGsbYPgYL1DtL1etw.jpg',\n",
       " 'ANd9GcTsJ2qcV3Y04oOkK_Had4s70vFkPEgWmZOu7UPT9i5Q7RY05eHS.jpg',\n",
       " 'ANd9GcTSXYReKjJ-JUy1Yqjnm6Movd31N_DyrkDq934BWt-gTltU-rlU1Q.jpg',\n",
       " 'ANd9GcTTL5UHDmyfMgCarAWzP5Z-8p5Gi0B0n50EjTcDIajvs-cwaCSK.jpg',\n",
       " 'ANd9GcTUFCM9YAnl-OPfP7bmjt-JI1po5K61HFIOjDNc2Pgoka58chhE.jpg',\n",
       " 'ANd9GcTvbPDbeiU7ynWWo4EwI85WMJZzGnnjGlG5H8VMBXWOiPzXjAVT.jpg',\n",
       " 'ANd9GcTvgK6P6HCnvkH-m9Qg77WYngwHs9q_mpGTuaBKxZiUMT5I7qvDUQ.jpg',\n",
       " 'ANd9GcTvNmndTgTAWfCZ8vq7xiYhBsfbElZLoPmVf6uRX3zOtoe-0o3UkQ.jpg',\n",
       " 'ANd9GcTvW5Vf7GeL4SpTdOkpfgBEJotUVNpRyjrN3AOs-NHRowHKLkWyIQ.jpg',\n",
       " 'ANd9GcTvW6AFPwQGRx8hERdYXT8inKh9VqJ5jGNJ6hnf1jlUG2IzG1ya.jpg',\n",
       " 'ANd9GcTw2a9-1o1rlGzIS9qgxtAjNAvBaNfV3ye-Wobc4FacM7LemMv3.jpg',\n",
       " 'ANd9GcTwkSBYh0SAj7Pc0Irfv4Lat1FHPPdB07ofXSFEwdt0s4GygRmS5Q.jpg',\n",
       " 'ANd9GcTwL4VNcTp-aW__u9OujZ_9Z0mC71EAtHqhkEUBksv2uz6-lKAPbw.jpg',\n",
       " 'ANd9GcTWnduzufKm2ATRIIix59dARYveEdCviL1nI72lRDf-6C9Tl89f.jpg',\n",
       " 'ANd9GcTWOfd-7dqedV9fvOaTTV3ql6vTH7K6YpdAfugvOp-ZUdE2P3YT.jpg',\n",
       " 'ANd9GcTx6VWlTp3io3kjQWOWniGjwWFaFLyHskq32Os4fLrI7FFRjy2IaQ.jpg',\n",
       " 'ANd9GcTXFs6h33TrwJZEw9J_A1coiMuil0DXC32VwQ4JeJ5oFkNplvdQqA.jpg',\n",
       " 'ANd9GcTXuS6gHaBbszE1eN_Z5OBSJpJff5B7WONIG58k1tQnDBeb008dHA.jpg',\n",
       " 'ANd9GcTYFSvVTHuoo76NsMp-o3BJckXN-Skc1qkA5aYKiWlA5mKJ_YGtNg.jpg',\n",
       " 'ANd9GcT_bWyTHQDtzBXvbbSgIvTlhpltOwKvtUN04LkmLpcqYlXyN3gUmw.jpg',\n",
       " 'ANd9GcT_N4_ulnQJOMXxczfXVLcM4EejlTOKJEJPnZOIzwyOysDsIHGZ.jpg']"
      ]
     },
     "execution_count": 211,
     "metadata": {},
     "output_type": "execute_result"
    }
   ],
   "source": [
    "os.listdir('idol1/')"
   ]
  },
  {
   "cell_type": "code",
   "execution_count": 223,
   "metadata": {},
   "outputs": [
    {
     "data": {
      "image/png": "[encoded data removed]",
      "text/plain": [
       "<PIL.JpegImagePlugin.JpegImageFile image mode=RGB size=275x183 at 0x17A18550>"
      ]
     },
     "execution_count": 223,
     "metadata": {},
     "output_type": "execute_result"
    }
   ],
   "source": [
    "from PIL import Image\n",
    "Image.open('idol1/ANd9GcQ0wqdSb8yIfi-bX1pHL2RK0cjlMs_2RxSNX3EvMCFj1Cf-JMzJ.jpg')"
   ]
  },
  {
   "cell_type": "markdown",
   "metadata": {},
   "source": [
    "### 偵測人臉"
   ]
  },
  {
   "cell_type": "code",
   "execution_count": 224,
   "metadata": {},
   "outputs": [],
   "source": [
    "import cv2 as cv\n",
    "img = cv.imread('idol1/ANd9GcQ0wqdSb8yIfi-bX1pHL2RK0cjlMs_2RxSNX3EvMCFj1Cf-JMzJ.jpg')"
   ]
  },
  {
   "cell_type": "code",
   "execution_count": 225,
   "metadata": {},
   "outputs": [],
   "source": [
    "face_cascade = cv.CascadeClassifier('C:\\\\ProgramData\\\\Anaconda3\\\\Lib\\\\site-packages\\\\cv2\\\\data\\\\haarcascade_frontalface_default.xml')\n",
    "faces = face_cascade.detectMultiScale(img, 1.3, 5)"
   ]
  },
  {
   "cell_type": "code",
   "execution_count": 222,
   "metadata": {},
   "outputs": [],
   "source": [
    "?face_cascade.detectMultiScale(img, 1.3, 5)"
   ]
  },
  {
   "cell_type": "code",
   "execution_count": 226,
   "metadata": {},
   "outputs": [
    {
     "data": {
      "text/plain": [
       "array([[104,  26, 102, 102]], dtype=int32)"
      ]
     },
     "execution_count": 226,
     "metadata": {},
     "output_type": "execute_result"
    }
   ],
   "source": [
    "faces"
   ]
  },
  {
   "cell_type": "code",
   "execution_count": 228,
   "metadata": {},
   "outputs": [],
   "source": [
    "x,y,w,h = faces[0]"
   ]
  },
  {
   "cell_type": "code",
   "execution_count": 229,
   "metadata": {},
   "outputs": [],
   "source": [
    "im = Image.open('idol1/ANd9GcQ0wqdSb8yIfi-bX1pHL2RK0cjlMs_2RxSNX3EvMCFj1Cf-JMzJ.jpg')"
   ]
  },
  {
   "cell_type": "code",
   "execution_count": 231,
   "metadata": {},
   "outputs": [
    {
     "data": {
      "image/png": "[encoded data removed]",
      "text/plain": [
       "<PIL.JpegImagePlugin.JpegImageFile image mode=RGB size=275x183 at 0x17A18940>"
      ]
     },
     "execution_count": 231,
     "metadata": {},
     "output_type": "execute_result"
    }
   ],
   "source": [
    "im"
   ]
  },
  {
   "cell_type": "markdown",
   "metadata": {},
   "source": [
    "### 摘取人臉部分"
   ]
  },
  {
   "cell_type": "code",
   "execution_count": 232,
   "metadata": {},
   "outputs": [
    {
     "data": {
      "image/png": "[encoded data removed]",
      "text/plain": [
       "<PIL.Image.Image image mode=RGB size=102x102 at 0x176BE710>"
      ]
     },
     "execution_count": 232,
     "metadata": {},
     "output_type": "execute_result"
    }
   ],
   "source": [
    "im.crop((x,y,x + w, y+h))"
   ]
  },
  {
   "cell_type": "code",
   "execution_count": 234,
   "metadata": {},
   "outputs": [
    {
     "data": {
      "image/png": "[encoded data removed]",
      "text/plain": [
       "<PIL.Image.Image image mode=RGB size=64x64 at 0x17AA65F8>"
      ]
     },
     "execution_count": 234,
     "metadata": {},
     "output_type": "execute_result"
    }
   ],
   "source": [
    "im.crop((x,y,x + w, y+h)).resize((64,64))"
   ]
  },
  {
   "cell_type": "markdown",
   "metadata": {},
   "source": [
    "### 批次摘取人臉"
   ]
  },
  {
   "cell_type": "code",
   "execution_count": 235,
   "metadata": {},
   "outputs": [],
   "source": [
    "import os\n",
    "os.mkdir('idol1_face/')"
   ]
  },
  {
   "cell_type": "code",
   "execution_count": 240,
   "metadata": {},
   "outputs": [],
   "source": [
    "src_path = 'idol1/'\n",
    "dest_path = 'idol1_face/'\n",
    "face_cascade = cv.CascadeClassifier('C:\\\\ProgramData\\\\Anaconda3\\\\Lib\\\\site-packages\\\\cv2\\\\data\\\\haarcascade_frontalface_default.xml')\n",
    "\n",
    "for f in os.listdir(src_path):\n",
    "    img   = cv.imread(src_path + f)\n",
    "    faces = face_cascade.detectMultiScale(img, 1.3, 5)\n",
    "    if len(faces) == 1:\n",
    "        x , y, w, h = faces[0]\n",
    "        im = Image.open(src_path + f)\n",
    "        im = im.crop((x,y,x + w, y+h)).resize((64,64))\n",
    "        im.save(dest_path+f)\n",
    "        "
   ]
  },
  {
   "cell_type": "markdown",
   "metadata": {},
   "source": [
    "### CropFace 函數"
   ]
  },
  {
   "cell_type": "code",
   "execution_count": 241,
   "metadata": {},
   "outputs": [],
   "source": [
    "def cropFace(src_path, dest_path):\n",
    "    face_cascade = cv.CascadeClassifier('C:\\\\ProgramData\\\\Anaconda3\\\\Lib\\\\site-packages\\\\cv2\\\\data\\\\haarcascade_frontalface_default.xml')\n",
    "\n",
    "    for f in os.listdir(src_path):\n",
    "        img   = cv.imread(src_path + f)\n",
    "        faces = face_cascade.detectMultiScale(img, 1.3, 5)\n",
    "        if len(faces) == 1:\n",
    "            x , y, w, h = faces[0]\n",
    "            im = Image.open(src_path + f)\n",
    "            im = im.crop((x,y,x + w, y+h)).resize((64,64))\n",
    "            im.save(dest_path+f) "
   ]
  },
  {
   "cell_type": "code",
   "execution_count": 242,
   "metadata": {},
   "outputs": [],
   "source": [
    "os.mkdir('idol2_face/')\n",
    "cropFace('idol2/', 'idol2_face/')"
   ]
  },
  {
   "cell_type": "code",
   "execution_count": 243,
   "metadata": {},
   "outputs": [],
   "source": [
    "os.mkdir('idol3_face/')\n",
    "cropFace('idol3/', 'idol3_face/')"
   ]
  },
  {
   "cell_type": "code",
   "execution_count": null,
   "metadata": {},
   "outputs": [],
   "source": []
  }
 ],
 "metadata": {
  "kernelspec": {
   "display_name": "Python 3",
   "language": "python",
   "name": "python3"
  },
  "language_info": {
   "codemirror_mode": {
    "name": "ipython",
    "version": 3
   },
   "file_extension": ".py",
   "mimetype": "text/x-python",
   "name": "python",
   "nbconvert_exporter": "python",
   "pygments_lexer": "ipython3",
   "version": "3.6.5"
  }
 },
 "nbformat": 4,
 "nbformat_minor": 2
}
